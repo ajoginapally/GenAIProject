{
 "cells": [
  {
   "cell_type": "markdown",
   "id": "8e6423d8",
   "metadata": {
    "papermill": {
     "duration": 0.018433,
     "end_time": "2025-04-19T21:52:15.222212",
     "exception": false,
     "start_time": "2025-04-19T21:52:15.203779",
     "status": "completed"
    },
    "tags": []
   },
   "source": [
    "# Synopsis\n",
    "Aquarc is an all-in-one SAT platform for high schoolers designed to minimize time spent using the software and maximizing practice and essential questions. In order to further this mission, Aquarc Intelligence was created to analyze mistakes within a question and to suggest similar questions for efficient practicing."
   ]
  },
  {
   "cell_type": "markdown",
   "id": "9ad66368",
   "metadata": {
    "papermill": {
     "duration": 0.016447,
     "end_time": "2025-04-19T21:52:15.255773",
     "exception": false,
     "start_time": "2025-04-19T21:52:15.239326",
     "status": "completed"
    },
    "tags": []
   },
   "source": [
    "# Install the SDK \n",
    "We will be using Google's Gemini and utilities to build the model."
   ]
  },
  {
   "cell_type": "code",
   "execution_count": 1,
   "id": "1f699ced",
   "metadata": {
    "execution": {
     "iopub.execute_input": "2025-04-19T21:52:15.291971Z",
     "iopub.status.busy": "2025-04-19T21:52:15.291654Z",
     "iopub.status.idle": "2025-04-19T21:52:52.375343Z",
     "shell.execute_reply": "2025-04-19T21:52:52.374257Z"
    },
    "papermill": {
     "duration": 37.102894,
     "end_time": "2025-04-19T21:52:52.377101",
     "exception": false,
     "start_time": "2025-04-19T21:52:15.274207",
     "status": "completed"
    },
    "tags": []
   },
   "outputs": [
    {
     "name": "stdout",
     "output_type": "stream",
     "text": [
      "\u001b[2K     \u001b[90m━━━━━━━━━━━━━━━━━━━━━━━━━━━━━━━━━━━━━━━━\u001b[0m \u001b[32m67.3/67.3 kB\u001b[0m \u001b[31m3.7 MB/s\u001b[0m eta \u001b[36m0:00:00\u001b[0m\r\n",
      "\u001b[?25h  Installing build dependencies ... \u001b[?25l\u001b[?25hdone\r\n",
      "  Getting requirements to build wheel ... \u001b[?25l\u001b[?25hdone\r\n",
      "  Preparing metadata (pyproject.toml) ... \u001b[?25l\u001b[?25hdone\r\n",
      "\u001b[2K   \u001b[90m━━━━━━━━━━━━━━━━━━━━━━━━━━━━━━━━━━━━━━━━\u001b[0m \u001b[32m144.7/144.7 kB\u001b[0m \u001b[31m8.1 MB/s\u001b[0m eta \u001b[36m0:00:00\u001b[0m\r\n",
      "\u001b[2K   \u001b[90m━━━━━━━━━━━━━━━━━━━━━━━━━━━━━━━━━━━━━━━━\u001b[0m \u001b[32m611.1/611.1 kB\u001b[0m \u001b[31m24.8 MB/s\u001b[0m eta \u001b[36m0:00:00\u001b[0m\r\n",
      "\u001b[2K   \u001b[90m━━━━━━━━━━━━━━━━━━━━━━━━━━━━━━━━━━━━━━━━\u001b[0m \u001b[32m2.4/2.4 MB\u001b[0m \u001b[31m66.3 MB/s\u001b[0m eta \u001b[36m0:00:00\u001b[0m\r\n",
      "\u001b[2K   \u001b[90m━━━━━━━━━━━━━━━━━━━━━━━━━━━━━━━━━━━━━━━━\u001b[0m \u001b[32m1.0/1.0 MB\u001b[0m \u001b[31m45.3 MB/s\u001b[0m eta \u001b[36m0:00:00\u001b[0m\r\n",
      "\u001b[2K   \u001b[90m━━━━━━━━━━━━━━━━━━━━━━━━━━━━━━━━━━━━━━━━\u001b[0m \u001b[32m232.6/232.6 kB\u001b[0m \u001b[31m14.4 MB/s\u001b[0m eta \u001b[36m0:00:00\u001b[0m\r\n",
      "\u001b[2K   \u001b[90m━━━━━━━━━━━━━━━━━━━━━━━━━━━━━━━━━━━━━━━━\u001b[0m \u001b[32m100.9/100.9 kB\u001b[0m \u001b[31m6.3 MB/s\u001b[0m eta \u001b[36m0:00:00\u001b[0m\r\n",
      "\u001b[2K   \u001b[90m━━━━━━━━━━━━━━━━━━━━━━━━━━━━━━━━━━━━━━━━\u001b[0m \u001b[32m284.2/284.2 kB\u001b[0m \u001b[31m18.7 MB/s\u001b[0m eta \u001b[36m0:00:00\u001b[0m\r\n",
      "\u001b[2K   \u001b[90m━━━━━━━━━━━━━━━━━━━━━━━━━━━━━━━━━━━━━━━━\u001b[0m \u001b[32m95.2/95.2 kB\u001b[0m \u001b[31m6.3 MB/s\u001b[0m eta \u001b[36m0:00:00\u001b[0m\r\n",
      "\u001b[2K   \u001b[90m━━━━━━━━━━━━━━━━━━━━━━━━━━━━━━━━━━━━━━━━\u001b[0m \u001b[32m2.0/2.0 MB\u001b[0m \u001b[31m66.3 MB/s\u001b[0m eta \u001b[36m0:00:00\u001b[0m\r\n",
      "\u001b[2K   \u001b[90m━━━━━━━━━━━━━━━━━━━━━━━━━━━━━━━━━━━━━━━━\u001b[0m \u001b[32m433.9/433.9 kB\u001b[0m \u001b[31m24.8 MB/s\u001b[0m eta \u001b[36m0:00:00\u001b[0m\r\n",
      "\u001b[2K   \u001b[90m━━━━━━━━━━━━━━━━━━━━━━━━━━━━━━━━━━━━━━━━\u001b[0m \u001b[32m99.2/99.2 kB\u001b[0m \u001b[31m6.7 MB/s\u001b[0m eta \u001b[36m0:00:00\u001b[0m\r\n",
      "\u001b[2K   \u001b[90m━━━━━━━━━━━━━━━━━━━━━━━━━━━━━━━━━━━━━━━━\u001b[0m \u001b[32m16.0/16.0 MB\u001b[0m \u001b[31m93.8 MB/s\u001b[0m eta \u001b[36m0:00:00\u001b[0m\r\n",
      "\u001b[2K   \u001b[90m━━━━━━━━━━━━━━━━━━━━━━━━━━━━━━━━━━━━━━━━\u001b[0m \u001b[32m55.9/55.9 kB\u001b[0m \u001b[31m4.3 MB/s\u001b[0m eta \u001b[36m0:00:00\u001b[0m\r\n",
      "\u001b[2K   \u001b[90m━━━━━━━━━━━━━━━━━━━━━━━━━━━━━━━━━━━━━━━━\u001b[0m \u001b[32m188.4/188.4 kB\u001b[0m \u001b[31m8.5 MB/s\u001b[0m eta \u001b[36m0:00:00\u001b[0m\r\n",
      "\u001b[2K   \u001b[90m━━━━━━━━━━━━━━━━━━━━━━━━━━━━━━━━━━━━━━━━\u001b[0m \u001b[32m65.3/65.3 kB\u001b[0m \u001b[31m4.4 MB/s\u001b[0m eta \u001b[36m0:00:00\u001b[0m\r\n",
      "\u001b[2K   \u001b[90m━━━━━━━━━━━━━━━━━━━━━━━━━━━━━━━━━━━━━━━━\u001b[0m \u001b[32m119.0/119.0 kB\u001b[0m \u001b[31m8.5 MB/s\u001b[0m eta \u001b[36m0:00:00\u001b[0m\r\n",
      "\u001b[2K   \u001b[90m━━━━━━━━━━━━━━━━━━━━━━━━━━━━━━━━━━━━━━━━\u001b[0m \u001b[32m89.1/89.1 kB\u001b[0m \u001b[31m6.2 MB/s\u001b[0m eta \u001b[36m0:00:00\u001b[0m\r\n",
      "\u001b[2K   \u001b[90m━━━━━━━━━━━━━━━━━━━━━━━━━━━━━━━━━━━━━━━━\u001b[0m \u001b[32m62.5/62.5 kB\u001b[0m \u001b[31m4.1 MB/s\u001b[0m eta \u001b[36m0:00:00\u001b[0m\r\n",
      "\u001b[2K   \u001b[90m━━━━━━━━━━━━━━━━━━━━━━━━━━━━━━━━━━━━━━━━\u001b[0m \u001b[32m442.1/442.1 kB\u001b[0m \u001b[31m29.3 MB/s\u001b[0m eta \u001b[36m0:00:00\u001b[0m\r\n",
      "\u001b[2K   \u001b[90m━━━━━━━━━━━━━━━━━━━━━━━━━━━━━━━━━━━━━━━━\u001b[0m \u001b[32m319.7/319.7 kB\u001b[0m \u001b[31m21.3 MB/s\u001b[0m eta \u001b[36m0:00:00\u001b[0m\r\n",
      "\u001b[2K   \u001b[90m━━━━━━━━━━━━━━━━━━━━━━━━━━━━━━━━━━━━━━━━\u001b[0m \u001b[32m72.0/72.0 kB\u001b[0m \u001b[31m4.8 MB/s\u001b[0m eta \u001b[36m0:00:00\u001b[0m\r\n",
      "\u001b[2K   \u001b[90m━━━━━━━━━━━━━━━━━━━━━━━━━━━━━━━━━━━━━━━━\u001b[0m \u001b[32m3.8/3.8 MB\u001b[0m \u001b[31m89.4 MB/s\u001b[0m eta \u001b[36m0:00:00\u001b[0m\r\n",
      "\u001b[2K   \u001b[90m━━━━━━━━━━━━━━━━━━━━━━━━━━━━━━━━━━━━━━━━\u001b[0m \u001b[32m454.9/454.9 kB\u001b[0m \u001b[31m27.4 MB/s\u001b[0m eta \u001b[36m0:00:00\u001b[0m\r\n",
      "\u001b[2K   \u001b[90m━━━━━━━━━━━━━━━━━━━━━━━━━━━━━━━━━━━━━━━━\u001b[0m \u001b[32m46.0/46.0 kB\u001b[0m \u001b[31m3.2 MB/s\u001b[0m eta \u001b[36m0:00:00\u001b[0m\r\n",
      "\u001b[2K   \u001b[90m━━━━━━━━━━━━━━━━━━━━━━━━━━━━━━━━━━━━━━━━\u001b[0m \u001b[32m86.8/86.8 kB\u001b[0m \u001b[31m6.1 MB/s\u001b[0m eta \u001b[36m0:00:00\u001b[0m\r\n",
      "\u001b[?25h  Building wheel for pypika (pyproject.toml) ... \u001b[?25l\u001b[?25hdone\r\n",
      "\u001b[31mERROR: pip's dependency resolver does not currently take into account all the packages that are installed. This behaviour is the source of the following dependency conflicts.\r\n",
      "gcsfs 2024.10.0 requires fsspec==2024.10.0, but you have fsspec 2024.12.0 which is incompatible.\r\n",
      "google-api-core 1.34.1 requires protobuf!=3.20.0,!=3.20.1,!=4.21.0,!=4.21.1,!=4.21.2,!=4.21.3,!=4.21.4,!=4.21.5,<4.0.0dev,>=3.19.5, but you have protobuf 5.29.4 which is incompatible.\r\n",
      "google-cloud-bigtable 2.27.0 requires google-api-core[grpc]<3.0.0dev,>=2.16.0, but you have google-api-core 1.34.1 which is incompatible.\r\n",
      "google-cloud-translate 3.12.1 requires protobuf!=3.20.0,!=3.20.1,!=4.21.0,!=4.21.1,!=4.21.2,!=4.21.3,!=4.21.4,!=4.21.5,<5.0.0dev,>=3.19.5, but you have protobuf 5.29.4 which is incompatible.\r\n",
      "pandas-gbq 0.25.0 requires google-api-core<3.0.0dev,>=2.10.2, but you have google-api-core 1.34.1 which is incompatible.\r\n",
      "tensorflow 2.17.1 requires protobuf!=4.21.0,!=4.21.1,!=4.21.2,!=4.21.3,!=4.21.4,!=4.21.5,<5.0.0dev,>=3.20.3, but you have protobuf 5.29.4 which is incompatible.\r\n",
      "tensorflow-decision-forests 1.10.0 requires tensorflow==2.17.0, but you have tensorflow 2.17.1 which is incompatible.\r\n",
      "tensorflow-metadata 1.13.1 requires protobuf<5,>=3.20.3, but you have protobuf 5.29.4 which is incompatible.\u001b[0m\u001b[31m\r\n",
      "\u001b[0m"
     ]
    }
   ],
   "source": [
    "!pip uninstall -qqy jupyterlab  # Remove unused packages from Kaggle's base image that conflict\n",
    "!pip install -U -q \"google-genai==1.7.0\" langchain PyPDF2 \"chromadb==0.6.3\" markdownify"
   ]
  },
  {
   "cell_type": "markdown",
   "id": "d426bba4",
   "metadata": {
    "papermill": {
     "duration": 0.017929,
     "end_time": "2025-04-19T21:52:52.414447",
     "exception": false,
     "start_time": "2025-04-19T21:52:52.396518",
     "status": "completed"
    },
    "tags": []
   },
   "source": [
    "Import the SDK and set up the API key"
   ]
  },
  {
   "cell_type": "code",
   "execution_count": 2,
   "id": "4e728928",
   "metadata": {
    "execution": {
     "iopub.execute_input": "2025-04-19T21:52:52.452506Z",
     "iopub.status.busy": "2025-04-19T21:52:52.452210Z",
     "iopub.status.idle": "2025-04-19T21:52:53.455632Z",
     "shell.execute_reply": "2025-04-19T21:52:53.454897Z"
    },
    "papermill": {
     "duration": 1.024397,
     "end_time": "2025-04-19T21:52:53.457192",
     "exception": false,
     "start_time": "2025-04-19T21:52:52.432795",
     "status": "completed"
    },
    "tags": []
   },
   "outputs": [],
   "source": [
    "from google import genai\n",
    "from google.genai import types\n",
    "\n",
    "from IPython.display import HTML, Markdown, display"
   ]
  },
  {
   "cell_type": "markdown",
   "id": "55addb04",
   "metadata": {
    "papermill": {
     "duration": 0.01819,
     "end_time": "2025-04-19T21:52:53.494714",
     "exception": false,
     "start_time": "2025-04-19T21:52:53.476524",
     "status": "completed"
    },
    "tags": []
   },
   "source": [
    "Set up a retry helper so we can press \"Run All\" and not worry about hitting the quota. "
   ]
  },
  {
   "cell_type": "code",
   "execution_count": 3,
   "id": "d7d40571",
   "metadata": {
    "execution": {
     "iopub.execute_input": "2025-04-19T21:52:53.532709Z",
     "iopub.status.busy": "2025-04-19T21:52:53.532229Z",
     "iopub.status.idle": "2025-04-19T21:52:53.673176Z",
     "shell.execute_reply": "2025-04-19T21:52:53.672287Z"
    },
    "papermill": {
     "duration": 0.161872,
     "end_time": "2025-04-19T21:52:53.674866",
     "exception": false,
     "start_time": "2025-04-19T21:52:53.512994",
     "status": "completed"
    },
    "tags": []
   },
   "outputs": [],
   "source": [
    "from google.api_core import retry\n",
    "\n",
    "\n",
    "is_retriable = lambda e: (isinstance(e, genai.errors.APIError) and e.code in {429, 503})\n",
    "\n",
    "genai.models.Models.generate_content = retry.Retry(\n",
    "    predicate=is_retriable)(genai.models.Models.generate_content)"
   ]
  },
  {
   "cell_type": "markdown",
   "id": "2e8a126a",
   "metadata": {
    "papermill": {
     "duration": 0.018319,
     "end_time": "2025-04-19T21:52:53.711970",
     "exception": false,
     "start_time": "2025-04-19T21:52:53.693651",
     "status": "completed"
    },
    "tags": []
   },
   "source": [
    "### Set up your API key\n",
    "\n",
    "To run the following cell, your API key must be stored it in a [Kaggle secret](https://www.kaggle.com/discussions/product-feedback/114053) named `GOOGLE_API_KEY`.\n",
    "\n",
    "If you don't already have an API key, you can grab one from [AI Studio](https://aistudio.google.com/app/apikey). You can find [detailed instructions in the docs](https://ai.google.dev/gemini-api/docs/api-key).\n",
    "\n",
    "To make the key available through Kaggle secrets, choose `Secrets` from the `Add-ons` menu and follow the instructions to add your key or enable it for this notebook."
   ]
  },
  {
   "cell_type": "code",
   "execution_count": 4,
   "id": "9cb72d3b",
   "metadata": {
    "execution": {
     "iopub.execute_input": "2025-04-19T21:52:53.750124Z",
     "iopub.status.busy": "2025-04-19T21:52:53.749591Z",
     "iopub.status.idle": "2025-04-19T21:52:54.029738Z",
     "shell.execute_reply": "2025-04-19T21:52:54.028475Z"
    },
    "papermill": {
     "duration": 0.300604,
     "end_time": "2025-04-19T21:52:54.031087",
     "exception": true,
     "start_time": "2025-04-19T21:52:53.730483",
     "status": "failed"
    },
    "tags": []
   },
   "outputs": [
    {
     "ename": "BackendError",
     "evalue": "Unexpected response from the service. Response: {'errors': ['No user secrets exist for kernel id 81196250 and label GOOGLE_API_KEY.'], 'error': {'code': 5, 'details': []}, 'wasSuccessful': False}.",
     "output_type": "error",
     "traceback": [
      "\u001b[0;31m---------------------------------------------------------------------------\u001b[0m",
      "\u001b[0;31mBackendError\u001b[0m                              Traceback (most recent call last)",
      "\u001b[0;32m<ipython-input-4-eab84aa2ba63>\u001b[0m in \u001b[0;36m<cell line: 3>\u001b[0;34m()\u001b[0m\n\u001b[1;32m      1\u001b[0m \u001b[0;32mfrom\u001b[0m \u001b[0mkaggle_secrets\u001b[0m \u001b[0;32mimport\u001b[0m \u001b[0mUserSecretsClient\u001b[0m\u001b[0;34m\u001b[0m\u001b[0;34m\u001b[0m\u001b[0m\n\u001b[1;32m      2\u001b[0m \u001b[0;34m\u001b[0m\u001b[0m\n\u001b[0;32m----> 3\u001b[0;31m \u001b[0mGOOGLE_API_KEY\u001b[0m \u001b[0;34m=\u001b[0m \u001b[0mUserSecretsClient\u001b[0m\u001b[0;34m(\u001b[0m\u001b[0;34m)\u001b[0m\u001b[0;34m.\u001b[0m\u001b[0mget_secret\u001b[0m\u001b[0;34m(\u001b[0m\u001b[0;34m\"GOOGLE_API_KEY\"\u001b[0m\u001b[0;34m)\u001b[0m\u001b[0;34m\u001b[0m\u001b[0;34m\u001b[0m\u001b[0m\n\u001b[0m",
      "\u001b[0;32m/usr/local/lib/python3.10/dist-packages/kaggle_secrets.py\u001b[0m in \u001b[0;36mget_secret\u001b[0;34m(self, label)\u001b[0m\n\u001b[1;32m     62\u001b[0m             \u001b[0;34m'Label'\u001b[0m\u001b[0;34m:\u001b[0m \u001b[0mlabel\u001b[0m\u001b[0;34m,\u001b[0m\u001b[0;34m\u001b[0m\u001b[0;34m\u001b[0m\u001b[0m\n\u001b[1;32m     63\u001b[0m         }\n\u001b[0;32m---> 64\u001b[0;31m         \u001b[0mresponse_json\u001b[0m \u001b[0;34m=\u001b[0m \u001b[0mself\u001b[0m\u001b[0;34m.\u001b[0m\u001b[0mweb_client\u001b[0m\u001b[0;34m.\u001b[0m\u001b[0mmake_post_request\u001b[0m\u001b[0;34m(\u001b[0m\u001b[0mrequest_body\u001b[0m\u001b[0;34m,\u001b[0m \u001b[0mself\u001b[0m\u001b[0;34m.\u001b[0m\u001b[0mGET_USER_SECRET_BY_LABEL_ENDPOINT\u001b[0m\u001b[0;34m)\u001b[0m\u001b[0;34m\u001b[0m\u001b[0;34m\u001b[0m\u001b[0m\n\u001b[0m\u001b[1;32m     65\u001b[0m         \u001b[0;32mif\u001b[0m \u001b[0;34m'secret'\u001b[0m \u001b[0;32mnot\u001b[0m \u001b[0;32min\u001b[0m \u001b[0mresponse_json\u001b[0m\u001b[0;34m:\u001b[0m\u001b[0;34m\u001b[0m\u001b[0;34m\u001b[0m\u001b[0m\n\u001b[1;32m     66\u001b[0m             raise BackendError(\n",
      "\u001b[0;32m/usr/local/lib/python3.10/dist-packages/kaggle_web_client.py\u001b[0m in \u001b[0;36mmake_post_request\u001b[0;34m(self, data, endpoint, timeout)\u001b[0m\n\u001b[1;32m     47\u001b[0m                 \u001b[0mresponse_json\u001b[0m \u001b[0;34m=\u001b[0m \u001b[0mjson\u001b[0m\u001b[0;34m.\u001b[0m\u001b[0mloads\u001b[0m\u001b[0;34m(\u001b[0m\u001b[0mresponse\u001b[0m\u001b[0;34m.\u001b[0m\u001b[0mread\u001b[0m\u001b[0;34m(\u001b[0m\u001b[0;34m)\u001b[0m\u001b[0;34m)\u001b[0m\u001b[0;34m\u001b[0m\u001b[0;34m\u001b[0m\u001b[0m\n\u001b[1;32m     48\u001b[0m                 \u001b[0;32mif\u001b[0m \u001b[0;32mnot\u001b[0m \u001b[0mresponse_json\u001b[0m\u001b[0;34m.\u001b[0m\u001b[0mget\u001b[0m\u001b[0;34m(\u001b[0m\u001b[0;34m'wasSuccessful'\u001b[0m\u001b[0;34m)\u001b[0m \u001b[0;32mor\u001b[0m \u001b[0;34m'result'\u001b[0m \u001b[0;32mnot\u001b[0m \u001b[0;32min\u001b[0m \u001b[0mresponse_json\u001b[0m\u001b[0;34m:\u001b[0m\u001b[0;34m\u001b[0m\u001b[0;34m\u001b[0m\u001b[0m\n\u001b[0;32m---> 49\u001b[0;31m                     raise BackendError(\n\u001b[0m\u001b[1;32m     50\u001b[0m                         f'Unexpected response from the service. Response: {response_json}.')\n\u001b[1;32m     51\u001b[0m                 \u001b[0;32mreturn\u001b[0m \u001b[0mresponse_json\u001b[0m\u001b[0;34m[\u001b[0m\u001b[0;34m'result'\u001b[0m\u001b[0;34m]\u001b[0m\u001b[0;34m\u001b[0m\u001b[0;34m\u001b[0m\u001b[0m\n",
      "\u001b[0;31mBackendError\u001b[0m: Unexpected response from the service. Response: {'errors': ['No user secrets exist for kernel id 81196250 and label GOOGLE_API_KEY.'], 'error': {'code': 5, 'details': []}, 'wasSuccessful': False}."
     ]
    }
   ],
   "source": [
    "from kaggle_secrets import UserSecretsClient\n",
    "\n",
    "GOOGLE_API_KEY = UserSecretsClient().get_secret(\"GOOGLE_API_KEY\")"
   ]
  },
  {
   "cell_type": "markdown",
   "id": "b474d42d",
   "metadata": {
    "papermill": {
     "duration": null,
     "end_time": null,
     "exception": null,
     "start_time": null,
     "status": "pending"
    },
    "tags": []
   },
   "source": [
    "### Choose your model\n",
    "Depending on what's available and your quota, choose a model that's effective for your purposes."
   ]
  },
  {
   "cell_type": "code",
   "execution_count": null,
   "id": "b901b7a8",
   "metadata": {
    "execution": {
     "iopub.execute_input": "2025-04-18T22:33:11.038452Z",
     "iopub.status.busy": "2025-04-18T22:33:11.038204Z",
     "iopub.status.idle": "2025-04-18T22:33:12.091325Z",
     "shell.execute_reply": "2025-04-18T22:33:12.090659Z",
     "shell.execute_reply.started": "2025-04-18T22:33:11.038431Z"
    },
    "papermill": {
     "duration": null,
     "end_time": null,
     "exception": null,
     "start_time": null,
     "status": "pending"
    },
    "tags": []
   },
   "outputs": [],
   "source": [
    "client = genai.Client(api_key=GOOGLE_API_KEY)\n",
    "\n",
    "for model in client.models.list():\n",
    "  print(model.name)"
   ]
  },
  {
   "cell_type": "markdown",
   "id": "70282d26",
   "metadata": {
    "papermill": {
     "duration": null,
     "end_time": null,
     "exception": null,
     "start_time": null,
     "status": "pending"
    },
    "tags": []
   },
   "source": [
    "Check out the detailed information for your model"
   ]
  },
  {
   "cell_type": "code",
   "execution_count": null,
   "id": "47eb5a31",
   "metadata": {
    "execution": {
     "iopub.execute_input": "2025-04-18T22:33:12.092044Z",
     "iopub.status.busy": "2025-04-18T22:33:12.091876Z",
     "iopub.status.idle": "2025-04-18T22:33:12.27393Z",
     "shell.execute_reply": "2025-04-18T22:33:12.273083Z",
     "shell.execute_reply.started": "2025-04-18T22:33:12.092027Z"
    },
    "papermill": {
     "duration": null,
     "end_time": null,
     "exception": null,
     "start_time": null,
     "status": "pending"
    },
    "tags": []
   },
   "outputs": [],
   "source": [
    "for model in client.models.list():\n",
    "  if model.name == 'models/gemini-2.0-flash':\n",
    "    print(model.to_json_dict())\n",
    "    break\n",
    "\n",
    "# change this line if you want to use a different model\n",
    "model = \"gemini-2.0-flash\""
   ]
  },
  {
   "cell_type": "markdown",
   "id": "57371b3d",
   "metadata": {
    "papermill": {
     "duration": null,
     "end_time": null,
     "exception": null,
     "start_time": null,
     "status": "pending"
    },
    "tags": []
   },
   "source": [
    "Test your model"
   ]
  },
  {
   "cell_type": "code",
   "execution_count": null,
   "id": "87cd63ea",
   "metadata": {
    "execution": {
     "iopub.execute_input": "2025-04-18T22:33:12.275117Z",
     "iopub.status.busy": "2025-04-18T22:33:12.274868Z",
     "iopub.status.idle": "2025-04-18T22:33:13.381683Z",
     "shell.execute_reply": "2025-04-18T22:33:13.380733Z",
     "shell.execute_reply.started": "2025-04-18T22:33:12.275095Z"
    },
    "papermill": {
     "duration": null,
     "end_time": null,
     "exception": null,
     "start_time": null,
     "status": "pending"
    },
    "tags": []
   },
   "outputs": [],
   "source": [
    "chat = client.chats.create(model=model, history=[])\n",
    "response = chat.send_message('Hello! My name is Zlork.')\n",
    "print(response.text)"
   ]
  },
  {
   "cell_type": "markdown",
   "id": "a17ba1e6",
   "metadata": {
    "papermill": {
     "duration": null,
     "end_time": null,
     "exception": null,
     "start_time": null,
     "status": "pending"
    },
    "tags": []
   },
   "source": [
    "You can use the `Markdown()` function to format it nicely in Kaggle."
   ]
  },
  {
   "cell_type": "code",
   "execution_count": null,
   "id": "89445cf3",
   "metadata": {
    "execution": {
     "iopub.execute_input": "2025-04-18T22:33:13.38262Z",
     "iopub.status.busy": "2025-04-18T22:33:13.382431Z",
     "iopub.status.idle": "2025-04-18T22:33:15.094024Z",
     "shell.execute_reply": "2025-04-18T22:33:15.093113Z",
     "shell.execute_reply.started": "2025-04-18T22:33:13.382603Z"
    },
    "papermill": {
     "duration": null,
     "end_time": null,
     "exception": null,
     "start_time": null,
     "status": "pending"
    },
    "tags": []
   },
   "outputs": [],
   "source": [
    "response = chat.send_message('Hello! My name is Zlork.' + \n",
    "                             'Use some fancy markdown in your message')\n",
    "Markdown(response.text)"
   ]
  },
  {
   "cell_type": "markdown",
   "id": "d9cdb49a",
   "metadata": {
    "papermill": {
     "duration": null,
     "end_time": null,
     "exception": null,
     "start_time": null,
     "status": "pending"
    },
    "tags": []
   },
   "source": [
    "# A fine prompt\n",
    "**TODO: you should probably move this**\n",
    "\n",
    "Let's start by writing our prompt. What should it include and what should it mention? Following the principles taught throughout the course, let's place an importance on giving **positive** instructions rather than **negative** instructions to maintain effectiveness. \n",
    "\n",
    "The model needs to do the following:\n",
    "- [ ] Stick to the SAT: Understand weighting and importance of certain questions, categories, and ensure all advice is applicable to the bounds of the SAT. A document with the specifications of the SAT format can be used for Retrieval Augmented Generation (RAG) rather than potential hallucination over the exact requirements.\n",
    "- [x] Have access to the current question (and maybe the previous questions for even more context)\n",
    "- [x] Understand images or SVGs for Inference and other Reading/Writing questions.\n",
    "- [x] Use Tree of Thoughts (ToT) to generate multiple solving processes because multiple methods may be used to arrive at the same answer, and output these answering mechanisms in a JSON array to present on the website effectively (a TUI for this notebook)\n",
    "- [x] Find semantically related questions and present them to the user on the website using ReAct (a TUI for this notebook)\n",
    "\n",
    "In the actual app, a \"I guessed\" button should be available to avoid wasting tokens. "
   ]
  },
  {
   "cell_type": "markdown",
   "id": "251c3bc3",
   "metadata": {
    "papermill": {
     "duration": null,
     "end_time": null,
     "exception": null,
     "start_time": null,
     "status": "pending"
    },
    "tags": []
   },
   "source": [
    "Let's start by finding an effective prompt. \n",
    "Then we can evaluate the effectiveness of including the SAT standards in a PDF to help the user answering a question. We will also evaluate whether a vector search database is useful for this document.\n",
    "\n",
    "Below, the variables for the specific question we are testing are defined."
   ]
  },
  {
   "cell_type": "code",
   "execution_count": null,
   "id": "424415ca",
   "metadata": {
    "execution": {
     "iopub.execute_input": "2025-04-18T22:33:15.094987Z",
     "iopub.status.busy": "2025-04-18T22:33:15.09477Z",
     "iopub.status.idle": "2025-04-18T22:33:15.099293Z",
     "shell.execute_reply": "2025-04-18T22:33:15.098319Z",
     "shell.execute_reply.started": "2025-04-18T22:33:15.094969Z"
    },
    "papermill": {
     "duration": null,
     "end_time": null,
     "exception": null,
     "start_time": null,
     "status": "pending"
    },
    "tags": []
   },
   "outputs": [],
   "source": [
    "# All questions are (c) CollegeBoard 2025.\n",
    "\n",
    "question = {\n",
    "        \"question\" : \"\"\"\n",
    "In a paper about p-i-n planar perovskite solar cells (one of several perovskite cell architectures designed to collect and store solar power), Lyndsey McMillon-Brown et al. described a method for fabricating the cell’s electronic transport layer (ETL) using a spray coating. Conventional ETL fabrication is accomplished using a solution of nanoparticles. The process can result in a loss of up to 80% of the solution, increasing the cost of manufacturing at scale—an issue that may be obviated by spray coating fabrication, which the researchers describe as “highly reproducible, concise, and practical.”\n",
    "\n",
    "What does the text most strongly suggest about conventional ETL fabrication?\n",
    "A. It is less suitable for manufacturing large volumes of planar p-i-n perovskite solar cells than an alternative fabrication method may be.\n",
    "B. It is more expensive when manufacturing at scale than are processes for fabricating ETLs used in other perovskite solar cell architectures.\n",
    "C. It typically entails a greater loss of nanoparticle solution than do other established approaches for ETL fabrication.\n",
    "D. It is somewhat imprecise and therefore limits the potential effectiveness of p-i-n planar perovskite solar cells at capturing and storing solar power.\n",
    "\"\"\",\n",
    "        \"rationale\" : \"\"\"\n",
    "Choice A is the best answer. Conventional solar cell fabrication increases “the cost of manufacturing at scale,” but spray coating might get rid of that problem.\n",
    "\n",
    "Choice B is incorrect. This is not completely supported by the text. While it’s true that conventional ETL fabrication is expensive at scale, there’s nothing in the text that mentions other perovskite solar cell architectures. Choice C is incorrect. This choice does not match the text. Only one conventional method of ETL fabrication is described, so we can’t compare the solution loss in this method to that of other conventional methods. Choice D is incorrect. This choice isn’t supported by the text. The text never suggests that the effectiveness of solar cells changes based on their method of fabrication. \n",
    "\"\"\",\n",
    "        \"user_answer\" : \"C\",\n",
    "}"
   ]
  },
  {
   "cell_type": "markdown",
   "id": "ebc813c6",
   "metadata": {
    "papermill": {
     "duration": null,
     "end_time": null,
     "exception": null,
     "start_time": null,
     "status": "pending"
    },
    "tags": []
   },
   "source": [
    "Ideally, the user will talk to the chatbot after it gets the question wrong (or before in some scenarios, too). Either way, the user will have some rationale as to his or her answer to the question. Don't expect this rationale to be well thought out - the objective of the intelligent agent is to draw out what they actually mean. It may be completely omitted as well."
   ]
  },
  {
   "cell_type": "code",
   "execution_count": null,
   "id": "2f4101c5",
   "metadata": {
    "execution": {
     "iopub.execute_input": "2025-04-18T22:33:15.100537Z",
     "iopub.status.busy": "2025-04-18T22:33:15.100229Z",
     "iopub.status.idle": "2025-04-18T22:33:15.118943Z",
     "shell.execute_reply": "2025-04-18T22:33:15.118257Z",
     "shell.execute_reply.started": "2025-04-18T22:33:15.100508Z"
    },
    "papermill": {
     "duration": null,
     "end_time": null,
     "exception": null,
     "start_time": null,
     "status": "pending"
    },
    "tags": []
   },
   "outputs": [],
   "source": [
    "question[\"user_rationale\"] = \"Isn't the new method of ETL fabrication the same as the 'established methods'\""
   ]
  },
  {
   "cell_type": "markdown",
   "id": "8055c4ab",
   "metadata": {
    "papermill": {
     "duration": null,
     "end_time": null,
     "exception": null,
     "start_time": null,
     "status": "pending"
    },
    "tags": []
   },
   "source": [
    "# Use Reinforcement Learning with AI Feedback to Finetune a Prompt\n",
    "Let's generate a couple prompts for Aquarc Intelligence to use, given these parameters. We will then evaluate the effectiveness of these prompts against each of the questions and the user's query."
   ]
  },
  {
   "cell_type": "code",
   "execution_count": null,
   "id": "46ec9a7d",
   "metadata": {
    "execution": {
     "iopub.execute_input": "2025-04-18T22:33:15.119797Z",
     "iopub.status.busy": "2025-04-18T22:33:15.119603Z",
     "iopub.status.idle": "2025-04-18T22:33:26.66257Z",
     "shell.execute_reply": "2025-04-18T22:33:26.661761Z",
     "shell.execute_reply.started": "2025-04-18T22:33:15.11978Z"
    },
    "papermill": {
     "duration": null,
     "end_time": null,
     "exception": null,
     "start_time": null,
     "status": "pending"
    },
    "tags": []
   },
   "outputs": [],
   "source": [
    "from google.genai.types import GenerateContentConfig\n",
    "\n",
    "response = client.models.generate_content(\n",
    "    model=\"gemini-2.0-flash-001\",\n",
    "    # no specs yet\n",
    "    contents=f\"Generate prompts for a model that will do nothing more but take information about the current question, rationale, user answer and their rationale (if there is one) for the SAT. Come up with different variations for the prompt like more or less concise or multiple thought processes or just one, etc. Here is an example question to illustrate my point (although math and english still exist)\\\n",
    "                  {question['question']}\\n \\\n",
    "              {question['rationale']}\\n\\\n",
    "              The user got: {question['user_answer']}\\n \\\n",
    "              {question['user_rationale']}\",\n",
    "    config=GenerateContentConfig(\n",
    "        system_instruction=[\n",
    "            \"You are a prompt engineer's assistant. Help the prompt engineer generate some prompts for his AI-powered SAT learning platform called Aquarc. The platform currently holds an SAT question bank with over 5000 questions and tracks which questions you get wrong per category. While this feature is helpful it lacks the intelligence necessary to be a full fledged SAT platform\",\n",
    "        ],\n",
    "        temperature=2.0,\n",
    "        top_k=10,\n",
    "    ),\n",
    ")\n",
    "\n",
    "Markdown(response.text)"
   ]
  },
  {
   "cell_type": "markdown",
   "id": "aaf31d4b",
   "metadata": {
    "papermill": {
     "duration": null,
     "end_time": null,
     "exception": null,
     "start_time": null,
     "status": "pending"
    },
    "tags": []
   },
   "source": [
    "Here are some sample prompts extracted from the Gemini output:"
   ]
  },
  {
   "cell_type": "code",
   "execution_count": null,
   "id": "ac82af74",
   "metadata": {
    "execution": {
     "iopub.execute_input": "2025-04-18T22:33:26.663433Z",
     "iopub.status.busy": "2025-04-18T22:33:26.663271Z",
     "iopub.status.idle": "2025-04-18T22:33:26.667519Z",
     "shell.execute_reply": "2025-04-18T22:33:26.666866Z",
     "shell.execute_reply.started": "2025-04-18T22:33:26.663418Z"
    },
    "papermill": {
     "duration": null,
     "end_time": null,
     "exception": null,
     "start_time": null,
     "status": "pending"
    },
    "tags": []
   },
   "outputs": [],
   "source": [
    "prompts = [ \n",
    "    {\n",
    "        \"prompt\": \"Analyze the user's error. Why is the correct answer better supported by the text than the user's answer? Be concise.\",\n",
    "        \"avg_score\": 0.0,\n",
    "    },\n",
    "    {\n",
    "        \"prompt\": \"\"\"\n",
    "Consider the SAT question and the user's selected answer.\n",
    "1. Identify the specific textual evidence that strongly supports the correct answer choice.\n",
    "2. Identify any assumptions the user might be making that lead to their chosen answer.\n",
    "3. Explain why the textual support for the correct answer is stronger or more direct than any implied support for the user's answer.  If the user provides their own rational, specifically address the rational and mention what part of the question makes the rational wrong.\n",
    "        \"\"\",\n",
    "        \"avg_score\": 0.0,\n",
    "    },\n",
    "    {\n",
    "        \"prompt\" : \"\"\"\n",
    "Let's analyze this question step-by-step to understand the user's error.\n",
    "\n",
    "1.  Summarize the main point of the passage in your own words.\n",
    "2.  Identify the key phrase(s) in the question that guide you to the correct answer.\n",
    "3.  Explain why the correct answer directly addresses the question based on the text.\n",
    "4.  Explain what specific words, or phrases, may make the users' answer incorrect.\n",
    "5. Given the user's answer, what misunderstanding might the student have in this section? What advice could you give to them in the future?\n",
    "        \"\"\",\n",
    "        \"avg_score\": 0.0,\n",
    "    },\n",
    "    {\n",
    "        \"prompt\": \"\"\"\n",
    "Evaluate both the correct answer and the user's answer as potential responses to the question.\n",
    "\n",
    "*   Present the strongest possible argument *in favor* of the user's answer.\n",
    "*   Present the strongest possible argument *against* the user's answer.\n",
    "*   Explain why, ultimately, the correct answer is the superior choice based on textual evidence.\n",
    "        \"\"\",\n",
    "        \"avg_score\": 0.0,\n",
    "    },\n",
    "    { \n",
    "        \"prompt\": \"\"\"\n",
    "Analyze the question, correct answer, and the user's answer.\n",
    "\n",
    "Step 1: Summarize the core argument or concept being tested in the question.\n",
    "Step 2: Identify the specific details in the question and correct answer rationale that are most crucial for arriving at the correct answer.\n",
    "Step 3: Analyze the user's answer choice.  Explain why it is incorrect. If the user provided a rationale, identify where the user's reasoning is flawed, citing specific evidence from the question text or correct answer rationale.  If no rationale was provided, hypothesize potential reasons for the incorrect choice based on common SAT misconceptions or test-taking errors related to this question type.\n",
    "Step 4: Explicitly state the mistake that the user made to reach their conclusion and how they can reach the proper conclusion by fixing the flaw.\n",
    "        \"\"\",\n",
    "        \"avg_score\": 0.0,\n",
    "    },\n",
    "]"
   ]
  },
  {
   "cell_type": "markdown",
   "id": "0e2be1e6",
   "metadata": {
    "papermill": {
     "duration": null,
     "end_time": null,
     "exception": null,
     "start_time": null,
     "status": "pending"
    },
    "tags": []
   },
   "source": [
    "Some sample questions varied in difficulty:"
   ]
  },
  {
   "cell_type": "code",
   "execution_count": null,
   "id": "8acab88e",
   "metadata": {
    "execution": {
     "iopub.execute_input": "2025-04-18T22:33:26.670408Z",
     "iopub.status.busy": "2025-04-18T22:33:26.670215Z",
     "iopub.status.idle": "2025-04-18T22:33:26.68287Z",
     "shell.execute_reply": "2025-04-18T22:33:26.682179Z",
     "shell.execute_reply.started": "2025-04-18T22:33:26.67039Z"
    },
    "papermill": {
     "duration": null,
     "end_time": null,
     "exception": null,
     "start_time": null,
     "status": "pending"
    },
    "tags": []
   },
   "outputs": [],
   "source": [
    "# All questions are (c) CollegeBoard 2025.\n",
    "questions = [\n",
    "    {\n",
    "        \"question\": \"\"\"\n",
    "In 1453, English King Henry VI became unfit to rule after falling gravely ill. As a result, Parliament appointed Richard, Third Duke of York, who had a strong claim to the English throne, to rule as Lord Protector. Upon recovering two years later, ______ forcing an angered Richard from the royal court and precipitating a series of battles later known as the Wars of the Roses. \\n\\\n",
    "Which choice completes the text so that it conforms to the conventions of Standard English?\n",
    "A. Henry resumed his reign,\n",
    "B. the reign of Henry resumed,\n",
    "C. Henry’s reign resumed,\n",
    "D. it was Henry who resumed his reign, \n",
    "            \"\"\",\n",
    "        # Notice that the default rationale provided for Choice C doesn't explain it well enough\n",
    "        \"rationale\": \"\"\"\n",
    "Choice A is the best answer. The convention being tested is subject-modifier placement. This choice ensures that the introductory phrase “upon recovering two years later” appears immediately before the noun it modifies (“Henry”), clearly establishing that Henry recovered two years later. \n",
    "Choice B is incorrect because it results in a dangling modifier. The placement of the noun phrase “the reign of Henry” immediately after the introductory phrase illogically suggests that the reign of Henry recovered two years later. \n",
    "Choice C is incorrect because it results in a dangling modifier. The placement of the noun phrase “Henry’s reign” immediately after the introductory phrase illogically suggests that Henry’s reign recovered two years later. \n",
    "Choice D is incorrect because it results in a dangling modifier. The placement of the function word “it” immediately after the introductory phrase illogically suggests that “it” recovered two years later. \n",
    "        \"\"\",\n",
    "        \"user_answer\": \"C\",\n",
    "        \"user_rationale\": \"Isn't the subject that Henry got unfit to rule?\",\n",
    "    },\n",
    "    # Feel free to uncomment the following\n",
    "\n",
    "#    {\n",
    "#        \"question\": \"\"\"\n",
    "#A study by a team including finance professor Madhu Veeraraghavan suggests that exposure to sunshine during the workday can lead to overly optimistic behavior. __Using data spanning from 1994 to 2010 for a set of US companies, the team compared over 29,000 annual earnings forecasts to the actual earnings later reported by those companies.__ The team found that the greater the exposure to sunshine at work in the two weeks before a manager submitted an earnings forecast, the more the manager’s forecast exceeded what the company actually earned that year.\n",
    "#Which choice best states the function of the underlined sentence in the overall structure of the text? \n",
    "            \n",
    "#A. To summarize the results of the team’s analysis\n",
    "#B. To present a specific example that illustrates the study’s findings\n",
    "#C. To explain part of the methodology used in the team’s study\n",
    "#D. To call out a challenge the team faced in conducting its analysis\n",
    "#            \"\"\",\n",
    "#        \"rationale\": \"\"\"\n",
    "#Choice C is the best answer because it best describes how the underlined sentence functions in the text as a whole. The first sentence presents the implications of Veeraraghavan’s team’s study: sunshine exposure during work hours can cause overly optimistic behavior. The underlined sentence then describes the data the team consulted and how they were used (comparing predictions about earnings to what the companies actually earned), and the final sentence presents what the team found in their examination of the data. Thus, the underlined sentence mainly functions to explain part of the methodology used in the team’s study. \n",
    "#Choice A is incorrect because the underlined sentence explains in part how the team conducted their analysis of the effect of sunshine but doesn’t address what the team found; a broad summary is instead given in the other two sentences. \n",
    "#Choice B is incorrect because the underlined sentence doesn’t present any specific examples from the team’s comparisons of 29,000 earnings predictions to actual earnings; it simply explains in part how the team conducted their analysis. \n",
    "#Choice D is incorrect because the underlined sentence simply explains in part how the team conducted their analysis; the text never mentions any challenges that the team encountered in their study. \n",
    "#            \"\"\",\n",
    "#        \"user_answer\": \"A\",\n",
    "#        \"user_rationale\": \"Is it not explaining the part of the experiment which illustrates what happens?\"\n",
    "#    },\n",
    "#    {\n",
    "#        \"question\" : \"\"\"\n",
    "#In a paper about p-i-n planar perovskite solar cells (one of several perovskite cell architectures designed to collect and store solar power), Lyndsey McMillon-Brown et al. described a method for fabricating the cell’s electronic transport layer (ETL) using a spray coating. Conventional ETL fabrication is accomplished using a solution of nanoparticles. The process can result in a loss of up to 80% of the solution, increasing the cost of manufacturing at scale—an issue that may be obviated by spray coating fabrication, which the researchers describe as “highly reproducible, concise, and practical.”\n",
    "\n",
    "#What does the text most strongly suggest about conventional ETL fabrication?\n",
    "#A. It is less suitable for manufacturing large volumes of planar p-i-n perovskite solar cells than an alternative fabrication method may be.\n",
    "#B. It is more expensive when manufacturing at scale than are processes for fabricating ETLs used in other perovskite solar cell architectures.\n",
    "#C. It typically entails a greater loss of nanoparticle solution than do other established approaches for ETL fabrication.\n",
    "#D. It is somewhat imprecise and therefore limits the potential effectiveness of p-i-n planar perovskite solar cells at capturing and storing solar power.\n",
    "#\"\"\",\n",
    "#        \"rationale\" : \"\"\"\n",
    "#Choice A is the best answer. Conventional solar cell fabrication increases “the cost of manufacturing at scale,” but spray coating might get rid of that problem.\n",
    "\n",
    "#Choice B is incorrect. This is not completely supported by the text. While it’s true that conventional ETL fabrication is expensive at scale, there’s nothing in the text that mentions other perovskite solar cell architectures. Choice C is incorrect. This choice does not match the text. Only one conventional method of ETL fabrication is described, so we can’t compare the solution loss in this method to that of other conventional methods. Choice D is incorrect. This choice isn’t supported by the text. The text never suggests that the effectiveness of solar cells changes based on their method of fabrication. \n",
    "#\"\"\",\n",
    "#        \"user_answer\" : \"C\",\n",
    "#        \"user_rationale\": \"Isn't the new method of ETL fabrication the same as the 'established methods'\",\n",
    "#    },\n",
    "]"
   ]
  },
  {
   "cell_type": "markdown",
   "id": "d2f2267b",
   "metadata": {
    "papermill": {
     "duration": null,
     "end_time": null,
     "exception": null,
     "start_time": null,
     "status": "pending"
    },
    "tags": []
   },
   "source": [
    "## Evaluation \n",
    "The rubric is slightly biased in favor of the debate prompt, but it also hits the other points on the rubric and maintains clarity. If more prompts are to be tested, they can be added above."
   ]
  },
  {
   "cell_type": "code",
   "execution_count": null,
   "id": "86587877",
   "metadata": {
    "execution": {
     "iopub.execute_input": "2025-04-18T22:33:26.684823Z",
     "iopub.status.busy": "2025-04-18T22:33:26.684639Z",
     "iopub.status.idle": "2025-04-18T22:33:26.698417Z",
     "shell.execute_reply": "2025-04-18T22:33:26.697625Z",
     "shell.execute_reply.started": "2025-04-18T22:33:26.684807Z"
    },
    "papermill": {
     "duration": null,
     "end_time": null,
     "exception": null,
     "start_time": null,
     "status": "pending"
    },
    "tags": []
   },
   "outputs": [],
   "source": [
    "import enum\n",
    "\n",
    "# Define the evaluation prompt\n",
    "EVAL_PROMPT = \"\"\"\n",
    "# Instruction\n",
    "Evaluate the AI’s analysis of a student’s SAT error. Focus on how well it explains why the correct answer is textually supported and why the user’s answer is incorrect.\n",
    "\n",
    "# Evaluation\n",
    "## **Metric Definition**\n",
    "Assess the **accuracy**, **completeness**, **groundedness**, and **clarity** of the response. The AI must:\n",
    "1. Correctly identify textual evidence for the correct answer.\n",
    "2. Explain flaws in the user’s answer (and their rationale, if provided).\n",
    "3. Follow the prompt’s instructions precisely.\n",
    "\n",
    "\n",
    "## **New Criteria**  \n",
    "1. **Instructional Creativity**:  \n",
    "   - Does the creative approach (e.g., debate, step-by-step analysis) **enhance understanding** of why the correct answer is textually supported?  \n",
    "   - Does it **strategically use the prompt’s structure** (e.g., arguments for/against) to highlight key SAT skills like evidence analysis or assumption identification?  \n",
    "\n",
    "2. **Educational Effectiveness**:  \n",
    "   - Does the creativity **directly serve the learning goal** (e.g., clarifying misconceptions, modeling SAT logic), or is it merely ornamental?  \n",
    "   - Does it **engage the learner** while maintaining rigor (e.g., making complex reasoning more accessible)?  \n",
    "\n",
    "## **Revised Rating Rubric**  \n",
    "- **5 (Excellent)**:  \n",
    "  - Creative structure (e.g., debate) **directly reinforces** why the correct answer is superior.  \n",
    "  - Uses the format to **explicitly contrast** the user’s error with textual evidence (e.g., “The strongest argument *for* the user’s answer is X, but the text contradicts this because Y”).  \n",
    "  - Balances creativity with precision and clarity.  \n",
    "\n",
    "- **4 (Good)**:  \n",
    "  - Creative approach is **mostly effective** but slightly misses opportunities to deepen understanding (e.g., lists arguments but doesn’t explicitly tie them to SAT skills).  \n",
    "  - Minor clarity issues in linking creativity to the text.  \n",
    "\n",
    "- **3 (Adequate)**:  \n",
    "  - Creativity **distracts** slightly from the core analysis (e.g., overemphasizes hypothetical arguments without grounding in the text).  \n",
    "  - Fails to fully leverage the creative structure to address the user’s error.  \n",
    "\n",
    "- **2 (Poor)**:  \n",
    "  - Creative format **obscures key points** (e.g., hypothetical arguments misrepresent the text).  \n",
    "  - Prioritizes style over substance; minimal educational value.  \n",
    "\n",
    "- **1 (Very Poor)**:  \n",
    "  - Creativity **undermines accuracy** (e.g., invents textual evidence to support arguments).  \n",
    "\n",
    "## **Examples**  \n",
    "### **Debate-Style Prompt (Question 4)**  \n",
    "**User Answer**: C (“Henry’s reign resumed”)  \n",
    "**Correct Answer**: A (“Henry resumed his reign”)  \n",
    "\n",
    "**Good AI Response** (Rating 5):  \n",
    "*“Argument FOR C: A student might think ‘Henry’s reign’ is the subject because the prior sentence mentions Parliament appointing a ruler.  \n",
    "Argument AGAINST C: The modifier ‘upon recovering’ must refer to a person (Henry), not an abstract concept (‘reign’). The text says Henry fell ill, so only he—not his reign—can ‘recover.’  \n",
    "Conclusion: While C seems plausible, the modifier rule and textual context make A correct.”*  \n",
    "\n",
    "**Why it’s a 5**:  \n",
    "- Uses debate structure to **preemptively address** the user’s assumption.  \n",
    "- Directly ties arguments to **textual evidence** (Henry’s illness/recovery).  \n",
    "\n",
    "**Poor AI Response** (Rating 2):  \n",
    "*“FOR C: ‘Reign’ is a noun, so it matches the sentence structure.  \n",
    "AGAINST C: It sounds awkward.  \n",
    "Conclusion: A is better because it’s smoother.”*  \n",
    "\n",
    "**Why it’s a 2**:  \n",
    "- Creativity (debate) adds no educational value; arguments lack textual grounding.  \n",
    "- Fails to explain grammar rules or modifier placement.  \n",
    "\n",
    "## Evaluation Steps\n",
    "STEP 1: Assess the response in aspects of instruction following, groundedness, conciseness, and verbosity according to the criteria.\n",
    "STEP 2: Score based on the rubric.\n",
    "\n",
    "# User Inputs and AI-generated Response\n",
    "## User Inputs\n",
    "\n",
    "### Prompt\n",
    "{prompt}\n",
    "\n",
    "## AI-generated Response\n",
    "{response}\n",
    "\"\"\"\n",
    "\n",
    "# Define a structured enum class to capture the result.\n",
    "class SummaryRating(enum.Enum):\n",
    "  VERY_GOOD = '5'\n",
    "  GOOD = '4'\n",
    "  OK = '3'\n",
    "  BAD = '2'\n",
    "  VERY_BAD = '1'\n",
    "\n",
    "# Coerce into the desired structure.\n",
    "structured_output_config = types.GenerateContentConfig(\n",
    "    response_mime_type=\"text/x.enum\",\n",
    "    response_schema=SummaryRating,\n",
    ")\n",
    "\n",
    "def eval_summary(prompt, ai_response):\n",
    "  \"\"\"Evaluate the generated summary against the prompt used.\"\"\"\n",
    "\n",
    "  eval_chat = client.chats.create(model='gemini-2.0-flash')\n",
    "    \n",
    "  # Generate the full text response.\n",
    "  response = eval_chat.send_message(\n",
    "      message=EVAL_PROMPT.format(prompt=prompt, response=ai_response)\n",
    "  )\n",
    "  verbose_eval = response.text\n",
    "\n",
    "\n",
    "  response = eval_chat.send_message(\n",
    "      message=\"Convert the final score.\",\n",
    "      config=structured_output_config,\n",
    "  )\n",
    "  structured_eval = response.parsed\n",
    "\n",
    "  return verbose_eval, structured_eval"
   ]
  },
  {
   "cell_type": "markdown",
   "id": "374180a2",
   "metadata": {
    "papermill": {
     "duration": null,
     "end_time": null,
     "exception": null,
     "start_time": null,
     "status": "pending"
    },
    "tags": []
   },
   "source": [
    "Evaluating the prompts against each other:"
   ]
  },
  {
   "cell_type": "code",
   "execution_count": null,
   "id": "cdd9a868",
   "metadata": {
    "execution": {
     "iopub.execute_input": "2025-04-18T22:33:26.699284Z",
     "iopub.status.busy": "2025-04-18T22:33:26.699058Z",
     "iopub.status.idle": "2025-04-18T22:33:55.565897Z",
     "shell.execute_reply": "2025-04-18T22:33:55.564796Z",
     "shell.execute_reply.started": "2025-04-18T22:33:26.699267Z"
    },
    "papermill": {
     "duration": null,
     "end_time": null,
     "exception": null,
     "start_time": null,
     "status": "pending"
    },
    "tags": []
   },
   "outputs": [],
   "source": [
    "# TODO: maybe share context so the LLM can compare different outputs against its own rating to be more accurate perhaps?\n",
    "\n",
    "#NUM_ITERATIONS = 5\n",
    "NUM_ITERATIONS=1\n",
    "\n",
    "with open(\"/kaggle/working/promptlogs.txt\", \"a\") as logs:\n",
    "    \n",
    "    for prompt in prompts:\n",
    "        sum = 0\n",
    "        logs.write(f\"Prompt: {prompt}\\n\")\n",
    "    \n",
    "        for question in questions:\n",
    "            logs.write(f\"Question: {question}\\n\")\n",
    "            for i in range(NUM_ITERATIONS):\n",
    "                response = client.models.generate_content(\n",
    "                    model=\"gemini-2.0-flash-001\",\n",
    "                    contents=str(question),\n",
    "                    config=GenerateContentConfig(\n",
    "                        system_instruction=[prompt[\"prompt\"],],\n",
    "                        temperature=0.1,\n",
    "                    ),\n",
    "                )\n",
    "\n",
    "                text_eval, struct_eval = eval_summary(prompt=prompt[\"prompt\"], ai_response=response)\n",
    "                print(f\"Iteration {i}: {struct_eval}\")\n",
    "                logs.write(f\"Iteration {i}: {text_eval}\\n\")\n",
    "                sum += int(struct_eval.value)\n",
    "\n",
    "\n",
    "\n",
    "        prompt[\"avg_score\"] = sum / (len(questions) * NUM_ITERATIONS)\n",
    "        print(f\"Prompt:\\n{prompt['prompt']}\\nScore: {prompt['avg_score']}\\n\\n\")\n",
    "    \n",
    "        logs.write(\"\\n\\n\")"
   ]
  },
  {
   "cell_type": "markdown",
   "id": "5e18adaf",
   "metadata": {
    "papermill": {
     "duration": null,
     "end_time": null,
     "exception": null,
     "start_time": null,
     "status": "pending"
    },
    "tags": []
   },
   "source": [
    "The debate prompt consistently scores the highest, so that will be picked. Prompts can be re-generated and re-evaluated with ease if need be."
   ]
  },
  {
   "cell_type": "code",
   "execution_count": null,
   "id": "3a415b33",
   "metadata": {
    "execution": {
     "iopub.execute_input": "2025-04-18T22:33:55.566855Z",
     "iopub.status.busy": "2025-04-18T22:33:55.566614Z",
     "iopub.status.idle": "2025-04-18T22:33:55.570332Z",
     "shell.execute_reply": "2025-04-18T22:33:55.569524Z",
     "shell.execute_reply.started": "2025-04-18T22:33:55.566834Z"
    },
    "papermill": {
     "duration": null,
     "end_time": null,
     "exception": null,
     "start_time": null,
     "status": "pending"
    },
    "tags": []
   },
   "outputs": [],
   "source": [
    "final_prompt = \"\"\"\n",
    "Evaluate both the correct answer and the user's answer as potential responses to the question.\n",
    "\n",
    "*   Present the strongest possible argument *in favor* of the user's answer.\n",
    "*   Present the strongest possible argument *against* the user's answer.\n",
    "*   Explain why, ultimately, the correct answer is the superior choice based on textual evidence.\n",
    "\"\"\""
   ]
  },
  {
   "cell_type": "markdown",
   "id": "2c3de0b8",
   "metadata": {
    "papermill": {
     "duration": null,
     "end_time": null,
     "exception": null,
     "start_time": null,
     "status": "pending"
    },
    "tags": []
   },
   "source": [
    "## Note: \"Smart\" Questions\n",
    "The majority of questions that Aquarc Intelligence has to process will contain HTML data. How does Aquarc Intelligence interact with \"smart\" questions (i.e. questions that make use of intelligent features like formatting, graphs, or other image representations of data)?\n",
    "\n",
    "Most questions can be \"cleansed\" by converting to markdown like the following because there is text data available for most images (although the output is still quite messy):"
   ]
  },
  {
   "cell_type": "code",
   "execution_count": null,
   "id": "87e50575",
   "metadata": {
    "execution": {
     "iopub.execute_input": "2025-04-18T22:33:55.572448Z",
     "iopub.status.busy": "2025-04-18T22:33:55.572075Z",
     "iopub.status.idle": "2025-04-18T22:33:55.591067Z",
     "shell.execute_reply": "2025-04-18T22:33:55.590254Z",
     "shell.execute_reply.started": "2025-04-18T22:33:55.572418Z"
    },
    "papermill": {
     "duration": null,
     "end_time": null,
     "exception": null,
     "start_time": null,
     "status": "pending"
    },
    "tags": []
   },
   "outputs": [],
   "source": [
    "# This question is (c) CollegeBoard 2025\n",
    "rich_question = {\n",
    "    \"question\": \"\"\"\n",
    "<figure class=\"image\">\n",
    "   <svg aria-label=\"Bar graph titled Municipalities’ Responses to Inquiries about Potential Incentives for Firm. The horizontal axis has no label. 3 data categories are shown. The vertical axis is labeled Number of municipalities. It ranges from 0 to 1,300 in increments of 100. Refer to long description.\" height=\"578.7376708984375\" role=\"img\" viewbox=\"0 0 400 578.7376708984375\" width=\"400\" xmlns=\"http://www.w3.org/2000/svg\">\n",
    "      <g data-name=\"Layer 1\" id=\"ed420550-79eb-48d4-af01-cd27cdd08afd\">\n",
    "         <defs>\n",
    "            +\n",
    "            <pattern height=\"100\" id=\"bar4\" patterntransform=\"rotate(50)\" patternunits=\"userSpaceOnUse\" width=\"10\" x=\"0\" y=\"0\">\n",
    "               +\n",
    "               <rect fill=\"#CDCDCD\" height=\"100\" width=\"5\" x=\"0\" y=\"0\"></rect>\n",
    "               +\n",
    "               <rect fill=\"#444444\" height=\"100\" width=\"5\" x=\"5\" y=\"0\"></rect>\n",
    "               +\n",
    "            </pattern>\n",
    "            +\n",
    "         </defs>\n",
    "         <line fill=\"none\" stroke=\"#000000\" stroke-linecap=\"round\" stroke-linejoin=\"round\" stroke-width=\"0.9\" x1=\"99.75999450683594\" x2=\"385\" xmlns=\"http://www.w3.org/2000/svg\" y1=\"72\" y2=\"72\"></line>\n",
    "         <line fill=\"none\" stroke=\"#000000\" stroke-linecap=\"round\" stroke-linejoin=\"round\" stroke-width=\"0.9\" x1=\"93.75999450683594\" x2=\"105.75999450683594\" xmlns=\"http://www.w3.org/2000/svg\" y1=\"72\" y2=\"72\"></line>\n",
    "         <text fill=\"#000000\" font-family=\"Crimson Text\" font-size=\"19.84\" text-anchor=\"end\" transform=\"translate(87.75999450683594 78)\">1,300</text>\n",
    "         <line fill=\"none\" stroke=\"#000000\" stroke-linecap=\"round\" stroke-linejoin=\"round\" stroke-width=\"0.9\" x1=\"99.75999450683594\" x2=\"385\" xmlns=\"http://www.w3.org/2000/svg\" y1=\"91.23076923076923\" y2=\"91.23076923076923\"></line>\n",
    "         <line fill=\"none\" stroke=\"#000000\" stroke-linecap=\"round\" stroke-linejoin=\"round\" stroke-width=\"0.9\" x1=\"93.75999450683594\" x2=\"105.75999450683594\" xmlns=\"http://www.w3.org/2000/svg\" y1=\"91.23076923076923\" y2=\"91.23076923076923\"></line>\n",
    "         <text fill=\"#000000\" font-family=\"Crimson Text\" font-size=\"19.84\" text-anchor=\"end\" transform=\"translate(87.75999450683594 97.23076923076923)\">1,200</text>\n",
    "         <line fill=\"none\" stroke=\"#000000\" stroke-linecap=\"round\" stroke-linejoin=\"round\" stroke-width=\"0.9\" x1=\"99.75999450683594\" x2=\"385\" xmlns=\"http://www.w3.org/2000/svg\" y1=\"110.46153846153845\" y2=\"110.46153846153845\"></line>\n",
    "         <line fill=\"none\" stroke=\"#000000\" stroke-linecap=\"round\" stroke-linejoin=\"round\" stroke-width=\"0.9\" x1=\"93.75999450683594\" x2=\"105.75999450683594\" xmlns=\"http://www.w3.org/2000/svg\" y1=\"110.46153846153845\" y2=\"110.46153846153845\"></line>\n",
    "         <text fill=\"#000000\" font-family=\"Crimson Text\" font-size=\"19.84\" text-anchor=\"end\" transform=\"translate(87.75999450683594 116.46153846153845)\">1,100</text>\n",
    "         <line fill=\"none\" stroke=\"#000000\" stroke-linecap=\"round\" stroke-linejoin=\"round\" stroke-width=\"0.9\" x1=\"99.75999450683594\" x2=\"385\" xmlns=\"http://www.w3.org/2000/svg\" y1=\"129.69230769230768\" y2=\"129.69230769230768\"></line>\n",
    "         <line fill=\"none\" stroke=\"#000000\" stroke-linecap=\"round\" stroke-linejoin=\"round\" stroke-width=\"0.9\" x1=\"93.75999450683594\" x2=\"105.75999450683594\" xmlns=\"http://www.w3.org/2000/svg\" y1=\"129.69230769230768\" y2=\"129.69230769230768\"></line>\n",
    "         <text fill=\"#000000\" font-family=\"Crimson Text\" font-size=\"19.84\" text-anchor=\"end\" transform=\"translate(87.75999450683594 135.69230769230768)\">1,000</text>\n",
    "         <line fill=\"none\" stroke=\"#000000\" stroke-linecap=\"round\" stroke-linejoin=\"round\" stroke-width=\"0.9\" x1=\"99.75999450683594\" x2=\"385\" xmlns=\"http://www.w3.org/2000/svg\" y1=\"148.9230769230769\" y2=\"148.9230769230769\"></line>\n",
    "         <line fill=\"none\" stroke=\"#000000\" stroke-linecap=\"round\" stroke-linejoin=\"round\" stroke-width=\"0.9\" x1=\"93.75999450683594\" x2=\"105.75999450683594\" xmlns=\"http://www.w3.org/2000/svg\" y1=\"148.9230769230769\" y2=\"148.9230769230769\"></line>\n",
    "         <text fill=\"#000000\" font-family=\"Crimson Text\" font-size=\"19.84\" text-anchor=\"end\" transform=\"translate(87.75999450683594 154.9230769230769)\">900</text>\n",
    "         <line fill=\"none\" stroke=\"#000000\" stroke-linecap=\"round\" stroke-linejoin=\"round\" stroke-width=\"0.9\" x1=\"99.75999450683594\" x2=\"385\" xmlns=\"http://www.w3.org/2000/svg\" y1=\"168.15384615384613\" y2=\"168.15384615384613\"></line>\n",
    "         <line fill=\"none\" stroke=\"#000000\" stroke-linecap=\"round\" stroke-linejoin=\"round\" stroke-width=\"0.9\" x1=\"93.75999450683594\" x2=\"105.75999450683594\" xmlns=\"http://www.w3.org/2000/svg\" y1=\"168.15384615384613\" y2=\"168.15384615384613\"></line>\n",
    "         <text fill=\"#000000\" font-family=\"Crimson Text\" font-size=\"19.84\" text-anchor=\"end\" transform=\"translate(87.75999450683594 174.15384615384613)\">800</text>\n",
    "         <line fill=\"none\" stroke=\"#000000\" stroke-linecap=\"round\" stroke-linejoin=\"round\" stroke-width=\"0.9\" x1=\"99.75999450683594\" x2=\"385\" xmlns=\"http://www.w3.org/2000/svg\" y1=\"187.3846153846154\" y2=\"187.3846153846154\"></line>\n",
    "         <line fill=\"none\" stroke=\"#000000\" stroke-linecap=\"round\" stroke-linejoin=\"round\" stroke-width=\"0.9\" x1=\"93.75999450683594\" x2=\"105.75999450683594\" xmlns=\"http://www.w3.org/2000/svg\" y1=\"187.3846153846154\" y2=\"187.3846153846154\"></line>\n",
    "         <text fill=\"#000000\" font-family=\"Crimson Text\" font-size=\"19.84\" text-anchor=\"end\" transform=\"translate(87.75999450683594 193.3846153846154)\">700</text>\n",
    "         <line fill=\"none\" stroke=\"#000000\" stroke-linecap=\"round\" stroke-linejoin=\"round\" stroke-width=\"0.9\" x1=\"99.75999450683594\" x2=\"385\" xmlns=\"http://www.w3.org/2000/svg\" y1=\"206.6153846153846\" y2=\"206.6153846153846\"></line>\n",
    "         <line fill=\"none\" stroke=\"#000000\" stroke-linecap=\"round\" stroke-linejoin=\"round\" stroke-width=\"0.9\" x1=\"93.75999450683594\" x2=\"105.75999450683594\" xmlns=\"http://www.w3.org/2000/svg\" y1=\"206.6153846153846\" y2=\"206.6153846153846\"></line>\n",
    "         <text fill=\"#000000\" font-family=\"Crimson Text\" font-size=\"19.84\" text-anchor=\"end\" transform=\"translate(87.75999450683594 212.6153846153846)\">600</text>\n",
    "         <line fill=\"none\" stroke=\"#000000\" stroke-linecap=\"round\" stroke-linejoin=\"round\" stroke-width=\"0.9\" x1=\"99.75999450683594\" x2=\"385\" xmlns=\"http://www.w3.org/2000/svg\" y1=\"225.84615384615384\" y2=\"225.84615384615384\"></line>\n",
    "         <line fill=\"none\" stroke=\"#000000\" stroke-linecap=\"round\" stroke-linejoin=\"round\" stroke-width=\"0.9\" x1=\"93.75999450683594\" x2=\"105.75999450683594\" xmlns=\"http://www.w3.org/2000/svg\" y1=\"225.84615384615384\" y2=\"225.84615384615384\"></line>\n",
    "         <text fill=\"#000000\" font-family=\"Crimson Text\" font-size=\"19.84\" text-anchor=\"end\" transform=\"translate(87.75999450683594 231.84615384615384)\">500</text>\n",
    "         <line fill=\"none\" stroke=\"#000000\" stroke-linecap=\"round\" stroke-linejoin=\"round\" stroke-width=\"0.9\" x1=\"99.75999450683594\" x2=\"385\" xmlns=\"http://www.w3.org/2000/svg\" y1=\"245.07692307692307\" y2=\"245.07692307692307\"></line>\n",
    "         <line fill=\"none\" stroke=\"#000000\" stroke-linecap=\"round\" stroke-linejoin=\"round\" stroke-width=\"0.9\" x1=\"93.75999450683594\" x2=\"105.75999450683594\" xmlns=\"http://www.w3.org/2000/svg\" y1=\"245.07692307692307\" y2=\"245.07692307692307\"></line>\n",
    "         <text fill=\"#000000\" font-family=\"Crimson Text\" font-size=\"19.84\" text-anchor=\"end\" transform=\"translate(87.75999450683594 251.07692307692307)\">400</text>\n",
    "         <line fill=\"none\" stroke=\"#000000\" stroke-linecap=\"round\" stroke-linejoin=\"round\" stroke-width=\"0.9\" x1=\"99.75999450683594\" x2=\"385\" xmlns=\"http://www.w3.org/2000/svg\" y1=\"264.30769230769226\" y2=\"264.30769230769226\"></line>\n",
    "         <line fill=\"none\" stroke=\"#000000\" stroke-linecap=\"round\" stroke-linejoin=\"round\" stroke-width=\"0.9\" x1=\"93.75999450683594\" x2=\"105.75999450683594\" xmlns=\"http://www.w3.org/2000/svg\" y1=\"264.30769230769226\" y2=\"264.30769230769226\"></line>\n",
    "         <text fill=\"#000000\" font-family=\"Crimson Text\" font-size=\"19.84\" text-anchor=\"end\" transform=\"translate(87.75999450683594 270.30769230769226)\">300</text>\n",
    "         <line fill=\"none\" stroke=\"#000000\" stroke-linecap=\"round\" stroke-linejoin=\"round\" stroke-width=\"0.9\" x1=\"99.75999450683594\" x2=\"385\" xmlns=\"http://www.w3.org/2000/svg\" y1=\"283.53846153846155\" y2=\"283.53846153846155\"></line>\n",
    "         <line fill=\"none\" stroke=\"#000000\" stroke-linecap=\"round\" stroke-linejoin=\"round\" stroke-width=\"0.9\" x1=\"93.75999450683594\" x2=\"105.75999450683594\" xmlns=\"http://www.w3.org/2000/svg\" y1=\"283.53846153846155\" y2=\"283.53846153846155\"></line>\n",
    "         <text fill=\"#000000\" font-family=\"Crimson Text\" font-size=\"19.84\" text-anchor=\"end\" transform=\"translate(87.75999450683594 289.53846153846155)\">200</text>\n",
    "         <line fill=\"none\" stroke=\"#000000\" stroke-linecap=\"round\" stroke-linejoin=\"round\" stroke-width=\"0.9\" x1=\"99.75999450683594\" x2=\"385\" xmlns=\"http://www.w3.org/2000/svg\" y1=\"302.7692307692308\" y2=\"302.7692307692308\"></line>\n",
    "         <line fill=\"none\" stroke=\"#000000\" stroke-linecap=\"round\" stroke-linejoin=\"round\" stroke-width=\"0.9\" x1=\"93.75999450683594\" x2=\"105.75999450683594\" xmlns=\"http://www.w3.org/2000/svg\" y1=\"302.7692307692308\" y2=\"302.7692307692308\"></line>\n",
    "         <text fill=\"#000000\" font-family=\"Crimson Text\" font-size=\"19.84\" text-anchor=\"end\" transform=\"translate(87.75999450683594 308.7692307692308)\">100</text>\n",
    "         <line fill=\"none\" stroke=\"#000000\" stroke-linecap=\"round\" stroke-linejoin=\"round\" stroke-width=\"0.9\" x1=\"99.75999450683594\" x2=\"385\" xmlns=\"http://www.w3.org/2000/svg\" y1=\"322\" y2=\"322\"></line>\n",
    "         <line fill=\"none\" stroke=\"#000000\" stroke-linecap=\"round\" stroke-linejoin=\"round\" stroke-width=\"0.9\" x1=\"93.75999450683594\" x2=\"105.75999450683594\" xmlns=\"http://www.w3.org/2000/svg\" y1=\"322\" y2=\"322\"></line>\n",
    "         <text fill=\"#000000\" font-family=\"Crimson Text\" font-size=\"19.84\" text-anchor=\"end\" transform=\"translate(87.75999450683594 328)\">0</text>\n",
    "         <text fill=\"#000000\" font-family=\"Crimson Text\" font-size=\"19.84\" text-anchor=\"middle\" transform=\"translate(24 197) rotate(-90)\">Number of municipalities</text>\n",
    "         <line fill=\"none\" stroke=\"#000000\" stroke-linecap=\"round\" stroke-linejoin=\"round\" stroke-width=\"0.9\" x1=\"99.75999450683594\" x2=\"99.75999450683594\" xmlns=\"http://www.w3.org/2000/svg\" y1=\"72\" y2=\"322\"></line>\n",
    "         <rect fill=\"#B3B3B3\" height=\"240.76923076923077\" stroke=\"#000000\" stroke-linecap=\"round\" stroke-linejoin=\"mitre\" stroke-width=\"0.9\" width=\"28.524000549316405\" x=\"128.28399505615235\" xmlns=\"http://www.w3.org/2000/svg\" y=\"81.23076923076923\"></rect>\n",
    "         <rect fill=\"#333333\" height=\"240\" stroke=\"#000000\" stroke-linecap=\"round\" stroke-linejoin=\"mitre\" stroke-width=\"0.9\" width=\"28.524000549316405\" x=\"156.80799560546876\" xmlns=\"http://www.w3.org/2000/svg\" y=\"82\"></rect>\n",
    "         <text fill=\"#000000\" font-family=\"Crimson Text\" font-size=\"19.84\" text-anchor=\"end\" transform=\"translate(166.72799560546875 341.84) rotate(-40)\" x=\"0\" xmlns=\"http://www.w3.org/2000/svg\" y=\"0\">no response</text>\n",
    "         <rect fill=\"#B3B3B3\" height=\"39.80769230769231\" stroke=\"#000000\" stroke-linecap=\"round\" stroke-linejoin=\"mitre\" stroke-width=\"0.9\" width=\"28.524000549316405\" x=\"213.85599670410159\" xmlns=\"http://www.w3.org/2000/svg\" y=\"282.1923076923077\"></rect>\n",
    "         <rect fill=\"#333333\" height=\"39.42307692307692\" stroke=\"#000000\" stroke-linecap=\"round\" stroke-linejoin=\"mitre\" stroke-width=\"0.9\" width=\"28.524000549316405\" x=\"242.379997253418\" xmlns=\"http://www.w3.org/2000/svg\" y=\"282.5769230769231\"></rect>\n",
    "         <text fill=\"#000000\" font-family=\"Crimson Text\" font-size=\"19.84\" text-anchor=\"end\" transform=\"translate(252.29999725341798 341.84) rotate(-40)\" x=\"0\" xmlns=\"http://www.w3.org/2000/svg\" y=\"0\">responded to inquiry</text>\n",
    "         <rect fill=\"#B3B3B3\" height=\"24.23076923076923\" stroke=\"#000000\" stroke-linecap=\"round\" stroke-linejoin=\"mitre\" stroke-width=\"0.9\" width=\"28.524000549316405\" x=\"299.4279983520508\" xmlns=\"http://www.w3.org/2000/svg\" y=\"297.7692307692308\"></rect>\n",
    "         <rect fill=\"#333333\" height=\"23.46153846153846\" stroke=\"#000000\" stroke-linecap=\"round\" stroke-linejoin=\"mitre\" stroke-width=\"0.9\" width=\"28.524000549316405\" x=\"327.9519989013672\" xmlns=\"http://www.w3.org/2000/svg\" y=\"298.53846153846155\"></rect>\n",
    "         <text fill=\"#000000\" font-family=\"Crimson Text\" font-size=\"19.84\" text-anchor=\"end\" transform=\"translate(337.8719989013672 341.84) rotate(-40)\" x=\"0\" xmlns=\"http://www.w3.org/2000/svg\" y=\"0\">offered incentive</text>\n",
    "         <text fill=\"#000000\" font-family=\"Crimson Text\" font-size=\"19.84\" text-anchor=\"middle\" transform=\"translate(242.37999725341797 24)\">Municipalities’ Responses to Inquiries </text>\n",
    "         <text fill=\"#000000\" font-family=\"Crimson Text\" font-size=\"19.84\" text-anchor=\"middle\" transform=\"translate(242.37999725341797 48)\">about Potential Incentives for Firm</text>\n",
    "         <rect fill=\"none\" height=\"71\" stroke=\"#000000\" stroke-linejoin=\"mitre\" stroke-width=\"0.9\" width=\"280.1479034423828\" x=\"67.4260482788086\" xmlns=\"http://www.w3.org/2000/svg\" y=\"496.7376708984375\"></rect>\n",
    "         <rect fill=\"#B3B3B3\" height=\"12\" stroke=\"#000000\" stroke-linejoin=\"mitre\" stroke-width=\"0.9\" width=\"12\" x=\"74.4260482788086\" xmlns=\"http://www.w3.org/2000/svg\" y=\"508.7376708984375\"></rect>\n",
    "         <text fill=\"#000000\" font-family=\"Crimson Text\" font-size=\"19.84\" text-anchor=\"top\" transform=\"translate(96.4260482788086 520.7376708984375)\"> announcement before election</text>\n",
    "         <rect fill=\"#333333\" height=\"12\" stroke=\"#000000\" stroke-linejoin=\"mitre\" stroke-width=\"0.9\" width=\"12\" x=\"74.4260482788086\" xmlns=\"http://www.w3.org/2000/svg\" y=\"540.7376708984375\"></rect>\n",
    "         <text fill=\"#000000\" font-family=\"Crimson Text\" font-size=\"19.84\" text-anchor=\"top\" transform=\"translate(96.4260482788086 552.7376708984375)\"> announcement after election</text>\n",
    "      </g>\n",
    "   </svg>\n",
    "</figure>\n",
    "<div aria-label=\"Long description for bar graph titled Municipalities’ Responses to Inquiries about Potential Incentives for Firm\" class=\"sr-only\" role=\"region\">\n",
    "   <ul>\n",
    "      +\n",
    "      <li>\n",
    "         For each data category, the following bars are shown: <br/>                                                                                                                                                                                                                                                                                                                                                                                                                                                                                                                                                                                                                                                                                                                                                                                                                                                                                                                                                                                                                                                                                                                                                                                                                                                                                                                                                                                                                                                                                                                                                                                                                                                                                                                                                                                                                                                                                                                                                                                                                                                                                                                                                                                                                                                                                                                                                                                                                                                                                                                                                                                                                                                                                                                                                                                                                                                                                                                                                                                                                                                                                                                                                                                                                                                                                                                                                                                                                                                                                                                                                                                                                                                                                                                                                                                                                                                                                                                                                                                                                                                                                                                                                                                                                                                                                                                                                                                                                                                                                                                                                                                                                                                                                                                                                                                                                                                                                                                                                                                                                                                                                                                                                                                                                                                                                                                                                                                                                                                                                                                                                                                                                                                                                                                                                                                                                                                                                                                                                                                                                                                                                                                                                                                                                                                                                                                                                                                                                                                                                                                                                                                                                                                                                                                                                                                                                                                                                                                                                                                                                                                                                                                                                                                                                                                                                                                                                                                                                                                                                                                                                                                                                                                                                                                                                                                                                                                                                                                                                                                                                                                                                                                                                                                                                                                                                                                                                                                                                                                                                                                                                                                                                                                                                                                                                                                                                                                                                                                                                                                                                                                                                                                                                                                                                                                                                                                                                                                                                                                                                                                                                                                                                                                                                                                                                                                                                                                                                                                                                                                                                                                                                                                                                                                                                                                                                                                                                                                                                                                                                                                                                                                                                                                                                                                                                                                                                                                                                                                                                                                                                                                                                                                                                                                                                                                                                                                                                                                                                                                                                                                                                                                                                                                                                                                                                                                                                                                                                                                                                                                                                                                                                                                                                                                                                                                                                                                                                                                                                                                                                                                                                                                                                                                                                                                                                                                                           +\n",
    "         <ul>\n",
    "            +\n",
    "            <li>announcement before election</li>\n",
    "            +\n",
    "            <li>announcement after election</li>\n",
    "            +\n",
    "         </ul>\n",
    "         +\n",
    "      </li>\n",
    "      +\n",
    "      <li>\n",
    "         The data for the 3 categories are as follows: <br/>                                                                                                                                                                                                                                                                                                                                                                                                                                                                                                                                                                                                                                                                                                                                                                                                                                                                                                                                                                                                                                                                                                                                                                                                                                                                                                                                                                                                                                                                                                                                                                                                                                                                                                                                                                                                                                                                                                                                                                                                                                                                                                                                                                                                                                                                                                                                                                                                                                                                                                                                                                                                                                                                                                                                                                                                                                                                                                                                                                                                                                                                                                                                                                                                                                                                                                                                                                                                                                                                                                                                                                                                                                                                                                                                                                                                                                                                                                                                                                                                                                                                                                                                                                                                                                                                                                                                                                                                                                                                                                                                                                                                                                                                                                                                                                                                                                                                                                                                                                                                                                                                                                                                                                                                                                                                                                                                                                                                                                                                                                                                                                                                                                                                                                                                                                                                                                                                                                                                                                                                                                                                                                                                                                                                                                                                                                                                                                                                                                                                                                                                                                                                                                                                                                                                                                                                                                                                                                                                                                                                                                                                                                                                                                                                                                                                                                                                                                                                                                                                                                                                                                                                                                                                                                                                                                                                                                                                                                                                                                                                                                                                                                                                                                                                                                                                                                                                                                                                                                                                                                                                                                                                                                                                                                                                                                                                                                                                                                                                                                                                                                                                                                                                                                                                                                                                                                                                                                                                                                                                                                                                                                                                                                                                                                                                                                                                                                                                                                                                                                                                                                                                                                                                                                                                                                                                                                                                                                                                                                                                                                                                                                                                                                                                                                                                                                                                                                                                                                                                                                                                                                                                                                                                                                                                                                                                                                                                                                                                                                                                                                                                                                                                                                                                                                                                                                                                                                                                                                                                                                                                                                                                                                                                                                                                                                                                                                                                                                                                                                                                                                                                                                                                                                                                                                                                                                                                                   +\n",
    "         <ul>\n",
    "            +\n",
    "            <li>\n",
    "               no response:                                                                                                                                                                                                                                                                                                                                                                                                                                                                                                                                                                                                                                                                                                                                                                                                                                                                                                                                                                                                                                                                                                                                                                                                                                                                                                                                                                                                                                                                                                                                                                                                                                                                                                                                                                                                                                                                                                                                                                                                                                                                                                                                                                                                                                                                                                                                                                                                                                                                                                                                                                                                                                                                                                                                                                                                                                                                                                                                                                                                                                                                                                                                                                                                                                                                                                                                                                                                                                                                                                                                                                                                                                                                                                                                                                                                                                                                                                                                                                                                                                                                                                                                                                                                                                                                                                                                                                                                                                                                                                                                                                                                                                                                                                                                                                                                                                                                                                                                                                                                                                                                                                                                                                                                                                                                                                                                                                                                                                                                                                                                                                                                                                                                                                                                                                                                                                                                                                                                                                                                                                                                                                                                                                                                                                                                                                                                                                                                                                                                                                                                                                                                                                                                                                                                                                                                                                                                                                                                                                                                                                                                                                                                                                                                                                                                                                                                                                                                                                                                                                                                                                                                                                                                                                                                                                                                                                                                                                                                                                                                                                                                                                                                                                                                                                                                                                                                                                                                                                                                                                                                                                                                                                                                                                                                                                                                                                                                                                                                                                                                                                                                                                                                                                                                                                                                                                                                                                                                                                                                                                                                                                                                                                                                                                                                                                                                                                                                                                                                                                                                                                                                                                                                                                                                                                                                                                                                                                                                                                                                                                                                                                                                                                                                                                                                                                                                                                                                                                                                                                                                                                                                                                                                                                                                                                                                                                                                                                                                                                                                                                                                                                                                                                                                                                                                                                                                                                                                                                                                                                                                                                                                                                                                                                                                                                                                                                                                                                                                                                                                                                                                                                                                                                                                                                                                                                                                                                                          +\n",
    "               <ul>\n",
    "                  +\n",
    "                  <li>announcement before election: 1,252</li>\n",
    "                  +\n",
    "                  <li>announcement after election: 1,248</li>\n",
    "                  +\n",
    "               </ul>\n",
    "               +\n",
    "            </li>\n",
    "            +\n",
    "            <li>\n",
    "               responded to inquiry:                                                                                                                                                                                                                                                                                                                                                                                                                                                                                                                                                                                                                                                                                                                                                                                                                                                                                                                                                                                                                                                                                                                                                                                                                                                                                                                                                                                                                                                                                                                                                                                                                                                                                                                                                                                                                                                                                                                                                                                                                                                                                                                                                                                                                                                                                                                                                                                                                                                                                                                                                                                                                                                                                                                                                                                                                                                                                                                                                                                                                                                                                                                                                                                                                                                                                                                                                                                                                                                                                                                                                                                                                                                                                                                                                                                                                                                                                                                                                                                                                                                                                                                                                                                                                                                                                                                                                                                                                                                                                                                                                                                                                                                                                                                                                                                                                                                                                                                                                                                                                                                                                                                                                                                                                                                                                                                                                                                                                                                                                                                                                                                                                                                                                                                                                                                                                                                                                                                                                                                                                                                                                                                                                                                                                                                                                                                                                                                                                                                                                                                                                                                                                                                                                                                                                                                                                                                                                                                                                                                                                                                                                                                                                                                                                                                                                                                                                                                                                                                                                                                                                                                                                                                                                                                                                                                                                                                                                                                                                                                                                                                                                                                                                                                                                                                                                                                                                                                                                                                                                                                                                                                                                                                                                                                                                                                                                                                                                                                                                                                                                                                                                                                                                                                                                                                                                                                                                                                                                                                                                                                                                                                                                                                                                                                                                                                                                                                                                                                                                                                                                                                                                                                                                                                                                                                                                                                                                                                                                                                                                                                                                                                                                                                                                                                                                                                                                                                                                                                                                                                                                                                                                                                                                                                                                                                                                                                                                                                                                                                                                                                                                                                                                                                                                                                                                                                                                                                                                                                                                                                                                                                                                                                                                                                                                                                                                                                                                                                                                                                                                                                                                                                                                                                                                                                                                                                                                                                 +\n",
    "               <ul>\n",
    "                  +\n",
    "                  <li>announcement before election: 207</li>\n",
    "                  +\n",
    "                  <li>announcement after election: 205</li>\n",
    "                  +\n",
    "               </ul>\n",
    "               +\n",
    "            </li>\n",
    "            +\n",
    "            <li>\n",
    "               offered incentive:                                                                                                                                                                                                                                                                                                                                                                                                                                                                                                                                                                                                                                                                                                                                                                                                                                                                                                                                                                                                                                                                                                                                                                                                                                                                                                                                                                                                                                                                                                                                                                                                                                                                                                                                                                                                                                                                                                                                                                                                                                                                                                                                                                                                                                                                                                                                                                                                                                                                                                                                                                                                                                                                                                                                                                                                                                                                                                                                                                                                                                                                                                                                                                                                                                                                                                                                                                                                                                                                                                                                                                                                                                                                                                                                                                                                                                                                                                                                                                                                                                                                                                                                                                                                                                                                                                                                                                                                                                                                                                                                                                                                                                                                                                                                                                                                                                                                                                                                                                                                                                                                                                                                                                                                                                                                                                                                                                                                                                                                                                                                                                                                                                                                                                                                                                                                                                                                                                                                                                                                                                                                                                                                                                                                                                                                                                                                                                                                                                                                                                                                                                                                                                                                                                                                                                                                                                                                                                                                                                                                                                                                                                                                                                                                                                                                                                                                                                                                                                                                                                                                                                                                                                                                                                                                                                                                                                                                                                                                                                                                                                                                                                                                                                                                                                                                                                                                                                                                                                                                                                                                                                                                                                                                                                                                                                                                                                                                                                                                                                                                                                                                                                                                                                                                                                                                                                                                                                                                                                                                                                                                                                                                                                                                                                                                                                                                                                                                                                                                                                                                                                                                                                                                                                                                                                                                                                                                                                                                                                                                                                                                                                                                                                                                                                                                                                                                                                                                                                                                                                                                                                                                                                                                                                                                                                                                                                                                                                                                                                                                                                                                                                                                                                                                                                                                                                                                                                                                                                                                                                                                                                                                                                                                                                                                                                                                                                                                                                                                                                                                                                                                                                                                                                                                                                                                                                                                                                                    +\n",
    "               <ul>\n",
    "                  +\n",
    "                  <li>announcement before election: 128</li>\n",
    "                  +\n",
    "                  <li>announcement after election: 122</li>\n",
    "                  +\n",
    "               </ul>\n",
    "               +\n",
    "            </li>\n",
    "            +\n",
    "         </ul>\n",
    "         +\n",
    "      </li>\n",
    "      +\n",
    "   </ul>\n",
    "</div>\n",
    "+\n",
    "<p>In the United States, firms often seek incentives from municipal governments to expand to those municipalities. A team of political scientists hypothesized that municipalities are much more likely to respond to firms and offer incentives if expansions can be announced in time to benefit local elected officials than if they can’t. The team contacted officials in thousands of municipalities, inquiring about incentives for a firm looking to expand and indicating that the firm would announce its expansion on a date either just before or just after the next election. </p>\n",
    "\n",
    "<p>Which choice best describes data from the graph that weaken the team&rsquo;s hypothesis?</p>\n",
    "\n",
    "A. <p>A large majority of the municipalities that received an inquiry mentioning plans for an announcement before the next election didn&rsquo;t respond to the inquiry.</p>\n",
    "B. <p>The proportion of municipalities that responded to the inquiry or offered incentives didn&rsquo;t substantially differ across the announcement timing conditions.&nbsp;</p>\n",
    "C. <p>Only around half the municipalities that responded to inquiries mentioning plans for an announcement before the next election offered incentives.&nbsp;</p>\n",
    "D. <p>Of the municipalities that received an inquiry mentioning plans for an announcement date after the next election, more than 1,200 didn&rsquo;t respond and only around 100 offered incentives.</p>\n",
    "    \"\"\",\n",
    "    \"rationale\": \"\"\"\n",
    "<p>Choice B is the best answer. The lighter bars show what happened when the announcement was to come before the election, and the darker bars show what happened when the announcement was to come after the election. For all three of the outcomes, the light and dark bars are virtually the same, demonstrating that the announcement timing didn&rsquo;t actually make a difference. </p>\n",
    "<p>Choice A is incorrect. This accurately describes some data from the graph, but it doesn&rsquo;t weaken the hypothesis. It doesn&rsquo;t include the &ldquo;announcement after election&rdquo; data for comparison. Choice C is incorrect. This accurately describes some data from the graph, but it doesn&rsquo;t weaken the hypothesis. It doesn&rsquo;t include the &ldquo;announcement after election&rdquo; data for comparison. Choice D is incorrect. This accurately describes some data from the graph, but it doesn&rsquo;t weaken the hypothesis. It doesn&rsquo;t include the &ldquo;announcement before election&rdquo; data for comparison. </p>    \n",
    "    \"\"\",\n",
    "    \"user_choice\": \"D\",\n",
    "    \"user_rationale\": \"isn't this data objly true?\"\n",
    "}"
   ]
  },
  {
   "cell_type": "markdown",
   "id": "a786afe0",
   "metadata": {
    "papermill": {
     "duration": null,
     "end_time": null,
     "exception": null,
     "start_time": null,
     "status": "pending"
    },
    "tags": []
   },
   "source": [
    "Even with the SVG, Gemini can still interpret the noisy data:"
   ]
  },
  {
   "cell_type": "code",
   "execution_count": null,
   "id": "5d853d60",
   "metadata": {
    "execution": {
     "iopub.execute_input": "2025-04-18T22:33:55.592111Z",
     "iopub.status.busy": "2025-04-18T22:33:55.591881Z",
     "iopub.status.idle": "2025-04-18T22:34:00.035996Z",
     "shell.execute_reply": "2025-04-18T22:34:00.035027Z",
     "shell.execute_reply.started": "2025-04-18T22:33:55.592093Z"
    },
    "papermill": {
     "duration": null,
     "end_time": null,
     "exception": null,
     "start_time": null,
     "status": "pending"
    },
    "tags": []
   },
   "outputs": [],
   "source": [
    "sample_rich_answer = client.models.generate_content(\n",
    "                    model=\"gemini-2.0-flash-001\",\n",
    "                    contents=str(rich_question),\n",
    "                    config=GenerateContentConfig(\n",
    "                        system_instruction=[final_prompt,],\n",
    "                        temperature=0.1,\n",
    "                    ),\n",
    "                )\n",
    "\n",
    "Markdown(sample_rich_answer.text)"
   ]
  },
  {
   "cell_type": "markdown",
   "id": "f39ee3a7",
   "metadata": {
    "papermill": {
     "duration": null,
     "end_time": null,
     "exception": null,
     "start_time": null,
     "status": "pending"
    },
    "tags": []
   },
   "source": [
    "While cleansing the data may be smoother for the LLM, not all data can be easily cleansed. U-tags must be converted manually because Markdown doesn't have an underline equivalent. "
   ]
  },
  {
   "cell_type": "code",
   "execution_count": null,
   "id": "7994f3fa",
   "metadata": {
    "execution": {
     "iopub.execute_input": "2025-04-18T22:34:00.037048Z",
     "iopub.status.busy": "2025-04-18T22:34:00.036763Z",
     "iopub.status.idle": "2025-04-18T22:34:00.112646Z",
     "shell.execute_reply": "2025-04-18T22:34:00.11182Z",
     "shell.execute_reply.started": "2025-04-18T22:34:00.037017Z"
    },
    "papermill": {
     "duration": null,
     "end_time": null,
     "exception": null,
     "start_time": null,
     "status": "pending"
    },
    "tags": []
   },
   "outputs": [],
   "source": [
    "from markdownify import markdownify as md \n",
    "\n",
    "def sanitize(text):\n",
    "    return md(text.replace(\"<u>\", \"[Underlined]\").replace(\"</u>\", \"[End]\"))\n",
    "\n",
    "rich_question = {\n",
    "    \"question\": sanitize(\"\"\"\n",
    "<p><span role=\"region\" aria-label=\"Referenced Content\"><u>&ldquo;How lifelike are they?&rdquo;</u></span> Many computer animators prioritize this question as they strive to create ever more realistic environments and lighting. Generally, while characters in computer-animated films appear highly exaggerated, environments and lighting are carefully engineered to mimic reality. But some animators, such as Pixar&rsquo;s Sanjay Patel, are focused on a different question. Rather than asking first whether the environments and lighting they&rsquo;re creating are convincingly lifelike, Patel and others are asking whether these elements reflect their films&rsquo; unique stories.</p>\n",
    "\n",
    "<p>Which choice best describes the function of the underlined question in the text as a whole?</p>\n",
    "\n",
    "A. <p>It reflects a primary goal that many computer animators have for certain components of the animations they produce.</p>\n",
    "B. <p>It represents a concern of computer animators who are more interested in creating unique backgrounds and lighting effects than realistic ones.</p>\n",
    "C. <p>It conveys the uncertainty among many computer animators about how to create realistic animations using current technology.</p>\n",
    "D. <p>It illustrates a reaction that audiences typically have to the appearance of characters created by computer animators.</p>\n",
    "    \"\"\"),\n",
    "    \"rationale\": sanitize(\"\"\"\n",
    "<p>Choice A is the best answer because it most accurately describes the function of the underlined question in the text as a whole. The text begins with the underlined question, &ldquo;How lifelike are they?&rdquo; The text then explains that many computer animators pose this question about the environments and lighting that they create for animated films, striving for realistic animation of those components even if the characters themselves aren&rsquo;t portrayed in realistic terms. The focus of the text then shifts to describe how some animators strive to create environments and lighting that reflect the film&rsquo;s unique stories rather than making them appear realistic. Therefore, the function of the underlined question is to reflect a primary goal that many computer animators have for certain components of the animations they produce. </p><p>Choice B is incorrect because, as the text makes clear, the underlined question is one posed by computer animators who wish to create realistic backgrounds and lighting effects, not by those who, instead, wish to create effects that reflect films&rsquo; unique stories and aren&rsquo;t necessarily realistic; this latter group of animators is discussed later in the text. Choice C is incorrect. As the text explains, many computer animators strive for realistic environments and lighting, while others do not; this difference of approach relates to whether these components should be realistic, not to how realism can be achieved using current technology, and the text never suggests that animators are uncertain how to achieve it. Choice D is incorrect because the underlined question pertains to the perspective of computer animators, not the audience, and the text never considers audience&rsquo;s reactions to characters in animated films. </p>\n",
    "    \"\"\"),\n",
    "    \"user_choice\": \"C\",\n",
    "    \"user_rationale\": \"why is it not C? Aren't they asking the question because they are uncertain about it?\",\n",
    "}\n",
    "\n",
    "Markdown(rich_question[\"question\"])"
   ]
  },
  {
   "cell_type": "markdown",
   "id": "975e7ce6",
   "metadata": {
    "papermill": {
     "duration": null,
     "end_time": null,
     "exception": null,
     "start_time": null,
     "status": "pending"
    },
    "tags": []
   },
   "source": [
    "Perhaps in this scenario, \"good enough\" gets the job done.\n",
    "\n",
    "# Multiple Reasoning Capabilities using Tree of Thoughts (ToT)\n",
    "To understand questions better, the debate-style approach may not suffice; multiple, parallel thinking processes may be necessary for the user to truly grasp the problem with their current reasoning. This approach is less time consuming and may help the user better than walking through and typing their own rationale. Tree of Thoughts (ToT) is a technique for the agent to use multiple processes to approach the relevant answer for the user. The agent will **have to** output in JSON so that the user's screen can be separated and decluttered."
   ]
  },
  {
   "cell_type": "code",
   "execution_count": null,
   "id": "c35d8785",
   "metadata": {
    "execution": {
     "iopub.execute_input": "2025-04-18T22:34:00.113789Z",
     "iopub.status.busy": "2025-04-18T22:34:00.113341Z",
     "iopub.status.idle": "2025-04-18T22:34:09.654407Z",
     "shell.execute_reply": "2025-04-18T22:34:09.653699Z",
     "shell.execute_reply.started": "2025-04-18T22:34:00.113764Z"
    },
    "papermill": {
     "duration": null,
     "end_time": null,
     "exception": null,
     "start_time": null,
     "status": "pending"
    },
    "tags": []
   },
   "outputs": [],
   "source": [
    "response = client.models.generate_content(\n",
    "    model=\"gemini-2.0-flash-001\",\n",
    "    # no specs yet\n",
    "    contents=f\"\"\"\n",
    "**Objective**: Create SAT-focused prompt variations that generate multiple structured thinking processes for error analysis.\n",
    "                \n",
    "**Requirements for the agent that you will create a prompt for**:\n",
    "1. The model you are creating a prompt for will analyze: \n",
    "   - Current SAT question\n",
    "   - Official rationale\n",
    "   - User's answer + rationale\n",
    "2. Must output in the following format:\n",
    "```json\n",
    "[\n",
    "    {{\n",
    "        \"thinking_process\": \"[Here you will define a process step by step to get one of the answers]\",\n",
    "        \"leads_to\": \"user\" | \"correct\"\n",
    "    }},\n",
    "    {{\n",
    "        \"thinking_process\": \"[Here you will define another process step by step to get one of the answers]\",\n",
    "        \"leads_to\": \"user\" | \"correct\"\n",
    "    }},\n",
    "    {{\n",
    "        \"thinking_process\": \"[Include as many of these as possible!]\",\n",
    "        \"leads_to\": \"user\" | \"correct\"\n",
    "    }},\n",
    "]\n",
    "```\n",
    "\n",
    "3. There will be a model before you that contrasts an argument in favor of the user's answer with an argument for the actual answer.\n",
    "You will be given that output. Create a prompt such that this model will build upon it.\n",
    "\n",
    "The model may not include anything outside the JSON.\n",
    "\n",
    "\\\"leads_to\\\" represents that it leads to the users answer or the \\\"correct\\\" answer. There are no other options.\n",
    "\n",
    "Example question your model may receive:\n",
    "\n",
    "Question:\n",
    "{question['question']}\n",
    "\n",
    "Rationale:\n",
    "{question['rationale']}\n",
    "\n",
    "User Response:\n",
    "- Answer: {question['user_answer']}\n",
    "- User Rationale: {question['user_rationale']}\n",
    "\n",
    "Sample Response from the Previous Agent (not related to the question):\n",
    "{sample_rich_answer}.\n",
    "\n",
    "Don't generate any code. Just generate multiple creative but logical prompts we can use to make an AI for this\n",
    "              \"\"\",\n",
    "    config=GenerateContentConfig(\n",
    "        system_instruction=[\n",
    "            \"You are a prompt engineer's assistant. Help the prompt engineer generate some prompts for his AI-powered SAT learning platform called Aquarc. The platform currently holds an SAT question bank with over 5000 questions and tracks which questions you get wrong per category. While this feature is helpful it lacks the intelligence necessary to be a full fledged SAT platform\",\n",
    "        ],\n",
    "        temperature=0.7,\n",
    "        top_k=7,\n",
    "    ),\n",
    ")\n",
    "\n",
    "Markdown(response.text)"
   ]
  },
  {
   "cell_type": "markdown",
   "id": "d65054d3",
   "metadata": {
    "papermill": {
     "duration": null,
     "end_time": null,
     "exception": null,
     "start_time": null,
     "status": "pending"
    },
    "tags": []
   },
   "source": [
    "Here I've picked the 5 best and most creative prompts to evaluate:"
   ]
  },
  {
   "cell_type": "code",
   "execution_count": null,
   "id": "e37d9343",
   "metadata": {
    "execution": {
     "iopub.execute_input": "2025-04-18T22:34:09.655373Z",
     "iopub.status.busy": "2025-04-18T22:34:09.655121Z",
     "iopub.status.idle": "2025-04-18T22:34:09.661495Z",
     "shell.execute_reply": "2025-04-18T22:34:09.660296Z",
     "shell.execute_reply.started": "2025-04-18T22:34:09.655349Z"
    },
    "papermill": {
     "duration": null,
     "end_time": null,
     "exception": null,
     "start_time": null,
     "status": "pending"
    },
    "tags": []
   },
   "outputs": [],
   "source": [
    "prompts = [ \n",
    "    {\n",
    "        \"prompt\": \"\"\"\n",
    "You are an expert SAT tutor analyzing a student's mistake on an SAT question. You are provided with:\n",
    "\n",
    "1.  The SAT question, including the text, answer choices, and the correct answer.\n",
    "2.  The official rationale for the correct answer and why the other choices are incorrect.\n",
    "3.  The student's chosen answer and their rationale for choosing that answer.\n",
    "4.  An argument contrasting the user's answer with the correct answer.\n",
    "\n",
    "Based on this information, identify the potential thinking processes that could have led the student to their incorrect answer, as well as the thinking process for the correct answer. Focus on common SAT error patterns (e.g., misreading the question, applying incorrect grammar rules, making unwarranted assumptions, etc.).\n",
    "\n",
    "Output a JSON array of objects. Each object represents a distinct thinking process and whether it leads to the user's answer or the correct answer. Include as many plausible thinking processes as possible, even if they seem obvious.\n",
    "\n",
    "Format:\n",
    "```json\n",
    "[\n",
    "    {\n",
    "        \"thinking_process\": \"[Here you will define a process step by step to get one of the answers]\",\n",
    "        \"leads_to\": \"user\" | \"correct\"\n",
    "    },\n",
    "    {\n",
    "        \"thinking_process\": \"[Here you will define another process step by step to get one of the answers]\",\n",
    "        \"leads_to\": \"user\" | \"correct\"\n",
    "    },\n",
    "    {\n",
    "        \"thinking_process\": \"[Include as many of these as possible!]\",\n",
    "        \"leads_to\": \"user\" | \"correct\"\n",
    "    },\n",
    "]\n",
    "```\n",
    "Leading to \"user\" indicates that it leads to the incorrect answer, the one the user picked. For each \"correct\" thinking process path, there should be one \"user\" path that leads to the user answer but refutes why the user is wrong.\n",
    "Be detailed in your thinking process, but don't say more that is necessary. If you feel more sentences are needed for precision then add some. But some won't need that many and some will need few.\n",
    "        \"\"\",\n",
    "        \"avg_score\": 0.0,\n",
    "    },\n",
    "    {\n",
    "        \"prompt\": \"\"\"\n",
    "You are an expert SAT tutor analyzing a student's mistake on an SAT question. You are provided with:\n",
    "\n",
    "1. The SAT question, including the text, answer choices, and the correct answer.\n",
    "2. The official rationale for the correct answer and why the other choices are incorrect.\n",
    "3. The student's chosen answer and their rationale for choosing that answer.\n",
    "4. An argument contrasting the user's answer with the correct answer.\n",
    "\n",
    "Deconstruct the official rationale and the student's rationale. Identify the key assumptions, logical steps, and potential misunderstandings in each. Then, reconstruct different thinking processes – both correct and incorrect – that could lead to each answer choice. Be detailed and explicit in each step.\n",
    "\n",
    "Output a JSON array of objects. Each object represents a distinct thinking process and whether it leads to the user's answer or the correct answer. Include as many plausible thinking processes as possible, even if they seem obvious.\n",
    "\n",
    "Format:\n",
    "```json\n",
    "[\n",
    "    {\n",
    "        \"thinking_process\": \"[Here you will define a process step by step to get one of the answers]\",\n",
    "        \"leads_to\": \"user\" | \"correct\"\n",
    "    },\n",
    "    {\n",
    "        \"thinking_process\": \"[Here you will define another process step by step to get one of the answers]\",\n",
    "        \"leads_to\": \"user\" | \"correct\"\n",
    "    },\n",
    "    {\n",
    "        \"thinking_process\": \"[Include as many of these as possible!]\",\n",
    "        \"leads_to\": \"user\" | \"correct\"\n",
    "    },\n",
    "]\n",
    "```\n",
    "Leading to \"user\" indicates that it leads to the incorrect answer, the one the user picked. For each \"correct\" thinking process path, there should be one \"user\" path that leads to the user answer but refutes why the user is wrong.\n",
    "Be detailed in your thinking process, but don't say more that is necessary. If you feel more sentences are needed for precision then add some. But some won't need that many and some will need few.\n",
    "        \"\"\",\n",
    "        \"avg_score\": 0.0,\n",
    "    },\n",
    "    {\n",
    "        \"prompt\" : \"\"\"\n",
    "You are an expert SAT tutor analyzing a student's mistake on an SAT question. You are provided with:\n",
    "\n",
    "1. The SAT question, including the text, answer choices, and the correct answer.\n",
    "2. The official rationale for the correct answer and why the other choices are incorrect.\n",
    "3. The student's chosen answer and their rationale for choosing that answer.\n",
    "4. An argument contrasting the user's answer with the correct answer.\n",
    "\n",
    "Consider potential cognitive biases (e.g., confirmation bias, anchoring bias, availability heuristic) that might have influenced the student's decision-making process. Develop multiple step-by-step thinking processes that incorporate these biases, leading to both the student's answer and the correct answer.\n",
    "\n",
    "Output a JSON array of objects. Each object represents a distinct thinking process and whether it leads to the user's answer or the correct answer. Include as many plausible thinking processes as possible, even if they seem obvious.\n",
    "\n",
    "Format:\n",
    "```json\n",
    "[\n",
    "    {\n",
    "        \"thinking_process\": \"[Here you will define a process step by step to get one of the answers]\",\n",
    "        \"leads_to\": \"user\" | \"correct\"\n",
    "    },\n",
    "    {\n",
    "        \"thinking_process\": \"[Here you will define another process step by step to get one of the answers]\",\n",
    "        \"leads_to\": \"user\" | \"correct\"\n",
    "    },\n",
    "    {\n",
    "        \"thinking_process\": \"[Include as many of these as possible!]\",\n",
    "        \"leads_to\": \"user\" | \"correct\"\n",
    "    },\n",
    "]\n",
    "```\n",
    "Leading to \"user\" indicates that it leads to the incorrect answer, the one the user picked. For each \"correct\" thinking process path, there should be one \"user\" path that leads to the user answer but refutes why the user is wrong.\n",
    "Be detailed in your thinking process, but don't say more that is necessary. If you feel more sentences are needed for precision then add some. But some won't need that many and some will need few.\n",
    "        \"\"\",\n",
    "        \"avg_score\": 0.0,\n",
    "    },\n",
    "    {\n",
    "        \"prompt\": \"\"\"\n",
    "You are an expert SAT tutor analyzing a student's mistake on an SAT question. You are provided with:\n",
    "\n",
    "1. The SAT question, including the text, answer choices, and the correct answer.\n",
    "2. The official rationale for the correct answer and why the other choices are incorrect.\n",
    "3. The student's chosen answer and their rationale for choosing that answer.\n",
    "4. An argument contrasting the user's answer with the correct answer.\n",
    "\n",
    "Elaborate on multiple potential \"chains of thought\" a student might follow when approaching the question. Some chains should lead to the correct answer, while others should lead to the student's incorrect answer. Make each step in the chain explicit and easy to follow.\n",
    "\n",
    "Output a JSON array of objects. Each object represents a distinct thinking process and whether it leads to the user's answer or the correct answer. Include as many plausible thinking processes as possible, even if they seem obvious.\n",
    "\n",
    "Format:\n",
    "```json\n",
    "[\n",
    "    {\n",
    "        \"thinking_process\": \"[Here you will define a process step by step to get one of the answers]\",\n",
    "        \"leads_to\": \"user\" | \"correct\"\n",
    "    },\n",
    "    {\n",
    "        \"thinking_process\": \"[Here you will define another process step by step to get one of the answers]\",\n",
    "        \"leads_to\": \"user\" | \"correct\"\n",
    "    },\n",
    "    {\n",
    "        \"thinking_process\": \"[Include as many of these as possible!]\",\n",
    "        \"leads_to\": \"user\" | \"correct\"\n",
    "    },\n",
    "]\n",
    "```\n",
    "Leading to \"user\" indicates that it leads to the incorrect answer, the one the user picked. For each \"correct\" thinking process path, there should be one \"user\" path that leads to the user answer but refutes why the user is wrong.\n",
    "Be detailed in your thinking process, but don't say more that is necessary. If you feel more sentences are needed for precision then add some. But some won't need that many and some will need few.\n",
    "        \"\"\",\n",
    "        \"avg_score\": 0.0,\n",
    "    },\n",
    "    { \n",
    "        \"prompt\": \"\"\"\n",
    "You are an expert SAT tutor analyzing a student's mistake on an SAT question. You are provided with:\n",
    "\n",
    "    The SAT question, including the text, answer choices, and the correct answer.\n",
    "    The official rationale for the correct answer and why the other choices are incorrect.\n",
    "    The student's chosen answer and their rationale for choosing that answer.\n",
    "    An argument contrasting the user's answer with the correct answer.\n",
    "\n",
    "Synthesize multiple approaches to analyze the student's error. Consider:\n",
    "\n",
    "1. Common SAT error patterns.\n",
    "2. Deconstruction of the official and student rationales.\n",
    "3. Potential cognitive biases.\n",
    "4. Detailed chains of thought.\n",
    "\n",
    "Develop as many distinct, step-by-step thinking processes as possible that could lead to each answer choice (both the student's and the correct one). Be exhaustive in your analysis.\n",
    "\n",
    "Output a JSON array of objects. Each object represents a distinct thinking process and whether it leads to the user's answer or the correct answer. Include as many plausible thinking processes as possible, even if they seem obvious.\n",
    "\n",
    "Format:\n",
    "```json\n",
    "[\n",
    "    {\n",
    "        \"thinking_process\": \"[Here you will define a process step by step to get one of the answers]\",\n",
    "        \"leads_to\": \"user\" | \"correct\"\n",
    "    },\n",
    "    {\n",
    "        \"thinking_process\": \"[Here you will define another process step by step to get one of the answers]\",\n",
    "        \"leads_to\": \"user\" | \"correct\"\n",
    "    },\n",
    "    {\n",
    "        \"thinking_process\": \"[Include as many of these as possible!]\",\n",
    "        \"leads_to\": \"user\" | \"correct\"\n",
    "    },\n",
    "]\n",
    "```\n",
    "Leading to \"user\" indicates that it leads to the incorrect answer, the one the user picked. For each \"correct\" thinking process path, there should be one \"user\" path that leads to the user answer but refutes why the user is wrong.\n",
    "Be detailed in your thinking process, but don't say more that is necessary. If you feel more sentences are needed for precision then add some. But some won't need that many and some will need few.\n",
    "\n",
    "        \"\"\",\n",
    "        \"avg_score\": 0.0,\n",
    "    },\n",
    "]"
   ]
  },
  {
   "cell_type": "markdown",
   "id": "3dac11a2",
   "metadata": {
    "papermill": {
     "duration": null,
     "end_time": null,
     "exception": null,
     "start_time": null,
     "status": "pending"
    },
    "tags": []
   },
   "source": [
    "## Evaluation of ToT Prompts\n",
    "\n",
    "Evaluate the ToT prompts against each other:"
   ]
  },
  {
   "cell_type": "code",
   "execution_count": null,
   "id": "9b41b18b",
   "metadata": {
    "execution": {
     "iopub.execute_input": "2025-04-18T22:34:09.662578Z",
     "iopub.status.busy": "2025-04-18T22:34:09.662345Z",
     "iopub.status.idle": "2025-04-18T22:34:09.678773Z",
     "shell.execute_reply": "2025-04-18T22:34:09.677846Z",
     "shell.execute_reply.started": "2025-04-18T22:34:09.662556Z"
    },
    "papermill": {
     "duration": null,
     "end_time": null,
     "exception": null,
     "start_time": null,
     "status": "pending"
    },
    "tags": []
   },
   "outputs": [],
   "source": [
    "# Define the evaluation prompt\n",
    "EVAL_PROMPT = \"\"\"\n",
    "# Instruction\n",
    "Evaluate the AI’s analysis of a student’s SAT error. Focus on how well it explains why the correct answer is textually supported and why the user’s answer is incorrect.\n",
    "This analysis is intended to build upon a previous debate style analysis where the user is presented upon a pro/con argument for their answer. These prompts will be used in the agent for when the user wants more clarity and multiple thinking processes.\n",
    "\n",
    "# Evaluation\n",
    "## **Metric Definition**\n",
    "Assess the **accuracy**, **completeness**, **groundedness**, and **clarity** of the response. The AI must:\n",
    "1. Correctly identify textual evidence for the correct answer.\n",
    "2. Explain flaws in the user’s answer (and their rationale, if provided).\n",
    "3. Follow the prompt’s instructions precisely.\n",
    "4. Really help the user understand why they were wrong by looking at how other people can mess up / how they potentially messed up.\n",
    "\n",
    "\n",
    "## **Criteria**  \n",
    "1. **Instructional Creativity**:  \n",
    "   - Does the creative approach (e.g., debate, step-by-step analysis) **enhance understanding** of why the correct answer is textually supported?  \n",
    "   - Does it **strategically use the prompt’s structure** (e.g., arguments for/against) to highlight key SAT skills like evidence analysis or assumption identification?  \n",
    "\n",
    "2. **Educational Effectiveness**:  \n",
    "   - Does the creativity **directly serve the learning goal** (e.g., clarifying misconceptions, modeling SAT logic), or is it merely ornamental?  \n",
    "   - Does it **engage the learner** while maintaining rigor (e.g., making complex reasoning more accessible)?  \n",
    "\n",
    "## **Revised Rating Rubric**  \n",
    "- **5 (Excellent)**:  \n",
    "  - Creative structure (e.g., debate) **directly reinforces** why the correct answer is superior.  \n",
    "  - Uses the format to **explicitly contrast** the user’s error with textual evidence (e.g., “The strongest argument *for* the user’s answer is X, but the text contradicts this because Y”).  \n",
    "  - Balances creativity with precision and clarity.  \n",
    "\n",
    "- **4 (Good)**:  \n",
    "  - Creative approach is **mostly effective** but slightly misses opportunities to deepen understanding (e.g., lists arguments but doesn’t explicitly tie them to SAT skills).  \n",
    "  - Minor clarity issues in linking creativity to the text.  \n",
    "\n",
    "- **3 (Adequate)**:  \n",
    "  - Creativity **distracts** slightly from the core analysis (e.g., overemphasizes hypothetical arguments without grounding in the text).  \n",
    "  - Fails to fully leverage the creative structure to address the user’s error.  \n",
    "\n",
    "- **2 (Poor)**:  \n",
    "  - Creative format **obscures key points** (e.g., hypothetical arguments misrepresent the text).  \n",
    "  - Prioritizes style over substance; minimal educational value.  \n",
    "\n",
    "- **1 (Very Poor)**:  \n",
    "  - Creativity **undermines accuracy** (e.g., invents textual evidence to support arguments).  \n",
    "\n",
    "## Note\n",
    "This evaluation rubric is purposefully vague, so take that as an opportunity to be strict and make sure the AI is really being useful for users.\n",
    "Be harsh with your feedback, but make sure your feedback is grounded in reality.\n",
    "\n",
    "## Evaluation Steps\n",
    "STEP 1: Assess the response in aspects of instruction following, groundedness, conciseness, and verbosity according to the criteria.\n",
    "STEP 2: Score based on the rubric.\n",
    "\n",
    "# User Inputs and AI-generated Response\n",
    "## User Inputs\n",
    "\n",
    "### Prompt\n",
    "{prompt}\n",
    "\n",
    "## AI-generated Response\n",
    "{response}\n",
    "\"\"\"\n"
   ]
  },
  {
   "cell_type": "markdown",
   "id": "291cb88c",
   "metadata": {
    "papermill": {
     "duration": null,
     "end_time": null,
     "exception": null,
     "start_time": null,
     "status": "pending"
    },
    "tags": []
   },
   "source": [
    "Now for the bulk of the evaluation cycle:"
   ]
  },
  {
   "cell_type": "code",
   "execution_count": null,
   "id": "c96db1b1",
   "metadata": {
    "execution": {
     "iopub.execute_input": "2025-04-18T22:34:09.679792Z",
     "iopub.status.busy": "2025-04-18T22:34:09.679569Z",
     "iopub.status.idle": "2025-04-18T22:35:13.911902Z",
     "shell.execute_reply": "2025-04-18T22:35:13.910854Z",
     "shell.execute_reply.started": "2025-04-18T22:34:09.679774Z"
    },
    "papermill": {
     "duration": null,
     "end_time": null,
     "exception": null,
     "start_time": null,
     "status": "pending"
    },
    "tags": []
   },
   "outputs": [],
   "source": [
    "# TODO: maybe share context so the LLM can compare different outputs against its own rating to be more accurate perhaps?\n",
    "\n",
    "#NUM_ITERATIONS = 8\n",
    "NUM_ITERATIONS=1\n",
    "\n",
    "with open(\"/kaggle/working/totpromptlogs.txt\", \"a\") as logs:\n",
    "    \n",
    "    for prompt in prompts:\n",
    "        sum = 0\n",
    "        logs.write(f\"Prompt: {prompt}\\n\")\n",
    "    \n",
    "        for question in questions:\n",
    "            logs.write(f\"Question: {question}\\n\")\n",
    "            for i in range(NUM_ITERATIONS):\n",
    "                response = client.models.generate_content(\n",
    "                    model=\"gemini-2.0-flash-001\",\n",
    "                    contents=str(question),\n",
    "                    config=GenerateContentConfig(\n",
    "                        system_instruction=[prompt[\"prompt\"],],\n",
    "                        temperature=0.1,\n",
    "                        response_mime_type=\"application/json\",\n",
    "                        response_schema={\n",
    "  \"title\": \"SAT Analysis Response\",\n",
    "  \"description\": \"Response format for SAT mistake analysis using multiple thinking processes\",\n",
    "  \"type\": \"array\",\n",
    "  \"minItems\": 3,\n",
    "  \"maxItems\": 8,\n",
    "  \"items\": {\n",
    "    \"type\": \"object\",\n",
    "    \"properties\": {\n",
    "      \"thinking_process\": {\n",
    "        \"type\": \"string\",\n",
    "        \"description\": \"Step-by-step explanation of cognitive path leading to an answer choice\",\n",
    "        \"minLength\": 50,\n",
    "        \"maxLength\": 500\n",
    "      },\n",
    "      \"leads_to\": {\n",
    "        \"type\": \"string\",\n",
    "        \"enum\": [\"user\", \"correct\"],\n",
    "        \"description\": \"Indicates whether this thinking process leads to the student's answer or the correct answer\"\n",
    "      }\n",
    "    },\n",
    "    \"required\": [\"thinking_process\", \"leads_to\"],\n",
    "\n",
    "  }\n",
    "                        }\n",
    "                    ),\n",
    "                )\n",
    "\n",
    "                text_eval, struct_eval = eval_summary(prompt=prompt[\"prompt\"], ai_response=response)\n",
    "                print(f\"Iteration {i}: {struct_eval}\")\n",
    "                logs.write(f\"Iteration {i}: {response.text}\\n\\n {text_eval}\\n\")\n",
    "                sum += int(struct_eval.value)\n",
    "\n",
    "        prompt[\"avg_score\"] = sum / (len(questions) * NUM_ITERATIONS)\n",
    "        print(f\"Prompt:\\n{prompt['prompt']}\\nScore: {prompt['avg_score']}\\n\\n\")\n",
    "    \n",
    "        logs.write(\"\\n\\n\")"
   ]
  },
  {
   "cell_type": "markdown",
   "id": "9396e274",
   "metadata": {
    "papermill": {
     "duration": null,
     "end_time": null,
     "exception": null,
     "start_time": null,
     "status": "pending"
    },
    "tags": []
   },
   "source": [
    "## Future Direction\n",
    "- Multiple questions for improved context and understanding cognitive biases better may be necessary, although further research is needed.\n",
    "- Few shot training may 'anchor' the answers. Human Feedback in the application is necessary to improve it at this point.\n",
    "- It is likely that fine-tuning is necessary to improve the thought process printing. However, this initial test will serve as a good benchmark during usability testing for how we need to meet user expectations."
   ]
  },
  {
   "cell_type": "markdown",
   "id": "50d81089",
   "metadata": {
    "papermill": {
     "duration": null,
     "end_time": null,
     "exception": null,
     "start_time": null,
     "status": "pending"
    },
    "tags": []
   },
   "source": [
    "# Semantically Related Question Finder\n",
    "In order to find semantically related questions, we must embed the questions into a vector database and find them and rank them based on similarity. We can use the Hierarchical Navigatable Small World (HNSW) algorithm on aquarc's current pgvector enabled Postgres database.\n",
    "\n",
    "To ensure that this notebook is accessible with minimal setup, this question semantic searcher will first be created locally using ChromaDB to simulate real world question conditions and screenshots will be included of deployment using pgvector.\n",
    "\n",
    "First let's find a suitable encoder model."
   ]
  },
  {
   "cell_type": "code",
   "execution_count": null,
   "id": "f0b4bb44",
   "metadata": {
    "execution": {
     "iopub.execute_input": "2025-04-18T22:35:13.91287Z",
     "iopub.status.busy": "2025-04-18T22:35:13.91268Z",
     "iopub.status.idle": "2025-04-18T22:35:14.087553Z",
     "shell.execute_reply": "2025-04-18T22:35:14.086774Z",
     "shell.execute_reply.started": "2025-04-18T22:35:13.912853Z"
    },
    "papermill": {
     "duration": null,
     "end_time": null,
     "exception": null,
     "start_time": null,
     "status": "pending"
    },
    "tags": []
   },
   "outputs": [],
   "source": [
    "for m in client.models.list():\n",
    "    if \"embedContent\" in m.supported_actions:\n",
    "        print(m.name)"
   ]
  },
  {
   "cell_type": "markdown",
   "id": "12ac672e",
   "metadata": {
    "papermill": {
     "duration": null,
     "end_time": null,
     "exception": null,
     "start_time": null,
     "status": "pending"
    },
    "tags": []
   },
   "source": [
    "We will use `text-embedding-004` to encode the questions into vectors. \n",
    "\n",
    "Create the ChromaDB embedding function using Gemini:"
   ]
  },
  {
   "cell_type": "code",
   "execution_count": null,
   "id": "19127fe4",
   "metadata": {
    "execution": {
     "iopub.execute_input": "2025-04-18T22:35:14.088636Z",
     "iopub.status.busy": "2025-04-18T22:35:14.088347Z",
     "iopub.status.idle": "2025-04-18T22:35:14.487614Z",
     "shell.execute_reply": "2025-04-18T22:35:14.486935Z",
     "shell.execute_reply.started": "2025-04-18T22:35:14.088609Z"
    },
    "papermill": {
     "duration": null,
     "end_time": null,
     "exception": null,
     "start_time": null,
     "status": "pending"
    },
    "tags": []
   },
   "outputs": [],
   "source": [
    "from chromadb import Documents, EmbeddingFunction, Embeddings\n",
    "from google.api_core import retry\n",
    "\n",
    "from google.genai import types\n",
    "\n",
    "\n",
    "class GeminiEmbeddingFunction(EmbeddingFunction):\n",
    "    # Specify whether to generate embeddings for documents, or queries\n",
    "    document_mode = True\n",
    "\n",
    "    @retry.Retry(predicate=is_retriable)\n",
    "    def __call__(self, input: Documents) -> Embeddings:\n",
    "        if self.document_mode:\n",
    "            embedding_task = \"retrieval_document\"\n",
    "        else:\n",
    "            embedding_task = \"retrieval_query\"\n",
    "\n",
    "        response = client.models.embed_content(\n",
    "            model=\"models/text-embedding-004\",\n",
    "            contents=input,\n",
    "            config=types.EmbedContentConfig(\n",
    "                task_type=embedding_task,\n",
    "            ),\n",
    "        )\n",
    "        return [e.values for e in response.embeddings]"
   ]
  },
  {
   "cell_type": "markdown",
   "id": "c1f77dce",
   "metadata": {
    "papermill": {
     "duration": null,
     "end_time": null,
     "exception": null,
     "start_time": null,
     "status": "pending"
    },
    "tags": []
   },
   "source": [
    "## Sample Questions \n",
    "Let us organize some sample questions. We'll use the earlier questions, cleaned and sanitized to the ideal point and work backwards. Because the answer choices are likely to do nothing more than make the questions semantically differ, each question will only have the \"question\" and \"details\" (the context for the question) encoded. "
   ]
  },
  {
   "cell_type": "code",
   "execution_count": null,
   "id": "97c18832",
   "metadata": {
    "execution": {
     "iopub.execute_input": "2025-04-18T22:35:14.488447Z",
     "iopub.status.busy": "2025-04-18T22:35:14.488242Z",
     "iopub.status.idle": "2025-04-18T22:35:14.493182Z",
     "shell.execute_reply": "2025-04-18T22:35:14.492467Z",
     "shell.execute_reply.started": "2025-04-18T22:35:14.488429Z"
    },
    "papermill": {
     "duration": null,
     "end_time": null,
     "exception": null,
     "start_time": null,
     "status": "pending"
    },
    "tags": []
   },
   "outputs": [],
   "source": [
    "# All questions are (c) CollegeBoard 2025.\n",
    "questions = [\n",
    "    {\n",
    "        \"question\": \"\"\"\n",
    "In 1453, English King Henry VI became unfit to rule after falling gravely ill. As a result, Parliament appointed Richard, Third Duke of York, who had a strong claim to the English throne, to rule as Lord Protector. Upon recovering two years later, ______ forcing an angered Richard from the royal court and precipitating a series of battles later known as the Wars of the Roses. \\n\\\n",
    "Which choice completes the text so that it conforms to the conventions of Standard English?\n",
    "        \"\"\",\n",
    "        \"answer_choices\" : \"\"\"\n",
    "A. Henry resumed his reign,\n",
    "B. the reign of Henry resumed,\n",
    "C. Henry’s reign resumed,\n",
    "D. it was Henry who resumed his reign, \n",
    "            \"\"\",\n",
    "        # Notice that the default rationale provided for Choice C doesn't explain it well enough\n",
    "        \"rationale\": \"\"\"\n",
    "Choice A is the best answer. The convention being tested is subject-modifier placement. This choice ensures that the introductory phrase “upon recovering two years later” appears immediately before the noun it modifies (“Henry”), clearly establishing that Henry recovered two years later. \n",
    "Choice B is incorrect because it results in a dangling modifier. The placement of the noun phrase “the reign of Henry” immediately after the introductory phrase illogically suggests that the reign of Henry recovered two years later. \n",
    "Choice C is incorrect because it results in a dangling modifier. The placement of the noun phrase “Henry’s reign” immediately after the introductory phrase illogically suggests that Henry’s reign recovered two years later. \n",
    "Choice D is incorrect because it results in a dangling modifier. The placement of the function word “it” immediately after the introductory phrase illogically suggests that “it” recovered two years later. \n",
    "        \"\"\",\n",
    "        \"user_answer\": \"C\",\n",
    "        \"user_rationale\": \"Isn't the subject that Henry got unfit to rule?\",\n",
    "    },\n",
    "\n",
    "    {\n",
    "        \"question\": \"\"\"\n",
    "A study by a team including finance professor Madhu Veeraraghavan suggests that exposure to sunshine during the workday can lead to overly optimistic behavior. __Using data spanning from 1994 to 2010 for a set of US companies, the team compared over 29,000 annual earnings forecasts to the actual earnings later reported by those companies.__ The team found that the greater the exposure to sunshine at work in the two weeks before a manager submitted an earnings forecast, the more the manager’s forecast exceeded what the company actually earned that year.\n",
    "Which choice best states the function of the underlined sentence in the overall structure of the text? \n",
    "        \"\"\",\n",
    "        \"answer_choices\" : \"\"\"\n",
    "A. To summarize the results of the team’s analysis\n",
    "B. To present a specific example that illustrates the study’s findings\n",
    "C. To explain part of the methodology used in the team’s study\n",
    "D. To call out a challenge the team faced in conducting its analysis\n",
    "            \"\"\",\n",
    "        \"rationale\": \"\"\"\n",
    "Choice C is the best answer because it best describes how the underlined sentence functions in the text as a whole. The first sentence presents the implications of Veeraraghavan’s team’s study: sunshine exposure during work hours can cause overly optimistic behavior. The underlined sentence then describes the data the team consulted and how they were used (comparing predictions about earnings to what the companies actually earned), and the final sentence presents what the team found in their examination of the data. Thus, the underlined sentence mainly functions to explain part of the methodology used in the team’s study. \n",
    "Choice A is incorrect because the underlined sentence explains in part how the team conducted their analysis of the effect of sunshine but doesn’t address what the team found; a broad summary is instead given in the other two sentences. \n",
    "Choice B is incorrect because the underlined sentence doesn’t present any specific examples from the team’s comparisons of 29,000 earnings predictions to actual earnings; it simply explains in part how the team conducted their analysis. \n",
    "Choice D is incorrect because the underlined sentence simply explains in part how the team conducted their analysis; the text never mentions any challenges that the team encountered in their study. \n",
    "            \"\"\",\n",
    "        \"user_answer\": \"A\",\n",
    "        \"user_rationale\": \"Is it not explaining the part of the experiment which illustrates what happens?\"\n",
    "    },\n",
    "    {\n",
    "        \"question\" : \"\"\"\n",
    "In a paper about p-i-n planar perovskite solar cells (one of several perovskite cell architectures designed to collect and store solar power), Lyndsey McMillon-Brown et al. described a method for fabricating the cell’s electronic transport layer (ETL) using a spray coating. Conventional ETL fabrication is accomplished using a solution of nanoparticles. The process can result in a loss of up to 80% of the solution, increasing the cost of manufacturing at scale—an issue that may be obviated by spray coating fabrication, which the researchers describe as “highly reproducible, concise, and practical.”\n",
    "\n",
    "What does the text most strongly suggest about conventional ETL fabrication?\n",
    "        \"\"\",\n",
    "        \"answer_choices\" : \"\"\"\n",
    "A. It is less suitable for manufacturing large volumes of planar p-i-n perovskite solar cells than an alternative fabrication method may be.\n",
    "B. It is more expensive when manufacturing at scale than are processes for fabricating ETLs used in other perovskite solar cell architectures.\n",
    "C. It typically entails a greater loss of nanoparticle solution than do other established approaches for ETL fabrication.\n",
    "D. It is somewhat imprecise and therefore limits the potential effectiveness of p-i-n planar perovskite solar cells at capturing and storing solar power.\n",
    "\"\"\",\n",
    "        \"rationale\" : \"\"\"\n",
    "Choice A is the best answer. Conventional solar cell fabrication increases “the cost of manufacturing at scale,” but spray coating might get rid of that problem.\n",
    "\n",
    "Choice B is incorrect. This is not completely supported by the text. While it’s true that conventional ETL fabrication is expensive at scale, there’s nothing in the text that mentions other perovskite solar cell architectures. Choice C is incorrect. This choice does not match the text. Only one conventional method of ETL fabrication is described, so we can’t compare the solution loss in this method to that of other conventional methods. Choice D is incorrect. This choice isn’t supported by the text. The text never suggests that the effectiveness of solar cells changes based on their method of fabrication. \n",
    "\"\"\",\n",
    "        \"user_answer\" : \"C\",\n",
    "        \"user_rationale\": \"Isn't the new method of ETL fabrication the same as the 'established methods'\",\n",
    "    },\n",
    "]"
   ]
  },
  {
   "cell_type": "markdown",
   "id": "aff7f0de",
   "metadata": {
    "papermill": {
     "duration": null,
     "end_time": null,
     "exception": null,
     "start_time": null,
     "status": "pending"
    },
    "tags": []
   },
   "source": [
    "Each of these questions are somewhat unique: The first one focuses on English, the second on the results of a study, and the third on scientific cell activity. Semantically, these questions may be grouped and organized completely differently, so let's pick another scientific-ish question from Aquarc's question bank."
   ]
  },
  {
   "cell_type": "code",
   "execution_count": null,
   "id": "443c677f",
   "metadata": {
    "execution": {
     "iopub.execute_input": "2025-04-18T22:35:14.494026Z",
     "iopub.status.busy": "2025-04-18T22:35:14.493852Z",
     "iopub.status.idle": "2025-04-18T22:35:14.51085Z",
     "shell.execute_reply": "2025-04-18T22:35:14.509805Z",
     "shell.execute_reply.started": "2025-04-18T22:35:14.49401Z"
    },
    "papermill": {
     "duration": null,
     "end_time": null,
     "exception": null,
     "start_time": null,
     "status": "pending"
    },
    "tags": []
   },
   "outputs": [],
   "source": [
    "query_question = {\n",
    "    \"question\": \"\"\"\n",
    "Mosasaurs were large marine reptiles that lived in the Late Cretaceous period, approximately 100 million to 66 million years ago. Celina Suarez, Alberto Pérez-Huerta, and T. Lynn Harrell Jr. examined oxygen-18 isotopes in mosasaur tooth enamel in order to calculate likely mosasaur body temperatures and determined that mosasaurs were endothermic—that is, they used internal metabolic processes to maintain a stable body temperature in a variety of ambient temperatures. Suarez, Pérez-Huerta, and Harrell claim that endothermy would have enabled mosasaurs to include relatively cold polar waters in their range.\n",
    "\n",
    "Which finding, if true, would most directly support Suarez, Pérez-Huerta, and Harrell’s claim?\"\"\",\n",
    "    \"answer_choices\": \"\"\"\n",
    "A. Mosasaurs’ likely body temperatures are easier to determine from tooth enamel oxygen-18 isotope data than the body temperatures of nonendothermic Late Cretaceous marine reptiles are.\n",
    "B. Fossils of both mosasaurs and nonendothermic marine reptiles have been found in roughly equal numbers in regions known to be near the poles during the Late Cretaceous, though in lower concentrations than elsewhere.\n",
    "C. Several mosasaur fossils have been found in regions known to be near the poles during the Late Cretaceous, while relatively few fossils of nonendothermic marine reptiles have been found in those locations. \n",
    "D. During the Late Cretaceous, seawater temperatures were likely higher throughout mosasaurs’ range, including near the poles, than seawater temperatures at those same latitudes are today.     \n",
    "    \"\"\"\n",
    "}"
   ]
  },
  {
   "cell_type": "markdown",
   "id": "cffe67b9",
   "metadata": {
    "papermill": {
     "duration": null,
     "end_time": null,
     "exception": null,
     "start_time": null,
     "status": "pending"
    },
    "tags": []
   },
   "source": [
    "Semantically, this question should be closely related to the third. Does Gemini think the same way, too?"
   ]
  },
  {
   "cell_type": "code",
   "execution_count": null,
   "id": "9a017fcb",
   "metadata": {
    "execution": {
     "iopub.execute_input": "2025-04-18T22:35:14.512091Z",
     "iopub.status.busy": "2025-04-18T22:35:14.511805Z",
     "iopub.status.idle": "2025-04-18T22:35:15.076286Z",
     "shell.execute_reply": "2025-04-18T22:35:15.075549Z",
     "shell.execute_reply.started": "2025-04-18T22:35:14.512066Z"
    },
    "papermill": {
     "duration": null,
     "end_time": null,
     "exception": null,
     "start_time": null,
     "status": "pending"
    },
    "tags": []
   },
   "outputs": [],
   "source": [
    "import chromadb\n",
    "\n",
    "DB_NAME = \"questions\"\n",
    "\n",
    "embed_fn = GeminiEmbeddingFunction()\n",
    "embed_fn.document_mode = True\n",
    "\n",
    "chroma_client = chromadb.Client()\n",
    "#print(chroma_client.list_collections())\n",
    "db = chroma_client.get_or_create_collection(name=DB_NAME, embedding_function=embed_fn)\n",
    "db.add(documents=[question[\"question\"] for question in questions], ids=[str(id) for id in range(len(questions))])"
   ]
  },
  {
   "cell_type": "markdown",
   "id": "7e236353",
   "metadata": {
    "papermill": {
     "duration": null,
     "end_time": null,
     "exception": null,
     "start_time": null,
     "status": "pending"
    },
    "tags": []
   },
   "source": [
    "Is the database working?"
   ]
  },
  {
   "cell_type": "code",
   "execution_count": null,
   "id": "0b385c19",
   "metadata": {
    "execution": {
     "iopub.execute_input": "2025-04-18T22:35:15.076983Z",
     "iopub.status.busy": "2025-04-18T22:35:15.076824Z",
     "iopub.status.idle": "2025-04-18T22:35:15.088338Z",
     "shell.execute_reply": "2025-04-18T22:35:15.087494Z",
     "shell.execute_reply.started": "2025-04-18T22:35:15.076968Z"
    },
    "papermill": {
     "duration": null,
     "end_time": null,
     "exception": null,
     "start_time": null,
     "status": "pending"
    },
    "tags": []
   },
   "outputs": [],
   "source": [
    "db.count()\n",
    "db.peek(1)[\"embeddings\"][0][0:50]"
   ]
  },
  {
   "cell_type": "markdown",
   "id": "014210f8",
   "metadata": {
    "papermill": {
     "duration": null,
     "end_time": null,
     "exception": null,
     "start_time": null,
     "status": "pending"
    },
    "tags": []
   },
   "source": [
    "Now let's query the question:"
   ]
  },
  {
   "cell_type": "code",
   "execution_count": null,
   "id": "c459df1c",
   "metadata": {
    "execution": {
     "iopub.execute_input": "2025-04-18T22:35:15.089562Z",
     "iopub.status.busy": "2025-04-18T22:35:15.08925Z",
     "iopub.status.idle": "2025-04-18T22:35:15.395693Z",
     "shell.execute_reply": "2025-04-18T22:35:15.394964Z",
     "shell.execute_reply.started": "2025-04-18T22:35:15.08954Z"
    },
    "papermill": {
     "duration": null,
     "end_time": null,
     "exception": null,
     "start_time": null,
     "status": "pending"
    },
    "tags": []
   },
   "outputs": [],
   "source": [
    "# Switch to query mode when generating embeddings.\n",
    "embed_fn.document_mode = False\n",
    "\n",
    "# Search the Chroma DB using the specified query.\n",
    "query = \"What is the weighting of Information and Ideas?\"\n",
    "\n",
    "result = db.query(query_texts=[query_question[\"question\"]], n_results=1)\n",
    "[all_passages] = result[\"documents\"]\n",
    "\n",
    "\n",
    "Markdown(all_passages[0])"
   ]
  },
  {
   "cell_type": "markdown",
   "id": "8b0d734a",
   "metadata": {
    "papermill": {
     "duration": null,
     "end_time": null,
     "exception": null,
     "start_time": null,
     "status": "pending"
    },
    "tags": []
   },
   "source": [
    "ChromaDB favored the question \"A study by a team including finance professor Madhu Veeraraghavan...\" likely because it holds quantitative data. \n",
    "\n",
    "As we get user feedback, we can refine and finetune this process to include questions that will be the most beneficial for the user.\n",
    "\n",
    "## Plot the Questions\n",
    "Let's start by truncating the column values:"
   ]
  },
  {
   "cell_type": "code",
   "execution_count": null,
   "id": "301e2fd8",
   "metadata": {
    "execution": {
     "iopub.execute_input": "2025-04-18T22:35:15.396376Z",
     "iopub.status.busy": "2025-04-18T22:35:15.396208Z",
     "iopub.status.idle": "2025-04-18T22:35:15.400905Z",
     "shell.execute_reply": "2025-04-18T22:35:15.400197Z",
     "shell.execute_reply.started": "2025-04-18T22:35:15.39636Z"
    },
    "papermill": {
     "duration": null,
     "end_time": null,
     "exception": null,
     "start_time": null,
     "status": "pending"
    },
    "tags": []
   },
   "outputs": [],
   "source": [
    "def truncate(t: str, limit: int = 50) -> str:\n",
    "  \"\"\"Truncate labels to fit on the chart.\"\"\"\n",
    "  if len(t) > limit:\n",
    "    return t[:limit-3] + '...'\n",
    "  else:\n",
    "    return t\n",
    "\n",
    "texts = [t[\"question\"] for t in questions]\n",
    "truncated_texts = [truncate(t) for t in texts]"
   ]
  },
  {
   "cell_type": "markdown",
   "id": "5e66cf90",
   "metadata": {
    "papermill": {
     "duration": null,
     "end_time": null,
     "exception": null,
     "start_time": null,
     "status": "pending"
    },
    "tags": []
   },
   "source": [
    "Generate embeddings for semantic similarity and cross check them:"
   ]
  },
  {
   "cell_type": "code",
   "execution_count": null,
   "id": "e58bcf1f",
   "metadata": {
    "execution": {
     "iopub.execute_input": "2025-04-18T22:35:15.401956Z",
     "iopub.status.busy": "2025-04-18T22:35:15.401787Z",
     "iopub.status.idle": "2025-04-18T22:35:16.617247Z",
     "shell.execute_reply": "2025-04-18T22:35:16.616281Z",
     "shell.execute_reply.started": "2025-04-18T22:35:15.401942Z"
    },
    "papermill": {
     "duration": null,
     "end_time": null,
     "exception": null,
     "start_time": null,
     "status": "pending"
    },
    "tags": []
   },
   "outputs": [],
   "source": [
    "import pandas as pd\n",
    "import seaborn as sns\n",
    "\n",
    "response = client.models.embed_content(\n",
    "    model='models/text-embedding-004',\n",
    "    contents=texts,\n",
    "    config=types.EmbedContentConfig(task_type='semantic_similarity'))\n",
    "\n",
    "\n",
    "\n",
    "# Set up the embeddings in a dataframe.\n",
    "df = pd.DataFrame([e.values for e in response.embeddings], index=truncated_texts)\n",
    "# Matmul the df with rows and columns swapped to dot product each item\n",
    "sim = df @ df.T\n",
    "# Draw!\n",
    "sns.heatmap(sim, vmin=0, vmax=1, cmap=\"Greens\");"
   ]
  },
  {
   "cell_type": "markdown",
   "id": "e2dfa3ac",
   "metadata": {
    "papermill": {
     "duration": null,
     "end_time": null,
     "exception": null,
     "start_time": null,
     "status": "pending"
    },
    "tags": []
   },
   "source": [
    "## Rich Questions\n",
    "In this case, some sanitization may be required to find similar questions. Let's use all \"Inferences\" question from Aquarc on hard difficulty:"
   ]
  },
  {
   "cell_type": "code",
   "execution_count": null,
   "id": "a5e1c49a",
   "metadata": {
    "execution": {
     "iopub.execute_input": "2025-04-18T22:35:16.618263Z",
     "iopub.status.busy": "2025-04-18T22:35:16.618001Z",
     "iopub.status.idle": "2025-04-18T22:35:17.728814Z",
     "shell.execute_reply": "2025-04-18T22:35:17.727848Z",
     "shell.execute_reply.started": "2025-04-18T22:35:16.618241Z"
    },
    "papermill": {
     "duration": null,
     "end_time": null,
     "exception": null,
     "start_time": null,
     "status": "pending"
    },
    "tags": []
   },
   "outputs": [],
   "source": [
    "import requests\n",
    "\n",
    "payload = {\n",
    "    \"test\": \"SAT\",\n",
    "    \"difficulty\": [\"Hard\"],\n",
    "    \"subdomain\": [\"Inferences\"]\n",
    "}\n",
    "rich_questions = None\n",
    "\n",
    "try:\n",
    "    response = requests.post(\n",
    "        \"https://aquarc.org/sat/find-questions-v2\",\n",
    "        json=payload\n",
    "    )\n",
    "    response.raise_for_status()  # Raise exception for 4xx/5xx errors\n",
    "    rich_questions = response.json()\n",
    "    print(rich_questions[0])\n",
    "    \n",
    "except requests.exceptions.RequestException as e:\n",
    "    print(f\"Request failed: {e}\")"
   ]
  },
  {
   "cell_type": "markdown",
   "id": "820eb256",
   "metadata": {
    "papermill": {
     "duration": null,
     "end_time": null,
     "exception": null,
     "start_time": null,
     "status": "pending"
    },
    "tags": []
   },
   "source": [
    "To \"cleanse\" the questions into Markdown:"
   ]
  },
  {
   "cell_type": "code",
   "execution_count": null,
   "id": "68b05862",
   "metadata": {
    "execution": {
     "iopub.execute_input": "2025-04-18T22:35:17.729935Z",
     "iopub.status.busy": "2025-04-18T22:35:17.729686Z",
     "iopub.status.idle": "2025-04-18T22:35:17.753221Z",
     "shell.execute_reply": "2025-04-18T22:35:17.752263Z",
     "shell.execute_reply.started": "2025-04-18T22:35:17.729911Z"
    },
    "papermill": {
     "duration": null,
     "end_time": null,
     "exception": null,
     "start_time": null,
     "status": "pending"
    },
    "tags": []
   },
   "outputs": [],
   "source": [
    "import json\n",
    "\n",
    "for question in rich_questions:\n",
    "    question[\"details\"] = sanitize(question[\"details\"])\n",
    "    question[\"question\"] = sanitize(question[\"question\"])\n",
    "\n",
    "Markdown(rich_questions[0][\"details\"])"
   ]
  },
  {
   "cell_type": "markdown",
   "id": "f7d13edd",
   "metadata": {
    "papermill": {
     "duration": null,
     "end_time": null,
     "exception": null,
     "start_time": null,
     "status": "pending"
    },
    "tags": []
   },
   "source": [
    "Let's create a new database and add the questions:"
   ]
  },
  {
   "cell_type": "code",
   "execution_count": null,
   "id": "1064caf3",
   "metadata": {
    "execution": {
     "iopub.execute_input": "2025-04-18T22:35:17.754538Z",
     "iopub.status.busy": "2025-04-18T22:35:17.7542Z",
     "iopub.status.idle": "2025-04-18T22:35:18.714725Z",
     "shell.execute_reply": "2025-04-18T22:35:18.713941Z",
     "shell.execute_reply.started": "2025-04-18T22:35:17.754507Z"
    },
    "papermill": {
     "duration": null,
     "end_time": null,
     "exception": null,
     "start_time": null,
     "status": "pending"
    },
    "tags": []
   },
   "outputs": [],
   "source": [
    "DB_NAME = \"rich_questions\"\n",
    "\n",
    "db = chroma_client.get_or_create_collection(name=DB_NAME, embedding_function=embed_fn)\n",
    "\n",
    "# the passage is best used for semantic analysis\n",
    "db.add(documents=[question[\"details\"]\n",
    "                  for question in rich_questions], \n",
    "       ids=[question[\"questionId\"] for question in rich_questions])"
   ]
  },
  {
   "cell_type": "markdown",
   "id": "9ae7650d",
   "metadata": {
    "papermill": {
     "duration": null,
     "end_time": null,
     "exception": null,
     "start_time": null,
     "status": "pending"
    },
    "tags": []
   },
   "source": [
    "Let's query the database with the \"'How lifelike are they?'\" passage to find semantic similarity. \n",
    "\n",
    "Define a simple function for printing:"
   ]
  },
  {
   "cell_type": "code",
   "execution_count": null,
   "id": "77adb57b",
   "metadata": {
    "execution": {
     "iopub.execute_input": "2025-04-18T22:35:18.715655Z",
     "iopub.status.busy": "2025-04-18T22:35:18.715475Z",
     "iopub.status.idle": "2025-04-18T22:35:18.719524Z",
     "shell.execute_reply": "2025-04-18T22:35:18.718705Z",
     "shell.execute_reply.started": "2025-04-18T22:35:18.715638Z"
    },
    "papermill": {
     "duration": null,
     "end_time": null,
     "exception": null,
     "start_time": null,
     "status": "pending"
    },
    "tags": []
   },
   "outputs": [],
   "source": [
    "def output_query(query):\n",
    "    result = db.query(query_texts=[query], n_results=5)\n",
    "\n",
    "    [all_passages] = result[\"documents\"]\n",
    "\n",
    "    print(f\"{query}\\n====================================\\n\")\n",
    "    for passage in all_passages:\n",
    "        print(passage + \"\\n\\n\")"
   ]
  },
  {
   "cell_type": "markdown",
   "id": "3ab4f80c",
   "metadata": {
    "papermill": {
     "duration": null,
     "end_time": null,
     "exception": null,
     "start_time": null,
     "status": "pending"
    },
    "tags": []
   },
   "source": [
    "The question unsanitized still shows semantically relevant questions:"
   ]
  },
  {
   "cell_type": "code",
   "execution_count": null,
   "id": "4a0945c1",
   "metadata": {
    "execution": {
     "iopub.execute_input": "2025-04-18T22:35:18.720678Z",
     "iopub.status.busy": "2025-04-18T22:35:18.720387Z",
     "iopub.status.idle": "2025-04-18T22:35:19.031818Z",
     "shell.execute_reply": "2025-04-18T22:35:19.031024Z",
     "shell.execute_reply.started": "2025-04-18T22:35:18.720635Z"
    },
    "papermill": {
     "duration": null,
     "end_time": null,
     "exception": null,
     "start_time": null,
     "status": "pending"
    },
    "tags": []
   },
   "outputs": [],
   "source": [
    "query = \"\"\"\n",
    "<p><span role=\"region\" aria-label=\"Referenced Content\"><u>&ldquo;How lifelike are they?&rdquo;</u></span> Many computer animators prioritize this question as they strive to create ever more realistic environments and lighting. Generally, while characters in computer-animated films appear highly exaggerated, environments and lighting are carefully engineered to mimic reality. But some animators, such as Pixar&rsquo;s Sanjay Patel, are focused on a different question. Rather than asking first whether the environments and lighting they&rsquo;re creating are convincingly lifelike, Patel and others are asking whether these elements reflect their films&rsquo; unique stories.</p>\n",
    "\n",
    "<p>Which choice best describes the function of the underlined question in the text as a whole?</p>\n",
    "\n",
    "A. <p>It reflects a primary goal that many computer animators have for certain components of the animations they produce.</p>\n",
    "B. <p>It represents a concern of computer animators who are more interested in creating unique backgrounds and lighting effects than realistic ones.</p>\n",
    "C. <p>It conveys the uncertainty among many computer animators about how to create realistic animations using current technology.</p>\n",
    "D. <p>It illustrates a reaction that audiences typically have to the appearance of characters created by computer animators.</p>\n",
    "    \"\"\"\n",
    "output_query(query)"
   ]
  },
  {
   "cell_type": "markdown",
   "id": "307b9088",
   "metadata": {
    "papermill": {
     "duration": null,
     "end_time": null,
     "exception": null,
     "start_time": null,
     "status": "pending"
    },
    "tags": []
   },
   "source": [
    "This semantic similarity holds mostly strong even if other details are included in the question, because that doesn't affect semantic meaning."
   ]
  },
  {
   "cell_type": "code",
   "execution_count": null,
   "id": "56e134cd",
   "metadata": {
    "execution": {
     "iopub.execute_input": "2025-04-18T22:35:19.032591Z",
     "iopub.status.busy": "2025-04-18T22:35:19.032383Z",
     "iopub.status.idle": "2025-04-18T22:35:19.329109Z",
     "shell.execute_reply": "2025-04-18T22:35:19.32832Z",
     "shell.execute_reply.started": "2025-04-18T22:35:19.032573Z"
    },
    "papermill": {
     "duration": null,
     "end_time": null,
     "exception": null,
     "start_time": null,
     "status": "pending"
    },
    "tags": []
   },
   "outputs": [],
   "source": [
    "query = rich_question[\"question\"]\n",
    "output_query(query)"
   ]
  },
  {
   "cell_type": "markdown",
   "id": "14181762",
   "metadata": {
    "papermill": {
     "duration": null,
     "end_time": null,
     "exception": null,
     "start_time": null,
     "status": "pending"
    },
    "tags": []
   },
   "source": [
    "Completely sanitized, it has almost the same output (on my device only the order of the 4th and 5th most relevant are swapped!)"
   ]
  },
  {
   "cell_type": "code",
   "execution_count": null,
   "id": "5511f154",
   "metadata": {
    "execution": {
     "iopub.execute_input": "2025-04-18T22:35:19.330329Z",
     "iopub.status.busy": "2025-04-18T22:35:19.32999Z",
     "iopub.status.idle": "2025-04-18T22:35:19.628456Z",
     "shell.execute_reply": "2025-04-18T22:35:19.627745Z",
     "shell.execute_reply.started": "2025-04-18T22:35:19.330297Z"
    },
    "papermill": {
     "duration": null,
     "end_time": null,
     "exception": null,
     "start_time": null,
     "status": "pending"
    },
    "tags": []
   },
   "outputs": [],
   "source": [
    "#passage stolen from earlier question\n",
    "query = sanitize(\"\"\"<p><span role=\"region\" aria-label=\"Referenced Content\"><u>&ldquo;How lifelike are they?&rdquo;</u></span> Many computer animators prioritize this question as they strive to create ever more realistic environments and lighting. Generally, while characters in computer-animated films appear highly exaggerated, environments and lighting are carefully engineered to mimic reality. But some animators, such as Pixar&rsquo;s Sanjay Patel, are focused on a different question. Rather than asking first whether the environments and lighting they&rsquo;re creating are convincingly lifelike, Patel and others are asking whether these elements reflect their films&rsquo; unique stories.</p>\"\"\")\n",
    "output_query(query)"
   ]
  },
  {
   "cell_type": "markdown",
   "id": "1d51b413",
   "metadata": {
    "papermill": {
     "duration": null,
     "end_time": null,
     "exception": null,
     "start_time": null,
     "status": "pending"
    },
    "tags": []
   },
   "source": [
    "Let's try a completely different question:"
   ]
  },
  {
   "cell_type": "code",
   "execution_count": null,
   "id": "3d038a08",
   "metadata": {
    "execution": {
     "iopub.execute_input": "2025-04-18T22:35:19.632703Z",
     "iopub.status.busy": "2025-04-18T22:35:19.632443Z",
     "iopub.status.idle": "2025-04-18T22:35:20.166551Z",
     "shell.execute_reply": "2025-04-18T22:35:20.165602Z",
     "shell.execute_reply.started": "2025-04-18T22:35:19.63268Z"
    },
    "papermill": {
     "duration": null,
     "end_time": null,
     "exception": null,
     "start_time": null,
     "status": "pending"
    },
    "tags": []
   },
   "outputs": [],
   "source": [
    "# This question is (c) CollegeBoard 2025\n",
    "query = \"\"\"\n",
    "<figure class=\"image\">\n",
    "   <svg aria-label=\"Bar graph titled Municipalities’ Responses to Inquiries about Potential Incentives for Firm. The horizontal axis has no label. 3 data categories are shown. The vertical axis is labeled Number of municipalities. It ranges from 0 to 1,300 in increments of 100. Refer to long description.\" height=\"578.7376708984375\" role=\"img\" viewbox=\"0 0 400 578.7376708984375\" width=\"400\" xmlns=\"http://www.w3.org/2000/svg\">\n",
    "      <g data-name=\"Layer 1\" id=\"ed420550-79eb-48d4-af01-cd27cdd08afd\">\n",
    "         <defs>\n",
    "            +\n",
    "            <pattern height=\"100\" id=\"bar4\" patterntransform=\"rotate(50)\" patternunits=\"userSpaceOnUse\" width=\"10\" x=\"0\" y=\"0\">\n",
    "               +\n",
    "               <rect fill=\"#CDCDCD\" height=\"100\" width=\"5\" x=\"0\" y=\"0\"></rect>\n",
    "               +\n",
    "               <rect fill=\"#444444\" height=\"100\" width=\"5\" x=\"5\" y=\"0\"></rect>\n",
    "               +\n",
    "            </pattern>\n",
    "            +\n",
    "         </defs>\n",
    "         <line fill=\"none\" stroke=\"#000000\" stroke-linecap=\"round\" stroke-linejoin=\"round\" stroke-width=\"0.9\" x1=\"99.75999450683594\" x2=\"385\" xmlns=\"http://www.w3.org/2000/svg\" y1=\"72\" y2=\"72\"></line>\n",
    "         <line fill=\"none\" stroke=\"#000000\" stroke-linecap=\"round\" stroke-linejoin=\"round\" stroke-width=\"0.9\" x1=\"93.75999450683594\" x2=\"105.75999450683594\" xmlns=\"http://www.w3.org/2000/svg\" y1=\"72\" y2=\"72\"></line>\n",
    "         <text fill=\"#000000\" font-family=\"Crimson Text\" font-size=\"19.84\" text-anchor=\"end\" transform=\"translate(87.75999450683594 78)\">1,300</text>\n",
    "         <line fill=\"none\" stroke=\"#000000\" stroke-linecap=\"round\" stroke-linejoin=\"round\" stroke-width=\"0.9\" x1=\"99.75999450683594\" x2=\"385\" xmlns=\"http://www.w3.org/2000/svg\" y1=\"91.23076923076923\" y2=\"91.23076923076923\"></line>\n",
    "         <line fill=\"none\" stroke=\"#000000\" stroke-linecap=\"round\" stroke-linejoin=\"round\" stroke-width=\"0.9\" x1=\"93.75999450683594\" x2=\"105.75999450683594\" xmlns=\"http://www.w3.org/2000/svg\" y1=\"91.23076923076923\" y2=\"91.23076923076923\"></line>\n",
    "         <text fill=\"#000000\" font-family=\"Crimson Text\" font-size=\"19.84\" text-anchor=\"end\" transform=\"translate(87.75999450683594 97.23076923076923)\">1,200</text>\n",
    "         <line fill=\"none\" stroke=\"#000000\" stroke-linecap=\"round\" stroke-linejoin=\"round\" stroke-width=\"0.9\" x1=\"99.75999450683594\" x2=\"385\" xmlns=\"http://www.w3.org/2000/svg\" y1=\"110.46153846153845\" y2=\"110.46153846153845\"></line>\n",
    "         <line fill=\"none\" stroke=\"#000000\" stroke-linecap=\"round\" stroke-linejoin=\"round\" stroke-width=\"0.9\" x1=\"93.75999450683594\" x2=\"105.75999450683594\" xmlns=\"http://www.w3.org/2000/svg\" y1=\"110.46153846153845\" y2=\"110.46153846153845\"></line>\n",
    "         <text fill=\"#000000\" font-family=\"Crimson Text\" font-size=\"19.84\" text-anchor=\"end\" transform=\"translate(87.75999450683594 116.46153846153845)\">1,100</text>\n",
    "         <line fill=\"none\" stroke=\"#000000\" stroke-linecap=\"round\" stroke-linejoin=\"round\" stroke-width=\"0.9\" x1=\"99.75999450683594\" x2=\"385\" xmlns=\"http://www.w3.org/2000/svg\" y1=\"129.69230769230768\" y2=\"129.69230769230768\"></line>\n",
    "         <line fill=\"none\" stroke=\"#000000\" stroke-linecap=\"round\" stroke-linejoin=\"round\" stroke-width=\"0.9\" x1=\"93.75999450683594\" x2=\"105.75999450683594\" xmlns=\"http://www.w3.org/2000/svg\" y1=\"129.69230769230768\" y2=\"129.69230769230768\"></line>\n",
    "         <text fill=\"#000000\" font-family=\"Crimson Text\" font-size=\"19.84\" text-anchor=\"end\" transform=\"translate(87.75999450683594 135.69230769230768)\">1,000</text>\n",
    "         <line fill=\"none\" stroke=\"#000000\" stroke-linecap=\"round\" stroke-linejoin=\"round\" stroke-width=\"0.9\" x1=\"99.75999450683594\" x2=\"385\" xmlns=\"http://www.w3.org/2000/svg\" y1=\"148.9230769230769\" y2=\"148.9230769230769\"></line>\n",
    "         <line fill=\"none\" stroke=\"#000000\" stroke-linecap=\"round\" stroke-linejoin=\"round\" stroke-width=\"0.9\" x1=\"93.75999450683594\" x2=\"105.75999450683594\" xmlns=\"http://www.w3.org/2000/svg\" y1=\"148.9230769230769\" y2=\"148.9230769230769\"></line>\n",
    "         <text fill=\"#000000\" font-family=\"Crimson Text\" font-size=\"19.84\" text-anchor=\"end\" transform=\"translate(87.75999450683594 154.9230769230769)\">900</text>\n",
    "         <line fill=\"none\" stroke=\"#000000\" stroke-linecap=\"round\" stroke-linejoin=\"round\" stroke-width=\"0.9\" x1=\"99.75999450683594\" x2=\"385\" xmlns=\"http://www.w3.org/2000/svg\" y1=\"168.15384615384613\" y2=\"168.15384615384613\"></line>\n",
    "         <line fill=\"none\" stroke=\"#000000\" stroke-linecap=\"round\" stroke-linejoin=\"round\" stroke-width=\"0.9\" x1=\"93.75999450683594\" x2=\"105.75999450683594\" xmlns=\"http://www.w3.org/2000/svg\" y1=\"168.15384615384613\" y2=\"168.15384615384613\"></line>\n",
    "         <text fill=\"#000000\" font-family=\"Crimson Text\" font-size=\"19.84\" text-anchor=\"end\" transform=\"translate(87.75999450683594 174.15384615384613)\">800</text>\n",
    "         <line fill=\"none\" stroke=\"#000000\" stroke-linecap=\"round\" stroke-linejoin=\"round\" stroke-width=\"0.9\" x1=\"99.75999450683594\" x2=\"385\" xmlns=\"http://www.w3.org/2000/svg\" y1=\"187.3846153846154\" y2=\"187.3846153846154\"></line>\n",
    "         <line fill=\"none\" stroke=\"#000000\" stroke-linecap=\"round\" stroke-linejoin=\"round\" stroke-width=\"0.9\" x1=\"93.75999450683594\" x2=\"105.75999450683594\" xmlns=\"http://www.w3.org/2000/svg\" y1=\"187.3846153846154\" y2=\"187.3846153846154\"></line>\n",
    "         <text fill=\"#000000\" font-family=\"Crimson Text\" font-size=\"19.84\" text-anchor=\"end\" transform=\"translate(87.75999450683594 193.3846153846154)\">700</text>\n",
    "         <line fill=\"none\" stroke=\"#000000\" stroke-linecap=\"round\" stroke-linejoin=\"round\" stroke-width=\"0.9\" x1=\"99.75999450683594\" x2=\"385\" xmlns=\"http://www.w3.org/2000/svg\" y1=\"206.6153846153846\" y2=\"206.6153846153846\"></line>\n",
    "         <line fill=\"none\" stroke=\"#000000\" stroke-linecap=\"round\" stroke-linejoin=\"round\" stroke-width=\"0.9\" x1=\"93.75999450683594\" x2=\"105.75999450683594\" xmlns=\"http://www.w3.org/2000/svg\" y1=\"206.6153846153846\" y2=\"206.6153846153846\"></line>\n",
    "         <text fill=\"#000000\" font-family=\"Crimson Text\" font-size=\"19.84\" text-anchor=\"end\" transform=\"translate(87.75999450683594 212.6153846153846)\">600</text>\n",
    "         <line fill=\"none\" stroke=\"#000000\" stroke-linecap=\"round\" stroke-linejoin=\"round\" stroke-width=\"0.9\" x1=\"99.75999450683594\" x2=\"385\" xmlns=\"http://www.w3.org/2000/svg\" y1=\"225.84615384615384\" y2=\"225.84615384615384\"></line>\n",
    "         <line fill=\"none\" stroke=\"#000000\" stroke-linecap=\"round\" stroke-linejoin=\"round\" stroke-width=\"0.9\" x1=\"93.75999450683594\" x2=\"105.75999450683594\" xmlns=\"http://www.w3.org/2000/svg\" y1=\"225.84615384615384\" y2=\"225.84615384615384\"></line>\n",
    "         <text fill=\"#000000\" font-family=\"Crimson Text\" font-size=\"19.84\" text-anchor=\"end\" transform=\"translate(87.75999450683594 231.84615384615384)\">500</text>\n",
    "         <line fill=\"none\" stroke=\"#000000\" stroke-linecap=\"round\" stroke-linejoin=\"round\" stroke-width=\"0.9\" x1=\"99.75999450683594\" x2=\"385\" xmlns=\"http://www.w3.org/2000/svg\" y1=\"245.07692307692307\" y2=\"245.07692307692307\"></line>\n",
    "         <line fill=\"none\" stroke=\"#000000\" stroke-linecap=\"round\" stroke-linejoin=\"round\" stroke-width=\"0.9\" x1=\"93.75999450683594\" x2=\"105.75999450683594\" xmlns=\"http://www.w3.org/2000/svg\" y1=\"245.07692307692307\" y2=\"245.07692307692307\"></line>\n",
    "         <text fill=\"#000000\" font-family=\"Crimson Text\" font-size=\"19.84\" text-anchor=\"end\" transform=\"translate(87.75999450683594 251.07692307692307)\">400</text>\n",
    "         <line fill=\"none\" stroke=\"#000000\" stroke-linecap=\"round\" stroke-linejoin=\"round\" stroke-width=\"0.9\" x1=\"99.75999450683594\" x2=\"385\" xmlns=\"http://www.w3.org/2000/svg\" y1=\"264.30769230769226\" y2=\"264.30769230769226\"></line>\n",
    "         <line fill=\"none\" stroke=\"#000000\" stroke-linecap=\"round\" stroke-linejoin=\"round\" stroke-width=\"0.9\" x1=\"93.75999450683594\" x2=\"105.75999450683594\" xmlns=\"http://www.w3.org/2000/svg\" y1=\"264.30769230769226\" y2=\"264.30769230769226\"></line>\n",
    "         <text fill=\"#000000\" font-family=\"Crimson Text\" font-size=\"19.84\" text-anchor=\"end\" transform=\"translate(87.75999450683594 270.30769230769226)\">300</text>\n",
    "         <line fill=\"none\" stroke=\"#000000\" stroke-linecap=\"round\" stroke-linejoin=\"round\" stroke-width=\"0.9\" x1=\"99.75999450683594\" x2=\"385\" xmlns=\"http://www.w3.org/2000/svg\" y1=\"283.53846153846155\" y2=\"283.53846153846155\"></line>\n",
    "         <line fill=\"none\" stroke=\"#000000\" stroke-linecap=\"round\" stroke-linejoin=\"round\" stroke-width=\"0.9\" x1=\"93.75999450683594\" x2=\"105.75999450683594\" xmlns=\"http://www.w3.org/2000/svg\" y1=\"283.53846153846155\" y2=\"283.53846153846155\"></line>\n",
    "         <text fill=\"#000000\" font-family=\"Crimson Text\" font-size=\"19.84\" text-anchor=\"end\" transform=\"translate(87.75999450683594 289.53846153846155)\">200</text>\n",
    "         <line fill=\"none\" stroke=\"#000000\" stroke-linecap=\"round\" stroke-linejoin=\"round\" stroke-width=\"0.9\" x1=\"99.75999450683594\" x2=\"385\" xmlns=\"http://www.w3.org/2000/svg\" y1=\"302.7692307692308\" y2=\"302.7692307692308\"></line>\n",
    "         <line fill=\"none\" stroke=\"#000000\" stroke-linecap=\"round\" stroke-linejoin=\"round\" stroke-width=\"0.9\" x1=\"93.75999450683594\" x2=\"105.75999450683594\" xmlns=\"http://www.w3.org/2000/svg\" y1=\"302.7692307692308\" y2=\"302.7692307692308\"></line>\n",
    "         <text fill=\"#000000\" font-family=\"Crimson Text\" font-size=\"19.84\" text-anchor=\"end\" transform=\"translate(87.75999450683594 308.7692307692308)\">100</text>\n",
    "         <line fill=\"none\" stroke=\"#000000\" stroke-linecap=\"round\" stroke-linejoin=\"round\" stroke-width=\"0.9\" x1=\"99.75999450683594\" x2=\"385\" xmlns=\"http://www.w3.org/2000/svg\" y1=\"322\" y2=\"322\"></line>\n",
    "         <line fill=\"none\" stroke=\"#000000\" stroke-linecap=\"round\" stroke-linejoin=\"round\" stroke-width=\"0.9\" x1=\"93.75999450683594\" x2=\"105.75999450683594\" xmlns=\"http://www.w3.org/2000/svg\" y1=\"322\" y2=\"322\"></line>\n",
    "         <text fill=\"#000000\" font-family=\"Crimson Text\" font-size=\"19.84\" text-anchor=\"end\" transform=\"translate(87.75999450683594 328)\">0</text>\n",
    "         <text fill=\"#000000\" font-family=\"Crimson Text\" font-size=\"19.84\" text-anchor=\"middle\" transform=\"translate(24 197) rotate(-90)\">Number of municipalities</text>\n",
    "         <line fill=\"none\" stroke=\"#000000\" stroke-linecap=\"round\" stroke-linejoin=\"round\" stroke-width=\"0.9\" x1=\"99.75999450683594\" x2=\"99.75999450683594\" xmlns=\"http://www.w3.org/2000/svg\" y1=\"72\" y2=\"322\"></line>\n",
    "         <rect fill=\"#B3B3B3\" height=\"240.76923076923077\" stroke=\"#000000\" stroke-linecap=\"round\" stroke-linejoin=\"mitre\" stroke-width=\"0.9\" width=\"28.524000549316405\" x=\"128.28399505615235\" xmlns=\"http://www.w3.org/2000/svg\" y=\"81.23076923076923\"></rect>\n",
    "         <rect fill=\"#333333\" height=\"240\" stroke=\"#000000\" stroke-linecap=\"round\" stroke-linejoin=\"mitre\" stroke-width=\"0.9\" width=\"28.524000549316405\" x=\"156.80799560546876\" xmlns=\"http://www.w3.org/2000/svg\" y=\"82\"></rect>\n",
    "         <text fill=\"#000000\" font-family=\"Crimson Text\" font-size=\"19.84\" text-anchor=\"end\" transform=\"translate(166.72799560546875 341.84) rotate(-40)\" x=\"0\" xmlns=\"http://www.w3.org/2000/svg\" y=\"0\">no response</text>\n",
    "         <rect fill=\"#B3B3B3\" height=\"39.80769230769231\" stroke=\"#000000\" stroke-linecap=\"round\" stroke-linejoin=\"mitre\" stroke-width=\"0.9\" width=\"28.524000549316405\" x=\"213.85599670410159\" xmlns=\"http://www.w3.org/2000/svg\" y=\"282.1923076923077\"></rect>\n",
    "         <rect fill=\"#333333\" height=\"39.42307692307692\" stroke=\"#000000\" stroke-linecap=\"round\" stroke-linejoin=\"mitre\" stroke-width=\"0.9\" width=\"28.524000549316405\" x=\"242.379997253418\" xmlns=\"http://www.w3.org/2000/svg\" y=\"282.5769230769231\"></rect>\n",
    "         <text fill=\"#000000\" font-family=\"Crimson Text\" font-size=\"19.84\" text-anchor=\"end\" transform=\"translate(252.29999725341798 341.84) rotate(-40)\" x=\"0\" xmlns=\"http://www.w3.org/2000/svg\" y=\"0\">responded to inquiry</text>\n",
    "         <rect fill=\"#B3B3B3\" height=\"24.23076923076923\" stroke=\"#000000\" stroke-linecap=\"round\" stroke-linejoin=\"mitre\" stroke-width=\"0.9\" width=\"28.524000549316405\" x=\"299.4279983520508\" xmlns=\"http://www.w3.org/2000/svg\" y=\"297.7692307692308\"></rect>\n",
    "         <rect fill=\"#333333\" height=\"23.46153846153846\" stroke=\"#000000\" stroke-linecap=\"round\" stroke-linejoin=\"mitre\" stroke-width=\"0.9\" width=\"28.524000549316405\" x=\"327.9519989013672\" xmlns=\"http://www.w3.org/2000/svg\" y=\"298.53846153846155\"></rect>\n",
    "         <text fill=\"#000000\" font-family=\"Crimson Text\" font-size=\"19.84\" text-anchor=\"end\" transform=\"translate(337.8719989013672 341.84) rotate(-40)\" x=\"0\" xmlns=\"http://www.w3.org/2000/svg\" y=\"0\">offered incentive</text>\n",
    "         <text fill=\"#000000\" font-family=\"Crimson Text\" font-size=\"19.84\" text-anchor=\"middle\" transform=\"translate(242.37999725341797 24)\">Municipalities’ Responses to Inquiries </text>\n",
    "         <text fill=\"#000000\" font-family=\"Crimson Text\" font-size=\"19.84\" text-anchor=\"middle\" transform=\"translate(242.37999725341797 48)\">about Potential Incentives for Firm</text>\n",
    "         <rect fill=\"none\" height=\"71\" stroke=\"#000000\" stroke-linejoin=\"mitre\" stroke-width=\"0.9\" width=\"280.1479034423828\" x=\"67.4260482788086\" xmlns=\"http://www.w3.org/2000/svg\" y=\"496.7376708984375\"></rect>\n",
    "         <rect fill=\"#B3B3B3\" height=\"12\" stroke=\"#000000\" stroke-linejoin=\"mitre\" stroke-width=\"0.9\" width=\"12\" x=\"74.4260482788086\" xmlns=\"http://www.w3.org/2000/svg\" y=\"508.7376708984375\"></rect>\n",
    "         <text fill=\"#000000\" font-family=\"Crimson Text\" font-size=\"19.84\" text-anchor=\"top\" transform=\"translate(96.4260482788086 520.7376708984375)\"> announcement before election</text>\n",
    "         <rect fill=\"#333333\" height=\"12\" stroke=\"#000000\" stroke-linejoin=\"mitre\" stroke-width=\"0.9\" width=\"12\" x=\"74.4260482788086\" xmlns=\"http://www.w3.org/2000/svg\" y=\"540.7376708984375\"></rect>\n",
    "         <text fill=\"#000000\" font-family=\"Crimson Text\" font-size=\"19.84\" text-anchor=\"top\" transform=\"translate(96.4260482788086 552.7376708984375)\"> announcement after election</text>\n",
    "      </g>\n",
    "   </svg>\n",
    "</figure>\n",
    "<div aria-label=\"Long description for bar graph titled Municipalities’ Responses to Inquiries about Potential Incentives for Firm\" class=\"sr-only\" role=\"region\">\n",
    "   <ul>\n",
    "      +\n",
    "      <li>\n",
    "         For each data category, the following bars are shown: <br/>                                                                                                                                                                                                                                                                                                                                                                                                                                                                                                                                                                                                                                                                                                                                                                                                                                                                                                                                                                                                                                                                                                                                                                                                                                                                                                                                                                                                                                                                                                                                                                                                                                                                                                                                                                                                                                                                                                                                                                                                                                                                                                                                                                                                                                                                                                                                                                                                                                                                                                                                                                                                                                                                                                                                                                                                                                                                                                                                                                                                                                                                                                                                                                                                                                                                                                                                                                                                                                                                                                                                                                                                                                                                                                                                                                                                                                                                                                                                                                                                                                                                                                                                                                                                                                                                                                                                                                                                                                                                                                                                                                                                                                                                                                                                                                                                                                                                                                                                                                                                                                                                                                                                                                                                                                                                                                                                                                                                                                                                                                                                                                                                                                                                                                                                                                                                                                                                                                                                                                                                                                                                                                                                                                                                                                                                                                                                                                                                                                                                                                                                                                                                                                                                                                                                                                                                                                                                                                                                                                                                                                                                                                                                                                                                                                                                                                                                                                                                                                                                                                                                                                                                                                                                                                                                                                                                                                                                                                                                                                                                                                                                                                                                                                                                                                                                                                                                                                                                                                                                                                                                                                                                                                                                                                                                                                                                                                                                                                                                                                                                                                                                                                                                                                                                                                                                                                                                                                                                                                                                                                                                                                                                                                                                                                                                                                                                                                                                                                                                                                                                                                                                                                                                                                                                                                                                                                                                                                                                                                                                                                                                                                                                                                                                                                                                                                                                                                                                                                                                                                                                                                                                                                                                                                                                                                                                                                                                                                                                                                                                                                                                                                                                                                                                                                                                                                                                                                                                                                                                                                                                                                                                                                                                                                                                                                                                                                                                                                                                                                                                                                                                                                                                                                                                                                                                                                                                           +\n",
    "         <ul>\n",
    "            +\n",
    "            <li>announcement before election</li>\n",
    "            +\n",
    "            <li>announcement after election</li>\n",
    "            +\n",
    "         </ul>\n",
    "         +\n",
    "      </li>\n",
    "      +\n",
    "      <li>\n",
    "         The data for the 3 categories are as follows: <br/>                                                                                                                                                                                                                                                                                                                                                                                                                                                                                                                                                                                                                                                                                                                                                                                                                                                                                                                                                                                                                                                                                                                                                                                                                                                                                                                                                                                                                                                                                                                                                                                                                                                                                                                                                                                                                                                                                                                                                                                                                                                                                                                                                                                                                                                                                                                                                                                                                                                                                                                                                                                                                                                                                                                                                                                                                                                                                                                                                                                                                                                                                                                                                                                                                                                                                                                                                                                                                                                                                                                                                                                                                                                                                                                                                                                                                                                                                                                                                                                                                                                                                                                                                                                                                                                                                                                                                                                                                                                                                                                                                                                                                                                                                                                                                                                                                                                                                                                                                                                                                                                                                                                                                                                                                                                                                                                                                                                                                                                                                                                                                                                                                                                                                                                                                                                                                                                                                                                                                                                                                                                                                                                                                                                                                                                                                                                                                                                                                                                                                                                                                                                                                                                                                                                                                                                                                                                                                                                                                                                                                                                                                                                                                                                                                                                                                                                                                                                                                                                                                                                                                                                                                                                                                                                                                                                                                                                                                                                                                                                                                                                                                                                                                                                                                                                                                                                                                                                                                                                                                                                                                                                                                                                                                                                                                                                                                                                                                                                                                                                                                                                                                                                                                                                                                                                                                                                                                                                                                                                                                                                                                                                                                                                                                                                                                                                                                                                                                                                                                                                                                                                                                                                                                                                                                                                                                                                                                                                                                                                                                                                                                                                                                                                                                                                                                                                                                                                                                                                                                                                                                                                                                                                                                                                                                                                                                                                                                                                                                                                                                                                                                                                                                                                                                                                                                                                                                                                                                                                                                                                                                                                                                                                                                                                                                                                                                                                                                                                                                                                                                                                                                                                                                                                                                                                                                                                                                   +\n",
    "         <ul>\n",
    "            +\n",
    "            <li>\n",
    "               no response:                                                                                                                                                                                                                                                                                                                                                                                                                                                                                                                                                                                                                                                                                                                                                                                                                                                                                                                                                                                                                                                                                                                                                                                                                                                                                                                                                                                                                                                                                                                                                                                                                                                                                                                                                                                                                                                                                                                                                                                                                                                                                                                                                                                                                                                                                                                                                                                                                                                                                                                                                                                                                                                                                                                                                                                                                                                                                                                                                                                                                                                                                                                                                                                                                                                                                                                                                                                                                                                                                                                                                                                                                                                                                                                                                                                                                                                                                                                                                                                                                                                                                                                                                                                                                                                                                                                                                                                                                                                                                                                                                                                                                                                                                                                                                                                                                                                                                                                                                                                                                                                                                                                                                                                                                                                                                                                                                                                                                                                                                                                                                                                                                                                                                                                                                                                                                                                                                                                                                                                                                                                                                                                                                                                                                                                                                                                                                                                                                                                                                                                                                                                                                                                                                                                                                                                                                                                                                                                                                                                                                                                                                                                                                                                                                                                                                                                                                                                                                                                                                                                                                                                                                                                                                                                                                                                                                                                                                                                                                                                                                                                                                                                                                                                                                                                                                                                                                                                                                                                                                                                                                                                                                                                                                                                                                                                                                                                                                                                                                                                                                                                                                                                                                                                                                                                                                                                                                                                                                                                                                                                                                                                                                                                                                                                                                                                                                                                                                                                                                                                                                                                                                                                                                                                                                                                                                                                                                                                                                                                                                                                                                                                                                                                                                                                                                                                                                                                                                                                                                                                                                                                                                                                                                                                                                                                                                                                                                                                                                                                                                                                                                                                                                                                                                                                                                                                                                                                                                                                                                                                                                                                                                                                                                                                                                                                                                                                                                                                                                                                                                                                                                                                                                                                                                                                                                                                                                                                          +\n",
    "               <ul>\n",
    "                  +\n",
    "                  <li>announcement before election: 1,252</li>\n",
    "                  +\n",
    "                  <li>announcement after election: 1,248</li>\n",
    "                  +\n",
    "               </ul>\n",
    "               +\n",
    "            </li>\n",
    "            +\n",
    "            <li>\n",
    "               responded to inquiry:                                                                                                                                                                                                                                                                                                                                                                                                                                                                                                                                                                                                                                                                                                                                                                                                                                                                                                                                                                                                                                                                                                                                                                                                                                                                                                                                                                                                                                                                                                                                                                                                                                                                                                                                                                                                                                                                                                                                                                                                                                                                                                                                                                                                                                                                                                                                                                                                                                                                                                                                                                                                                                                                                                                                                                                                                                                                                                                                                                                                                                                                                                                                                                                                                                                                                                                                                                                                                                                                                                                                                                                                                                                                                                                                                                                                                                                                                                                                                                                                                                                                                                                                                                                                                                                                                                                                                                                                                                                                                                                                                                                                                                                                                                                                                                                                                                                                                                                                                                                                                                                                                                                                                                                                                                                                                                                                                                                                                                                                                                                                                                                                                                                                                                                                                                                                                                                                                                                                                                                                                                                                                                                                                                                                                                                                                                                                                                                                                                                                                                                                                                                                                                                                                                                                                                                                                                                                                                                                                                                                                                                                                                                                                                                                                                                                                                                                                                                                                                                                                                                                                                                                                                                                                                                                                                                                                                                                                                                                                                                                                                                                                                                                                                                                                                                                                                                                                                                                                                                                                                                                                                                                                                                                                                                                                                                                                                                                                                                                                                                                                                                                                                                                                                                                                                                                                                                                                                                                                                                                                                                                                                                                                                                                                                                                                                                                                                                                                                                                                                                                                                                                                                                                                                                                                                                                                                                                                                                                                                                                                                                                                                                                                                                                                                                                                                                                                                                                                                                                                                                                                                                                                                                                                                                                                                                                                                                                                                                                                                                                                                                                                                                                                                                                                                                                                                                                                                                                                                                                                                                                                                                                                                                                                                                                                                                                                                                                                                                                                                                                                                                                                                                                                                                                                                                                                                                                                                                 +\n",
    "               <ul>\n",
    "                  +\n",
    "                  <li>announcement before election: 207</li>\n",
    "                  +\n",
    "                  <li>announcement after election: 205</li>\n",
    "                  +\n",
    "               </ul>\n",
    "               +\n",
    "            </li>\n",
    "            +\n",
    "            <li>\n",
    "               offered incentive:                                                                                                                                                                                                                                                                                                                                                                                                                                                                                                                                                                                                                                                                                                                                                                                                                                                                                                                                                                                                                                                                                                                                                                                                                                                                                                                                                                                                                                                                                                                                                                                                                                                                                                                                                                                                                                                                                                                                                                                                                                                                                                                                                                                                                                                                                                                                                                                                                                                                                                                                                                                                                                                                                                                                                                                                                                                                                                                                                                                                                                                                                                                                                                                                                                                                                                                                                                                                                                                                                                                                                                                                                                                                                                                                                                                                                                                                                                                                                                                                                                                                                                                                                                                                                                                                                                                                                                                                                                                                                                                                                                                                                                                                                                                                                                                                                                                                                                                                                                                                                                                                                                                                                                                                                                                                                                                                                                                                                                                                                                                                                                                                                                                                                                                                                                                                                                                                                                                                                                                                                                                                                                                                                                                                                                                                                                                                                                                                                                                                                                                                                                                                                                                                                                                                                                                                                                                                                                                                                                                                                                                                                                                                                                                                                                                                                                                                                                                                                                                                                                                                                                                                                                                                                                                                                                                                                                                                                                                                                                                                                                                                                                                                                                                                                                                                                                                                                                                                                                                                                                                                                                                                                                                                                                                                                                                                                                                                                                                                                                                                                                                                                                                                                                                                                                                                                                                                                                                                                                                                                                                                                                                                                                                                                                                                                                                                                                                                                                                                                                                                                                                                                                                                                                                                                                                                                                                                                                                                                                                                                                                                                                                                                                                                                                                                                                                                                                                                                                                                                                                                                                                                                                                                                                                                                                                                                                                                                                                                                                                                                                                                                                                                                                                                                                                                                                                                                                                                                                                                                                                                                                                                                                                                                                                                                                                                                                                                                                                                                                                                                                                                                                                                                                                                                                                                                                                                                                                    +\n",
    "               <ul>\n",
    "                  +\n",
    "                  <li>announcement before election: 128</li>\n",
    "                  +\n",
    "                  <li>announcement after election: 122</li>\n",
    "                  +\n",
    "               </ul>\n",
    "               +\n",
    "            </li>\n",
    "            +\n",
    "         </ul>\n",
    "         +\n",
    "      </li>\n",
    "      +\n",
    "   </ul>\n",
    "</div>\n",
    "+\n",
    "<p>In the United States, firms often seek incentives from municipal governments to expand to those municipalities. A team of political scientists hypothesized that municipalities are much more likely to respond to firms and offer incentives if expansions can be announced in time to benefit local elected officials than if they can’t. The team contacted officials in thousands of municipalities, inquiring about incentives for a firm looking to expand and indicating that the firm would announce its expansion on a date either just before or just after the next election. </p>\n",
    "\n",
    "<p>Which choice best describes data from the graph that weaken the team&rsquo;s hypothesis?</p>\n",
    "\n",
    "A. <p>A large majority of the municipalities that received an inquiry mentioning plans for an announcement before the next election didn&rsquo;t respond to the inquiry.</p>\n",
    "B. <p>The proportion of municipalities that responded to the inquiry or offered incentives didn&rsquo;t substantially differ across the announcement timing conditions.&nbsp;</p>\n",
    "C. <p>Only around half the municipalities that responded to inquiries mentioning plans for an announcement before the next election offered incentives.&nbsp;</p>\n",
    "D. <p>Of the municipalities that received an inquiry mentioning plans for an announcement date after the next election, more than 1,200 didn&rsquo;t respond and only around 100 offered incentives.</p>\n",
    "\"\"\"\n",
    "\n",
    "output_query(query)"
   ]
  },
  {
   "cell_type": "markdown",
   "id": "29963e21",
   "metadata": {
    "papermill": {
     "duration": null,
     "end_time": null,
     "exception": null,
     "start_time": null,
     "status": "pending"
    },
    "tags": []
   },
   "source": [
    "In this case, sanitizing the output makes the results more semantically relevant, because the svg (garbage data to the LLM) is omitted for the most part and has minimal impact over the data. "
   ]
  },
  {
   "cell_type": "code",
   "execution_count": null,
   "id": "5bfb70ed",
   "metadata": {
    "execution": {
     "iopub.execute_input": "2025-04-18T22:35:20.168521Z",
     "iopub.status.busy": "2025-04-18T22:35:20.168189Z",
     "iopub.status.idle": "2025-04-18T22:35:25.148619Z",
     "shell.execute_reply": "2025-04-18T22:35:25.147886Z",
     "shell.execute_reply.started": "2025-04-18T22:35:20.168491Z"
    },
    "papermill": {
     "duration": null,
     "end_time": null,
     "exception": null,
     "start_time": null,
     "status": "pending"
    },
    "tags": []
   },
   "outputs": [],
   "source": [
    "output_query(sanitize(query))"
   ]
  },
  {
   "cell_type": "markdown",
   "id": "5bf2845a",
   "metadata": {
    "papermill": {
     "duration": null,
     "end_time": null,
     "exception": null,
     "start_time": null,
     "status": "pending"
    },
    "tags": []
   },
   "source": [
    "By sanitizing the output, even though you are essentially trimming HTML and data the LLM can't understand, you can end up with less relevant answers. Therefore, it is important to always sanitize the questions of unnecessary HTML that tampers with the semantic meaning."
   ]
  },
  {
   "cell_type": "markdown",
   "id": "5daf0fa2",
   "metadata": {
    "papermill": {
     "duration": null,
     "end_time": null,
     "exception": null,
     "start_time": null,
     "status": "pending"
    },
    "tags": []
   },
   "source": [
    "## Limitations\n",
    "The relevance of the semantic question finder is limited by the model's understanding of the questions' underlying meanings. The embeddings may require fine-tuning so that the details relevant to the SAT are captured more precisely. "
   ]
  },
  {
   "cell_type": "markdown",
   "id": "bc779466",
   "metadata": {
    "papermill": {
     "duration": null,
     "end_time": null,
     "exception": null,
     "start_time": null,
     "status": "pending"
    },
    "tags": []
   },
   "source": [
    "# Evaluating Usability of SAT Specs Data\n",
    "This is a demo of an attempted RAG pipeline using the SAT specs pdf. It did not work, however it provided some insights on how specific the PDF needs to be. The model cannot embed and find relevant chunks if there is a lot of noise."
   ]
  },
  {
   "cell_type": "code",
   "execution_count": null,
   "id": "5fa6216c",
   "metadata": {
    "execution": {
     "iopub.execute_input": "2025-04-18T22:35:25.149617Z",
     "iopub.status.busy": "2025-04-18T22:35:25.149354Z",
     "iopub.status.idle": "2025-04-18T22:35:30.351304Z",
     "shell.execute_reply": "2025-04-18T22:35:30.350259Z",
     "shell.execute_reply.started": "2025-04-18T22:35:25.149594Z"
    },
    "papermill": {
     "duration": null,
     "end_time": null,
     "exception": null,
     "start_time": null,
     "status": "pending"
    },
    "tags": []
   },
   "outputs": [],
   "source": [
    "from google.genai.types import GenerateContentConfig\n",
    "\n",
    "question = {\n",
    "        \"question\" : \"\"\"\n",
    "In a paper about p-i-n planar perovskite solar cells (one of several perovskite cell architectures designed to collect and store solar power), Lyndsey McMillon-Brown et al. described a method for fabricating the cell’s electronic transport layer (ETL) using a spray coating. Conventional ETL fabrication is accomplished using a solution of nanoparticles. The process can result in a loss of up to 80% of the solution, increasing the cost of manufacturing at scale—an issue that may be obviated by spray coating fabrication, which the researchers describe as “highly reproducible, concise, and practical.”\n",
    "\n",
    "What does the text most strongly suggest about conventional ETL fabrication?\n",
    "A. It is less suitable for manufacturing large volumes of planar p-i-n perovskite solar cells than an alternative fabrication method may be.\n",
    "B. It is more expensive when manufacturing at scale than are processes for fabricating ETLs used in other perovskite solar cell architectures.\n",
    "C. It typically entails a greater loss of nanoparticle solution than do other established approaches for ETL fabrication.\n",
    "D. It is somewhat imprecise and therefore limits the potential effectiveness of p-i-n planar perovskite solar cells at capturing and storing solar power.\n",
    "\"\"\",\n",
    "        \"rationale\" : \"\"\"\n",
    "Choice A is the best answer. Conventional solar cell fabrication increases “the cost of manufacturing at scale,” but spray coating might get rid of that problem.\n",
    "\n",
    "Choice B is incorrect. This is not completely supported by the text. While it’s true that conventional ETL fabrication is expensive at scale, there’s nothing in the text that mentions other perovskite solar cell architectures. Choice C is incorrect. This choice does not match the text. Only one conventional method of ETL fabrication is described, so we can’t compare the solution loss in this method to that of other conventional methods. Choice D is incorrect. This choice isn’t supported by the text. The text never suggests that the effectiveness of solar cells changes based on their method of fabrication. \n",
    "\"\"\",\n",
    "        \"user_answer\" : \"C\",\n",
    "        \"user_rationale\": \"Isn't the new method of ETL fabrication the same as the 'established methods'\",\n",
    "}\n",
    "\n",
    "response = client.models.generate_content(\n",
    "    model=\"gemini-2.0-flash-001\",\n",
    "    contents=f\"{question['question']} {question['rationale']}\\n The user got: {question['user_answer']}\\n {question['user_rationale']}\",\n",
    "    config=GenerateContentConfig(\n",
    "        system_instruction=[\n",
    "            \"You are an SAT expert tutor. Analyze questions using the official SAT framework. \",\n",
    "            \"Help students by:\\n\",\n",
    "            \"1. Identifying question type and skills tested\\n\",\n",
    "            \"2. Explaining why answers are correct/incorrect\\n\",\n",
    "            \"3. Providing actionable improvement strategies\\n\",\n",
    "            \"Use formal but friendly language. Reference the SAT specs when possible.\",\n",
    "        ]\n",
    "    ),\n",
    ")\n",
    "\n",
    "\n",
    "Markdown(response.text)"
   ]
  },
  {
   "cell_type": "markdown",
   "id": "e86e2c62",
   "metadata": {
    "papermill": {
     "duration": null,
     "end_time": null,
     "exception": null,
     "start_time": null,
     "status": "pending"
    },
    "tags": []
   },
   "source": [
    "## Parse PDF\n",
    "The following code uses lossy conversion to turn the PDF into readable text."
   ]
  },
  {
   "cell_type": "markdown",
   "id": "f9dbcda1",
   "metadata": {
    "papermill": {
     "duration": null,
     "end_time": null,
     "exception": null,
     "start_time": null,
     "status": "pending"
    },
    "tags": []
   },
   "source": [
    "Information like tables and images will be lost in the process, as demonstrated by the following snippet."
   ]
  },
  {
   "cell_type": "code",
   "execution_count": null,
   "id": "72f05081",
   "metadata": {
    "execution": {
     "iopub.execute_input": "2025-04-18T22:35:30.352628Z",
     "iopub.status.busy": "2025-04-18T22:35:30.352354Z",
     "iopub.status.idle": "2025-04-18T22:35:31.035344Z",
     "shell.execute_reply": "2025-04-18T22:35:31.034534Z",
     "shell.execute_reply.started": "2025-04-18T22:35:30.352606Z"
    },
    "papermill": {
     "duration": null,
     "end_time": null,
     "exception": null,
     "start_time": null,
     "status": "pending"
    },
    "tags": []
   },
   "outputs": [],
   "source": [
    "from PyPDF2 import PdfReader\n",
    "from io import BytesIO\n",
    "import requests\n",
    "\n",
    "url = \"https://www.w3.org/WAI/WCAG20/Techniques/working-examples/PDF20/table.pdf\"\n",
    "response = requests.get(url)\n",
    "pdf_bytes = BytesIO(response.content)\n",
    "\n",
    "text = \"\"\n",
    "pdf_reader = PdfReader(pdf_bytes)\n",
    "for page in pdf_reader.pages:\n",
    "    text += page.extract_text()\n",
    "\n",
    "print(text[0:1000])"
   ]
  },
  {
   "cell_type": "code",
   "execution_count": null,
   "id": "7c15016c",
   "metadata": {
    "execution": {
     "iopub.execute_input": "2025-04-18T22:35:31.036298Z",
     "iopub.status.busy": "2025-04-18T22:35:31.036058Z",
     "iopub.status.idle": "2025-04-18T22:35:35.987979Z",
     "shell.execute_reply": "2025-04-18T22:35:35.987254Z",
     "shell.execute_reply.started": "2025-04-18T22:35:31.036274Z"
    },
    "papermill": {
     "duration": null,
     "end_time": null,
     "exception": null,
     "start_time": null,
     "status": "pending"
    },
    "tags": []
   },
   "outputs": [],
   "source": [
    "# Download the PDF using requests\n",
    "url = \"https://satsuite.collegeboard.org/media/pdf/assessment-framework-for-digital-sat-suite.pdf\"\n",
    "\n",
    "response = requests.get(url)\n",
    "pdf_bytes = BytesIO(response.content)\n",
    "\n",
    "print(type(pdf_bytes))\n",
    "\n",
    "specs_text = \"\"\n",
    "pdf_reader = PdfReader(pdf_bytes)\n",
    "for page in pdf_reader.pages:\n",
    "    specs_text += page.extract_text()\n",
    "\n",
    "print(specs_text[0:1000])"
   ]
  },
  {
   "cell_type": "markdown",
   "id": "b92ebc9d",
   "metadata": {
    "papermill": {
     "duration": null,
     "end_time": null,
     "exception": null,
     "start_time": null,
     "status": "pending"
    },
    "tags": []
   },
   "source": [
    "This text data might be too big for the model to contain within the prompt."
   ]
  },
  {
   "cell_type": "code",
   "execution_count": null,
   "id": "9f6115da",
   "metadata": {
    "execution": {
     "iopub.execute_input": "2025-04-18T22:35:35.989013Z",
     "iopub.status.busy": "2025-04-18T22:35:35.988782Z",
     "iopub.status.idle": "2025-04-18T22:35:38.323896Z",
     "shell.execute_reply": "2025-04-18T22:35:38.322709Z",
     "shell.execute_reply.started": "2025-04-18T22:35:35.988989Z"
    },
    "papermill": {
     "duration": null,
     "end_time": null,
     "exception": null,
     "start_time": null,
     "status": "pending"
    },
    "tags": []
   },
   "outputs": [],
   "source": [
    "client.models.count_tokens(\n",
    "    model=model, contents=specs_text\n",
    ").total_tokens"
   ]
  },
  {
   "cell_type": "markdown",
   "id": "3fa86e3b",
   "metadata": {
    "papermill": {
     "duration": null,
     "end_time": null,
     "exception": null,
     "start_time": null,
     "status": "pending"
    },
    "tags": []
   },
   "source": [
    "That's a pretty significant size! The only way to incorporate the PDF properly is to chunk it."
   ]
  },
  {
   "cell_type": "markdown",
   "id": "35f08b62",
   "metadata": {
    "papermill": {
     "duration": null,
     "end_time": null,
     "exception": null,
     "start_time": null,
     "status": "pending"
    },
    "tags": []
   },
   "source": [
    "## Chunk the Parsed PDF\n",
    "In order to use the PDF, we need to \"chunk\" it so bits of relevant information can be accessed at a time. In order to maximize efficiency, a vector search database will be used, as the likelihood that any key words in the question will appear on the SAT is effectively zero. "
   ]
  },
  {
   "cell_type": "code",
   "execution_count": null,
   "id": "7c37f491",
   "metadata": {
    "execution": {
     "iopub.execute_input": "2025-04-18T22:35:38.324869Z",
     "iopub.status.busy": "2025-04-18T22:35:38.324636Z",
     "iopub.status.idle": "2025-04-18T22:35:38.361541Z",
     "shell.execute_reply": "2025-04-18T22:35:38.360774Z",
     "shell.execute_reply.started": "2025-04-18T22:35:38.324847Z"
    },
    "papermill": {
     "duration": null,
     "end_time": null,
     "exception": null,
     "start_time": null,
     "status": "pending"
    },
    "tags": []
   },
   "outputs": [],
   "source": [
    "from langchain_text_splitters import RecursiveCharacterTextSplitter\n",
    "\n",
    "text_splitter = RecursiveCharacterTextSplitter(\n",
    "    # Set a really small chunk size, just to show.\n",
    "    chunk_size=1024,\n",
    "    chunk_overlap=102,\n",
    "    length_function=len,\n",
    "    is_separator_regex=False,\n",
    ")\n",
    "\n",
    "chunked_specs_text = text_splitter.split_text(specs_text)"
   ]
  },
  {
   "cell_type": "markdown",
   "id": "86323785",
   "metadata": {
    "papermill": {
     "duration": null,
     "end_time": null,
     "exception": null,
     "start_time": null,
     "status": "pending"
    },
    "tags": []
   },
   "source": [
    "Check out the chunks:"
   ]
  },
  {
   "cell_type": "markdown",
   "id": "417950bc",
   "metadata": {
    "papermill": {
     "duration": null,
     "end_time": null,
     "exception": null,
     "start_time": null,
     "status": "pending"
    },
    "tags": []
   },
   "source": []
  },
  {
   "cell_type": "code",
   "execution_count": null,
   "id": "86c22869",
   "metadata": {
    "execution": {
     "iopub.execute_input": "2025-04-18T22:35:38.362376Z",
     "iopub.status.busy": "2025-04-18T22:35:38.362202Z",
     "iopub.status.idle": "2025-04-18T22:35:38.367006Z",
     "shell.execute_reply": "2025-04-18T22:35:38.366093Z",
     "shell.execute_reply.started": "2025-04-18T22:35:38.362361Z"
    },
    "papermill": {
     "duration": null,
     "end_time": null,
     "exception": null,
     "start_time": null,
     "status": "pending"
    },
    "tags": []
   },
   "outputs": [],
   "source": [
    "print(len(chunked_specs_text))\n",
    "print(chunked_specs_text[0])"
   ]
  },
  {
   "cell_type": "markdown",
   "id": "7556786f",
   "metadata": {
    "papermill": {
     "duration": null,
     "end_time": null,
     "exception": null,
     "start_time": null,
     "status": "pending"
    },
    "tags": []
   },
   "source": [
    "## Initialize ReAct agent\n",
    "The model will instead be a ReAct agent and figure out what to search up and call that tool as an extension and we will see what happens\n",
    "\n",
    "We will start by finding a gemini model for embedding."
   ]
  },
  {
   "cell_type": "markdown",
   "id": "19e6db20",
   "metadata": {
    "papermill": {
     "duration": null,
     "end_time": null,
     "exception": null,
     "start_time": null,
     "status": "pending"
    },
    "tags": []
   },
   "source": [
    "Now let's create a Chroma database client and add the document embeddings"
   ]
  },
  {
   "cell_type": "code",
   "execution_count": null,
   "id": "ac15bd7b",
   "metadata": {
    "execution": {
     "iopub.execute_input": "2025-04-18T22:35:38.368221Z",
     "iopub.status.busy": "2025-04-18T22:35:38.367889Z",
     "iopub.status.idle": "2025-04-18T22:35:50.783746Z",
     "shell.execute_reply": "2025-04-18T22:35:50.78291Z",
     "shell.execute_reply.started": "2025-04-18T22:35:38.368194Z"
    },
    "papermill": {
     "duration": null,
     "end_time": null,
     "exception": null,
     "start_time": null,
     "status": "pending"
    },
    "tags": []
   },
   "outputs": [],
   "source": [
    "import chromadb\n",
    "\n",
    "SPECS_DB_NAME = \"specs\"\n",
    "\n",
    "embed_fn = GeminiEmbeddingFunction()\n",
    "embed_fn.document_mode = True\n",
    "\n",
    "chroma_client = chromadb.Client()\n",
    "#print(chroma_client.list_collections())\n",
    "db = chroma_client.get_or_create_collection(name=SPECS_DB_NAME, embedding_function=embed_fn)\n",
    "for i in range(int(len(chunked_specs_text) / 100)):\n",
    "    db.add(documents=chunked_specs_text[i:100+i], ids=[str(i + j) for j in range(100)])"
   ]
  },
  {
   "cell_type": "markdown",
   "id": "409cc1b4",
   "metadata": {
    "papermill": {
     "duration": null,
     "end_time": null,
     "exception": null,
     "start_time": null,
     "status": "pending"
    },
    "tags": []
   },
   "source": [
    "Check out the database"
   ]
  },
  {
   "cell_type": "code",
   "execution_count": null,
   "id": "b01ad643",
   "metadata": {
    "execution": {
     "iopub.execute_input": "2025-04-18T22:35:50.784823Z",
     "iopub.status.busy": "2025-04-18T22:35:50.784632Z",
     "iopub.status.idle": "2025-04-18T22:35:50.799766Z",
     "shell.execute_reply": "2025-04-18T22:35:50.798968Z",
     "shell.execute_reply.started": "2025-04-18T22:35:50.784806Z"
    },
    "papermill": {
     "duration": null,
     "end_time": null,
     "exception": null,
     "start_time": null,
     "status": "pending"
    },
    "tags": []
   },
   "outputs": [],
   "source": [
    "db.count()\n",
    "db.peek(1)"
   ]
  },
  {
   "cell_type": "markdown",
   "id": "22bfb64f",
   "metadata": {
    "papermill": {
     "duration": null,
     "end_time": null,
     "exception": null,
     "start_time": null,
     "status": "pending"
    },
    "tags": []
   },
   "source": [
    "Let's look for *Information and Ideas* and see what relevant information the vector database finds on it."
   ]
  },
  {
   "cell_type": "code",
   "execution_count": null,
   "id": "3200bbc2",
   "metadata": {
    "execution": {
     "iopub.execute_input": "2025-04-18T22:35:50.800938Z",
     "iopub.status.busy": "2025-04-18T22:35:50.800685Z",
     "iopub.status.idle": "2025-04-18T22:35:51.110066Z",
     "shell.execute_reply": "2025-04-18T22:35:51.109431Z",
     "shell.execute_reply.started": "2025-04-18T22:35:50.800915Z"
    },
    "papermill": {
     "duration": null,
     "end_time": null,
     "exception": null,
     "start_time": null,
     "status": "pending"
    },
    "tags": []
   },
   "outputs": [],
   "source": [
    "# Switch to query mode when generating embeddings.\n",
    "embed_fn.document_mode = False\n",
    "\n",
    "# Search the Chroma DB using the specified query.\n",
    "query = \"What is the weighting of Information and Ideas?\"\n",
    "\n",
    "result = db.query(query_texts=[query], n_results=1)\n",
    "[all_passages] = result[\"documents\"]\n",
    "\n",
    "\n",
    "Markdown(all_passages[0])"
   ]
  },
  {
   "cell_type": "markdown",
   "id": "0ab92f1c",
   "metadata": {
    "papermill": {
     "duration": null,
     "end_time": null,
     "exception": null,
     "start_time": null,
     "status": "pending"
    },
    "tags": []
   },
   "source": [
    "Now let's look for something more generic, like scientific vocabulary or weighting of passages."
   ]
  },
  {
   "cell_type": "code",
   "execution_count": null,
   "id": "e79a1cfa",
   "metadata": {
    "execution": {
     "iopub.execute_input": "2025-04-18T22:35:51.110944Z",
     "iopub.status.busy": "2025-04-18T22:35:51.11078Z",
     "iopub.status.idle": "2025-04-18T22:35:51.880469Z",
     "shell.execute_reply": "2025-04-18T22:35:51.879716Z",
     "shell.execute_reply.started": "2025-04-18T22:35:51.110928Z"
    },
    "papermill": {
     "duration": null,
     "end_time": null,
     "exception": null,
     "start_time": null,
     "status": "pending"
    },
    "tags": []
   },
   "outputs": [],
   "source": [
    "# Switch to query mode when generating embeddings.\n",
    "embed_fn.document_mode = False\n",
    "\n",
    "# Search the Chroma DB using the specified query.\n",
    "query = \"What scientific stuff are we tested on?\"\n",
    "\n",
    "result = db.query(query_texts=[query], n_results=2)\n",
    "[all_passages] = result[\"documents\"]\n",
    "\n",
    "Markdown(all_passages[0])"
   ]
  },
  {
   "cell_type": "markdown",
   "id": "76163afc",
   "metadata": {
    "papermill": {
     "duration": null,
     "end_time": null,
     "exception": null,
     "start_time": null,
     "status": "pending"
    },
    "tags": []
   },
   "source": [
    "The information captured by the embedding model is not relevant to the question. Perhaps more results solve the problem?"
   ]
  },
  {
   "cell_type": "code",
   "execution_count": null,
   "id": "2cc29c82",
   "metadata": {
    "execution": {
     "iopub.execute_input": "2025-04-18T22:35:51.881271Z",
     "iopub.status.busy": "2025-04-18T22:35:51.881075Z",
     "iopub.status.idle": "2025-04-18T22:35:52.198924Z",
     "shell.execute_reply": "2025-04-18T22:35:52.198178Z",
     "shell.execute_reply.started": "2025-04-18T22:35:51.881254Z"
    },
    "papermill": {
     "duration": null,
     "end_time": null,
     "exception": null,
     "start_time": null,
     "status": "pending"
    },
    "tags": []
   },
   "outputs": [],
   "source": [
    "result = db.query(query_texts=[query], n_results=2)\n",
    "[all_passages] = result[\"documents\"]\n",
    "\n",
    "[print(passage) for passage in all_passages]"
   ]
  },
  {
   "cell_type": "markdown",
   "id": "6e9396f8",
   "metadata": {
    "papermill": {
     "duration": null,
     "end_time": null,
     "exception": null,
     "start_time": null,
     "status": "pending"
    },
    "tags": []
   },
   "source": [
    "There are unnecessary details in the original PDF. \"Garbage in, garbage out\" \n",
    "The solution is perhaps to distill the relevant information from the PDF into a text document, and look for other relevant information.\n",
    "# Synthesized Workflow\n",
    "Now let's merge the features of the individual features into one!\n",
    "Since the SAT Specs data was not helpful to the agent and the Question Finder does not require anything from the agent (until later iterations), the workflow for the agent will consist of a system prompt outlining context, the debate-style evaluation prompt and the prompt for multiple thinking processes. The user will be able to chat with the model normally to ask follow-up questions.\n",
    "\n",
    "## How it (may) look from the website's perspective\n",
    "The user will first get a question wrong. They'll press a button to launch the AI. The bot will ask, \"Why did you pick option X?\" and the user will enter their rationale. The debate-style prompt will be used for that purpose only. A button will be available for ToT processing, and the respective prompt will be subsituted for the query; at all other times, the user can ask specific questions or talk to the bot in an otherwise normal way.\n",
    "\n",
    "In essence, it allows a conversation to look like this: \n",
    "\n",
    "```\n",
    "Bot: Why did you pick option C?\n",
    "User: [...]\n",
    "Bot: Here's why answer C could be right: [...] And why A is right instead: [...]\n",
    "User: Maybe I should read through it slower?\n",
    "Bot: Absolutely! [...]\n",
    "User: [Generate Possible Reasoning Chain]\n",
    "Bot: [...]\n",
    "```\n",
    "\n",
    "## Implementation\n",
    "Let's first define an adaptable system prompt for the following workflow (this merged system prompt can also be evaluated against other variations! It isn't necessary for the scope of the notebook, so I won't include that here.)"
   ]
  },
  {
   "cell_type": "code",
   "execution_count": null,
   "id": "7f86e160",
   "metadata": {
    "execution": {
     "iopub.execute_input": "2025-04-18T22:35:52.199867Z",
     "iopub.status.busy": "2025-04-18T22:35:52.199674Z",
     "iopub.status.idle": "2025-04-18T22:35:52.202911Z",
     "shell.execute_reply": "2025-04-18T22:35:52.202232Z",
     "shell.execute_reply.started": "2025-04-18T22:35:52.199849Z"
    },
    "papermill": {
     "duration": null,
     "end_time": null,
     "exception": null,
     "start_time": null,
     "status": "pending"
    },
    "tags": []
   },
   "outputs": [],
   "source": [
    "system_prompt = \"\"\"\n",
    "You are an expert SAT tutor and answer analyst with two core capabilities:\n",
    "\n",
    "1. **Answer Evaluation Mode** (Triggered by answer comparison requests):\n",
    "- Evaluate both correct and student answers\n",
    "- Present strongest arguments FOR and AGAINST the student's answer\n",
    "- Explain why the correct answer is superior with textual evidence\n",
    "\n",
    "2. **Cognitive Analysis Mode** (Triggered by student mistake analysis requests):\n",
    "- Analyze SAT questions with official rationales\n",
    "- Identify cognitive biases in student thinking\n",
    "- Generate multiple plausible thinking processes\n",
    "- Output JSON array of thought pathways\n",
    "\n",
    "Always maintain capacity for:\n",
    "- Contextual follow-up questions\n",
    "- Additional analysis layers on existing content\n",
    "- Seamless switching between modes based on query type\n",
    "\"\"\""
   ]
  },
  {
   "cell_type": "markdown",
   "id": "7b3419bc",
   "metadata": {
    "papermill": {
     "duration": null,
     "end_time": null,
     "exception": null,
     "start_time": null,
     "status": "pending"
    },
    "tags": []
   },
   "source": [
    "The evaluation prompt:"
   ]
  },
  {
   "cell_type": "code",
   "execution_count": null,
   "id": "e6b5947c",
   "metadata": {
    "execution": {
     "iopub.execute_input": "2025-04-18T22:35:52.20388Z",
     "iopub.status.busy": "2025-04-18T22:35:52.203634Z",
     "iopub.status.idle": "2025-04-18T22:35:52.218399Z",
     "shell.execute_reply": "2025-04-18T22:35:52.217572Z",
     "shell.execute_reply.started": "2025-04-18T22:35:52.203857Z"
    },
    "papermill": {
     "duration": null,
     "end_time": null,
     "exception": null,
     "start_time": null,
     "status": "pending"
    },
    "tags": []
   },
   "outputs": [],
   "source": [
    "final_eval_prompt = \"\"\"\n",
    "Evaluate both the correct answer and the user's answer as potential responses to the question.\n",
    "\n",
    "*   Present the strongest possible argument *in favor* of the user's answer.\n",
    "*   Present the strongest possible argument *against* the user's answer.\n",
    "*   Explain why, ultimately, the correct answer is the superior choice based on textual evidence.\n",
    "\"\"\""
   ]
  },
  {
   "cell_type": "markdown",
   "id": "85a72b1e",
   "metadata": {
    "papermill": {
     "duration": null,
     "end_time": null,
     "exception": null,
     "start_time": null,
     "status": "pending"
    },
    "tags": []
   },
   "source": [
    "The prompt for multiple thinking processes:"
   ]
  },
  {
   "cell_type": "code",
   "execution_count": null,
   "id": "cd89199c",
   "metadata": {
    "execution": {
     "iopub.execute_input": "2025-04-18T22:35:52.219778Z",
     "iopub.status.busy": "2025-04-18T22:35:52.219447Z",
     "iopub.status.idle": "2025-04-18T22:35:52.230886Z",
     "shell.execute_reply": "2025-04-18T22:35:52.229794Z",
     "shell.execute_reply.started": "2025-04-18T22:35:52.219747Z"
    },
    "papermill": {
     "duration": null,
     "end_time": null,
     "exception": null,
     "start_time": null,
     "status": "pending"
    },
    "tags": []
   },
   "outputs": [],
   "source": [
    "final_thinking_prompt = \"\"\"You are an expert SAT tutor analyzing a student's mistake on an SAT question. You are provided with:\n",
    "\n",
    "1. The SAT question, including the text, answer choices, and the correct answer.\n",
    "2. The official rationale for the correct answer and why the other choices are incorrect.\n",
    "3. The student's chosen answer and their rationale for choosing that answer.\n",
    "4. An argument contrasting the user's answer with the correct answer.\n",
    "\n",
    "Consider potential cognitive biases (e.g., confirmation bias, anchoring bias, availability heuristic) that might have influenced the student's decision-making process. Develop multiple step-by-step thinking processes that incorporate these biases, leading to both the student's answer and the correct answer.\n",
    "\n",
    "Output a JSON array of objects. Each object represents a distinct thinking process and whether it leads to the user's answer or the correct answer. Include as many plausible thinking processes as possible, even if they seem obvious.\n",
    "\n",
    "Format:\n",
    "```json\n",
    "[\n",
    "    {\n",
    "        \"thinking_process\": \"[Here you will define a process step by step to get one of the answers]\",\n",
    "        \"leads_to\": \"user\" | \"correct\"\n",
    "    },\n",
    "    {\n",
    "        \"thinking_process\": \"[Here you will define another process step by step to get one of the answers]\",\n",
    "        \"leads_to\": \"user\" | \"correct\"\n",
    "    },\n",
    "    {\n",
    "        \"thinking_process\": \"[Include as many of these as possible!]\",\n",
    "        \"leads_to\": \"user\" | \"correct\"\n",
    "    },\n",
    "]\n",
    "```\n",
    "\"\"\""
   ]
  },
  {
   "cell_type": "markdown",
   "id": "9aa58543",
   "metadata": {
    "papermill": {
     "duration": null,
     "end_time": null,
     "exception": null,
     "start_time": null,
     "status": "pending"
    },
    "tags": []
   },
   "source": [
    "Here's a simulated workflow (context handled manually to stay consistent with above client objects and to simulate handling in the real backend):"
   ]
  },
  {
   "cell_type": "code",
   "execution_count": null,
   "id": "ad99dee5",
   "metadata": {
    "execution": {
     "iopub.execute_input": "2025-04-18T23:12:08.346546Z",
     "iopub.status.busy": "2025-04-18T23:12:08.346255Z",
     "iopub.status.idle": "2025-04-18T23:12:20.670073Z",
     "shell.execute_reply": "2025-04-18T23:12:20.668756Z",
     "shell.execute_reply.started": "2025-04-18T23:12:08.346526Z"
    },
    "papermill": {
     "duration": null,
     "end_time": null,
     "exception": null,
     "start_time": null,
     "status": "pending"
    },
    "tags": []
   },
   "outputs": [],
   "source": [
    "# Initialize conversation history\n",
    "conversation_history = []\n",
    "\n",
    "# First Request (Evaluation)\n",
    "eval_content = {\n",
    "    \"role\": \"user\",\n",
    "    \"parts\": [{\n",
    "        \"text\": f\"{final_eval_prompt}: \\n{question['question']} {question['rationale']}\\n The user got: {question['user_answer']}\\n {question['user_rationale']}\"\n",
    "    }]\n",
    "}\n",
    "\n",
    "response1 = client.models.generate_content(\n",
    "    model=model,\n",
    "    contents=[*conversation_history, eval_content],\n",
    "    config=GenerateContentConfig(\n",
    "        system_instruction=[system_prompt]\n",
    "    ),\n",
    ")\n",
    "\n",
    "# Update history with first interaction\n",
    "conversation_history.extend([\n",
    "    eval_content,\n",
    "    {\"role\": \"model\", \"parts\": [{\"text\": response1.text}]}\n",
    "])\n",
    "\n",
    "# Second Request (Analysis with JSON Schema)\n",
    "analysis_content = {\n",
    "    \"role\": \"user\", \n",
    "    \"parts\": [{\n",
    "        \"text\": final_thinking_prompt + \"\\n\" + str(question)\n",
    "    }]\n",
    "}\n",
    "\n",
    "\n",
    "response2 = client.models.generate_content(\n",
    "    model=\"gemini-2.0-flash-001\",\n",
    "    contents=[*conversation_history, analysis_content],\n",
    "    config=GenerateContentConfig(\n",
    "        system_instruction=[system_prompt],  # Fixed typo: sytem_prompt -> system_prompt\n",
    "        temperature=0.1,\n",
    "        response_mime_type=\"application/json\",\n",
    "        response_schema={\n",
    "  \"title\": \"SAT Analysis Response\",\n",
    "  \"description\": \"Response format for SAT mistake analysis using multiple thinking processes\",\n",
    "  \"type\": \"array\",\n",
    "  \"minItems\": 3,\n",
    "  \"maxItems\": 8,\n",
    "  \"items\": {\n",
    "    \"type\": \"object\",\n",
    "    \"properties\": {\n",
    "      \"thinking_process\": {\n",
    "        \"type\": \"string\",\n",
    "        \"description\": \"Step-by-step explanation of cognitive path leading to an answer choice\",\n",
    "        \"minLength\": 50,\n",
    "        \"maxLength\": 500\n",
    "      },\n",
    "      \"leads_to\": {\n",
    "        \"type\": \"string\",\n",
    "        \"enum\": [\"user\", \"correct\"],\n",
    "        \"description\": \"Indicates whether this thinking process leads to the student's answer or the correct answer\"\n",
    "      }\n",
    "    },\n",
    "    \"required\": [\"thinking_process\", \"leads_to\"],\n",
    "\n",
    "  }\n",
    "        }\n",
    "    ),\n",
    ")\n",
    "\n",
    "# Update history with second interaction\n",
    "conversation_history.extend([\n",
    "    analysis_content,\n",
    "    {\"role\": \"model\", \"parts\": [{\"text\": response2.text}]}\n",
    "])\n",
    "\n",
    "# Third Request (Simplification)\n",
    "simplify_content = {\n",
    "    \"role\": \"user\",\n",
    "    \"parts\": [{\"text\": \"Explain the confirmation bias example in simpler terms\"}]\n",
    "}\n",
    "\n",
    "response3 = client.models.generate_content(\n",
    "    model=model,\n",
    "    contents=[*conversation_history, simplify_content],\n",
    "    config=GenerateContentConfig(\n",
    "        system_instruction=[system_prompt]\n",
    "    ),\n",
    ")\n",
    "\n",
    "# Final history state\n",
    "conversation_history.extend([\n",
    "    simplify_content,\n",
    "    {\"role\": \"model\", \"parts\": [{\"text\": response3.text}]}\n",
    "])\n",
    "\n",
    "Markdown(response3.text)"
   ]
  },
  {
   "cell_type": "markdown",
   "id": "b41e8c3a",
   "metadata": {
    "papermill": {
     "duration": null,
     "end_time": null,
     "exception": null,
     "start_time": null,
     "status": "pending"
    },
    "tags": []
   },
   "source": [
    "# Conclusion\n",
    "Since the information about the SAT and its nuances aren't available online, data has to be collected over time to come up with this RAG pipeline. This feature will be implemented in the months to come.\n",
    "\n",
    "(c) Aquarc 2025\n",
    "\n",
    "Some parts of this Codelab are (c) Google 2025 under the Apache License.\n",
    "\n",
    "Questions are (c) CollegeBoard 2025. "
   ]
  }
 ],
 "metadata": {
  "kaggle": {
   "accelerator": "none",
   "dataSources": [],
   "dockerImageVersionId": 30918,
   "isGpuEnabled": false,
   "isInternetEnabled": true,
   "language": "python",
   "sourceType": "notebook"
  },
  "kernelspec": {
   "display_name": "Python 3",
   "language": "python",
   "name": "python3"
  },
  "language_info": {
   "codemirror_mode": {
    "name": "ipython",
    "version": 3
   },
   "file_extension": ".py",
   "mimetype": "text/x-python",
   "name": "python",
   "nbconvert_exporter": "python",
   "pygments_lexer": "ipython3",
   "version": "3.10.12"
  },
  "papermill": {
   "default_parameters": {},
   "duration": 42.072423,
   "end_time": "2025-04-19T21:52:54.577042",
   "environment_variables": {},
   "exception": true,
   "input_path": "__notebook__.ipynb",
   "output_path": "__notebook__.ipynb",
   "parameters": {},
   "start_time": "2025-04-19T21:52:12.504619",
   "version": "2.6.0"
  }
 },
 "nbformat": 4,
 "nbformat_minor": 5
}
